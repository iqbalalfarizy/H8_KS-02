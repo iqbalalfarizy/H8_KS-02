{
 "cells": [
  {
   "cell_type": "markdown",
   "metadata": {},
   "source": [
    "# Perkenalan"
   ]
  },
  {
   "cell_type": "markdown",
   "metadata": {},
   "source": [
    "## 1. Business Problem:\n",
    "### Tujuan utama dari explorasi dataset rideshare_kaggle adalah menemukan features apa yang paling mempengaruhi harga. Kemudian menggunakan features tersebut untuk menganalisa dan memprediksi harga kedepannya.\n",
    "\n",
    "## 2. Analytical Context:\n",
    "### Dataset rideshare_kaggle (https://www.kaggle.com/satyajitmaitra/linear-regression) memiliki 57 variables dan 693071 baris, dataset mengambil data dari tanggal 26-11-2018 sampai dengan 18-12-2018 dari perusahaan Uber dan Lyft. Untuk memudahkan kami hanya mengabil 10 variables yang dianggap paling berpengaruh terhadap harga."
   ]
  },
  {
   "cell_type": "markdown",
   "metadata": {},
   "source": [
    "# Import Pustaka"
   ]
  },
  {
   "cell_type": "code",
   "execution_count": 3,
   "metadata": {},
   "outputs": [],
   "source": [
    "import pandas as pd # Untuk manipulasi data\n",
    "import numpy as np # Untuk Operasi matematika\n",
    "import matplotlib.pyplot as plt # Untuk visualisasi\n",
    "import seaborn as sns # Untuk visualisasi data\n",
    "from sklearn.linear_model import LinearRegression # Model machine learning\n",
    "\n",
    "%matplotlib inline"
   ]
  },
  {
   "cell_type": "markdown",
   "metadata": {},
   "source": [
    "# Data Loading"
   ]
  },
  {
   "cell_type": "code",
   "execution_count": 4,
   "metadata": {},
   "outputs": [
    {
     "data": {
      "text/html": [
       "<div>\n",
       "<style scoped>\n",
       "    .dataframe tbody tr th:only-of-type {\n",
       "        vertical-align: middle;\n",
       "    }\n",
       "\n",
       "    .dataframe tbody tr th {\n",
       "        vertical-align: top;\n",
       "    }\n",
       "\n",
       "    .dataframe thead th {\n",
       "        text-align: right;\n",
       "    }\n",
       "</style>\n",
       "<table border=\"1\" class=\"dataframe\">\n",
       "  <thead>\n",
       "    <tr style=\"text-align: right;\">\n",
       "      <th></th>\n",
       "      <th>id</th>\n",
       "      <th>timestamp</th>\n",
       "      <th>hour</th>\n",
       "      <th>day</th>\n",
       "      <th>month</th>\n",
       "      <th>datetime</th>\n",
       "      <th>timezone</th>\n",
       "      <th>source</th>\n",
       "      <th>destination</th>\n",
       "      <th>cab_type</th>\n",
       "      <th>...</th>\n",
       "      <th>precipIntensityMax</th>\n",
       "      <th>uvIndexTime</th>\n",
       "      <th>temperatureMin</th>\n",
       "      <th>temperatureMinTime</th>\n",
       "      <th>temperatureMax</th>\n",
       "      <th>temperatureMaxTime</th>\n",
       "      <th>apparentTemperatureMin</th>\n",
       "      <th>apparentTemperatureMinTime</th>\n",
       "      <th>apparentTemperatureMax</th>\n",
       "      <th>apparentTemperatureMaxTime</th>\n",
       "    </tr>\n",
       "  </thead>\n",
       "  <tbody>\n",
       "    <tr>\n",
       "      <th>0</th>\n",
       "      <td>424553bb-7174-41ea-aeb4-fe06d4f4b9d7</td>\n",
       "      <td>1.544953e+09</td>\n",
       "      <td>9</td>\n",
       "      <td>16</td>\n",
       "      <td>12</td>\n",
       "      <td>2018-12-16 09:30:07</td>\n",
       "      <td>America/New_York</td>\n",
       "      <td>Haymarket Square</td>\n",
       "      <td>North Station</td>\n",
       "      <td>Lyft</td>\n",
       "      <td>...</td>\n",
       "      <td>0.1276</td>\n",
       "      <td>1544979600</td>\n",
       "      <td>39.89</td>\n",
       "      <td>1545012000</td>\n",
       "      <td>43.68</td>\n",
       "      <td>1544968800</td>\n",
       "      <td>33.73</td>\n",
       "      <td>1545012000</td>\n",
       "      <td>38.07</td>\n",
       "      <td>1544958000</td>\n",
       "    </tr>\n",
       "    <tr>\n",
       "      <th>1</th>\n",
       "      <td>4bd23055-6827-41c6-b23b-3c491f24e74d</td>\n",
       "      <td>1.543284e+09</td>\n",
       "      <td>2</td>\n",
       "      <td>27</td>\n",
       "      <td>11</td>\n",
       "      <td>2018-11-27 02:00:23</td>\n",
       "      <td>America/New_York</td>\n",
       "      <td>Haymarket Square</td>\n",
       "      <td>North Station</td>\n",
       "      <td>Lyft</td>\n",
       "      <td>...</td>\n",
       "      <td>0.1300</td>\n",
       "      <td>1543251600</td>\n",
       "      <td>40.49</td>\n",
       "      <td>1543233600</td>\n",
       "      <td>47.30</td>\n",
       "      <td>1543251600</td>\n",
       "      <td>36.20</td>\n",
       "      <td>1543291200</td>\n",
       "      <td>43.92</td>\n",
       "      <td>1543251600</td>\n",
       "    </tr>\n",
       "    <tr>\n",
       "      <th>2</th>\n",
       "      <td>981a3613-77af-4620-a42a-0c0866077d1e</td>\n",
       "      <td>1.543367e+09</td>\n",
       "      <td>1</td>\n",
       "      <td>28</td>\n",
       "      <td>11</td>\n",
       "      <td>2018-11-28 01:00:22</td>\n",
       "      <td>America/New_York</td>\n",
       "      <td>Haymarket Square</td>\n",
       "      <td>North Station</td>\n",
       "      <td>Lyft</td>\n",
       "      <td>...</td>\n",
       "      <td>0.1064</td>\n",
       "      <td>1543338000</td>\n",
       "      <td>35.36</td>\n",
       "      <td>1543377600</td>\n",
       "      <td>47.55</td>\n",
       "      <td>1543320000</td>\n",
       "      <td>31.04</td>\n",
       "      <td>1543377600</td>\n",
       "      <td>44.12</td>\n",
       "      <td>1543320000</td>\n",
       "    </tr>\n",
       "    <tr>\n",
       "      <th>3</th>\n",
       "      <td>c2d88af2-d278-4bfd-a8d0-29ca77cc5512</td>\n",
       "      <td>1.543554e+09</td>\n",
       "      <td>4</td>\n",
       "      <td>30</td>\n",
       "      <td>11</td>\n",
       "      <td>2018-11-30 04:53:02</td>\n",
       "      <td>America/New_York</td>\n",
       "      <td>Haymarket Square</td>\n",
       "      <td>North Station</td>\n",
       "      <td>Lyft</td>\n",
       "      <td>...</td>\n",
       "      <td>0.0000</td>\n",
       "      <td>1543507200</td>\n",
       "      <td>34.67</td>\n",
       "      <td>1543550400</td>\n",
       "      <td>45.03</td>\n",
       "      <td>1543510800</td>\n",
       "      <td>30.30</td>\n",
       "      <td>1543550400</td>\n",
       "      <td>38.53</td>\n",
       "      <td>1543510800</td>\n",
       "    </tr>\n",
       "    <tr>\n",
       "      <th>4</th>\n",
       "      <td>e0126e1f-8ca9-4f2e-82b3-50505a09db9a</td>\n",
       "      <td>1.543463e+09</td>\n",
       "      <td>3</td>\n",
       "      <td>29</td>\n",
       "      <td>11</td>\n",
       "      <td>2018-11-29 03:49:20</td>\n",
       "      <td>America/New_York</td>\n",
       "      <td>Haymarket Square</td>\n",
       "      <td>North Station</td>\n",
       "      <td>Lyft</td>\n",
       "      <td>...</td>\n",
       "      <td>0.0001</td>\n",
       "      <td>1543420800</td>\n",
       "      <td>33.10</td>\n",
       "      <td>1543402800</td>\n",
       "      <td>42.18</td>\n",
       "      <td>1543420800</td>\n",
       "      <td>29.11</td>\n",
       "      <td>1543392000</td>\n",
       "      <td>35.75</td>\n",
       "      <td>1543420800</td>\n",
       "    </tr>\n",
       "  </tbody>\n",
       "</table>\n",
       "<p>5 rows × 57 columns</p>\n",
       "</div>"
      ],
      "text/plain": [
       "                                     id     timestamp  hour  day  month  \\\n",
       "0  424553bb-7174-41ea-aeb4-fe06d4f4b9d7  1.544953e+09     9   16     12   \n",
       "1  4bd23055-6827-41c6-b23b-3c491f24e74d  1.543284e+09     2   27     11   \n",
       "2  981a3613-77af-4620-a42a-0c0866077d1e  1.543367e+09     1   28     11   \n",
       "3  c2d88af2-d278-4bfd-a8d0-29ca77cc5512  1.543554e+09     4   30     11   \n",
       "4  e0126e1f-8ca9-4f2e-82b3-50505a09db9a  1.543463e+09     3   29     11   \n",
       "\n",
       "              datetime          timezone            source    destination  \\\n",
       "0  2018-12-16 09:30:07  America/New_York  Haymarket Square  North Station   \n",
       "1  2018-11-27 02:00:23  America/New_York  Haymarket Square  North Station   \n",
       "2  2018-11-28 01:00:22  America/New_York  Haymarket Square  North Station   \n",
       "3  2018-11-30 04:53:02  America/New_York  Haymarket Square  North Station   \n",
       "4  2018-11-29 03:49:20  America/New_York  Haymarket Square  North Station   \n",
       "\n",
       "  cab_type  ... precipIntensityMax uvIndexTime  temperatureMin  \\\n",
       "0     Lyft  ...             0.1276  1544979600           39.89   \n",
       "1     Lyft  ...             0.1300  1543251600           40.49   \n",
       "2     Lyft  ...             0.1064  1543338000           35.36   \n",
       "3     Lyft  ...             0.0000  1543507200           34.67   \n",
       "4     Lyft  ...             0.0001  1543420800           33.10   \n",
       "\n",
       "   temperatureMinTime  temperatureMax  temperatureMaxTime  \\\n",
       "0          1545012000           43.68          1544968800   \n",
       "1          1543233600           47.30          1543251600   \n",
       "2          1543377600           47.55          1543320000   \n",
       "3          1543550400           45.03          1543510800   \n",
       "4          1543402800           42.18          1543420800   \n",
       "\n",
       "   apparentTemperatureMin  apparentTemperatureMinTime  apparentTemperatureMax  \\\n",
       "0                   33.73                  1545012000                   38.07   \n",
       "1                   36.20                  1543291200                   43.92   \n",
       "2                   31.04                  1543377600                   44.12   \n",
       "3                   30.30                  1543550400                   38.53   \n",
       "4                   29.11                  1543392000                   35.75   \n",
       "\n",
       "  apparentTemperatureMaxTime  \n",
       "0                 1544958000  \n",
       "1                 1543251600  \n",
       "2                 1543320000  \n",
       "3                 1543510800  \n",
       "4                 1543420800  \n",
       "\n",
       "[5 rows x 57 columns]"
      ]
     },
     "execution_count": 4,
     "metadata": {},
     "output_type": "execute_result"
    }
   ],
   "source": [
    "df = pd.read_csv('rideshare_kaggle.csv')\n",
    "df.head()"
   ]
  },
  {
   "cell_type": "code",
   "execution_count": 5,
   "metadata": {},
   "outputs": [
    {
     "data": {
      "text/plain": [
       "(693071, 57)"
      ]
     },
     "execution_count": 5,
     "metadata": {},
     "output_type": "execute_result"
    }
   ],
   "source": [
    "df.shape"
   ]
  },
  {
   "cell_type": "code",
   "execution_count": 6,
   "metadata": {},
   "outputs": [
    {
     "name": "stdout",
     "output_type": "stream",
     "text": [
      "<class 'pandas.core.frame.DataFrame'>\n",
      "RangeIndex: 693071 entries, 0 to 693070\n",
      "Data columns (total 57 columns):\n",
      " #   Column                       Non-Null Count   Dtype  \n",
      "---  ------                       --------------   -----  \n",
      " 0   id                           693071 non-null  object \n",
      " 1   timestamp                    693071 non-null  float64\n",
      " 2   hour                         693071 non-null  int64  \n",
      " 3   day                          693071 non-null  int64  \n",
      " 4   month                        693071 non-null  int64  \n",
      " 5   datetime                     693071 non-null  object \n",
      " 6   timezone                     693071 non-null  object \n",
      " 7   source                       693071 non-null  object \n",
      " 8   destination                  693071 non-null  object \n",
      " 9   cab_type                     693071 non-null  object \n",
      " 10  product_id                   693071 non-null  object \n",
      " 11  name                         693071 non-null  object \n",
      " 12  price                        637976 non-null  float64\n",
      " 13  distance                     693071 non-null  float64\n",
      " 14  surge_multiplier             693071 non-null  float64\n",
      " 15  latitude                     693071 non-null  float64\n",
      " 16  longitude                    693071 non-null  float64\n",
      " 17  temperature                  693071 non-null  float64\n",
      " 18  apparentTemperature          693071 non-null  float64\n",
      " 19  short_summary                693071 non-null  object \n",
      " 20  long_summary                 693071 non-null  object \n",
      " 21  precipIntensity              693071 non-null  float64\n",
      " 22  precipProbability            693071 non-null  float64\n",
      " 23  humidity                     693071 non-null  float64\n",
      " 24  windSpeed                    693071 non-null  float64\n",
      " 25  windGust                     693071 non-null  float64\n",
      " 26  windGustTime                 693071 non-null  int64  \n",
      " 27  visibility                   693071 non-null  float64\n",
      " 28  temperatureHigh              693071 non-null  float64\n",
      " 29  temperatureHighTime          693071 non-null  int64  \n",
      " 30  temperatureLow               693071 non-null  float64\n",
      " 31  temperatureLowTime           693071 non-null  int64  \n",
      " 32  apparentTemperatureHigh      693071 non-null  float64\n",
      " 33  apparentTemperatureHighTime  693071 non-null  int64  \n",
      " 34  apparentTemperatureLow       693071 non-null  float64\n",
      " 35  apparentTemperatureLowTime   693071 non-null  int64  \n",
      " 36  icon                         693071 non-null  object \n",
      " 37  dewPoint                     693071 non-null  float64\n",
      " 38  pressure                     693071 non-null  float64\n",
      " 39  windBearing                  693071 non-null  int64  \n",
      " 40  cloudCover                   693071 non-null  float64\n",
      " 41  uvIndex                      693071 non-null  int64  \n",
      " 42  visibility.1                 693071 non-null  float64\n",
      " 43  ozone                        693071 non-null  float64\n",
      " 44  sunriseTime                  693071 non-null  int64  \n",
      " 45  sunsetTime                   693071 non-null  int64  \n",
      " 46  moonPhase                    693071 non-null  float64\n",
      " 47  precipIntensityMax           693071 non-null  float64\n",
      " 48  uvIndexTime                  693071 non-null  int64  \n",
      " 49  temperatureMin               693071 non-null  float64\n",
      " 50  temperatureMinTime           693071 non-null  int64  \n",
      " 51  temperatureMax               693071 non-null  float64\n",
      " 52  temperatureMaxTime           693071 non-null  int64  \n",
      " 53  apparentTemperatureMin       693071 non-null  float64\n",
      " 54  apparentTemperatureMinTime   693071 non-null  int64  \n",
      " 55  apparentTemperatureMax       693071 non-null  float64\n",
      " 56  apparentTemperatureMaxTime   693071 non-null  int64  \n",
      "dtypes: float64(29), int64(17), object(11)\n",
      "memory usage: 301.4+ MB\n"
     ]
    }
   ],
   "source": [
    "df.info()"
   ]
  },
  {
   "cell_type": "code",
   "execution_count": 7,
   "metadata": {},
   "outputs": [
    {
     "data": {
      "text/plain": [
       "<bound method NDFrame.describe of                                           id     timestamp  hour  day  month  \\\n",
       "0       424553bb-7174-41ea-aeb4-fe06d4f4b9d7  1.544953e+09     9   16     12   \n",
       "1       4bd23055-6827-41c6-b23b-3c491f24e74d  1.543284e+09     2   27     11   \n",
       "2       981a3613-77af-4620-a42a-0c0866077d1e  1.543367e+09     1   28     11   \n",
       "3       c2d88af2-d278-4bfd-a8d0-29ca77cc5512  1.543554e+09     4   30     11   \n",
       "4       e0126e1f-8ca9-4f2e-82b3-50505a09db9a  1.543463e+09     3   29     11   \n",
       "...                                      ...           ...   ...  ...    ...   \n",
       "693066  616d3611-1820-450a-9845-a9ff304a4842  1.543708e+09    23    1     12   \n",
       "693067  633a3fc3-1f86-4b9e-9d48-2b7132112341  1.543708e+09    23    1     12   \n",
       "693068  64d451d0-639f-47a4-9b7c-6fd92fbd264f  1.543708e+09    23    1     12   \n",
       "693069  727e5f07-a96b-4ad1-a2c7-9abc3ad55b4e  1.543708e+09    23    1     12   \n",
       "693070  e7fdc087-fe86-40a5-a3c3-3b2a8badcbda  1.543708e+09    23    1     12   \n",
       "\n",
       "                   datetime          timezone            source  \\\n",
       "0       2018-12-16 09:30:07  America/New_York  Haymarket Square   \n",
       "1       2018-11-27 02:00:23  America/New_York  Haymarket Square   \n",
       "2       2018-11-28 01:00:22  America/New_York  Haymarket Square   \n",
       "3       2018-11-30 04:53:02  America/New_York  Haymarket Square   \n",
       "4       2018-11-29 03:49:20  America/New_York  Haymarket Square   \n",
       "...                     ...               ...               ...   \n",
       "693066  2018-12-01 23:53:05  America/New_York          West End   \n",
       "693067  2018-12-01 23:53:05  America/New_York          West End   \n",
       "693068  2018-12-01 23:53:05  America/New_York          West End   \n",
       "693069  2018-12-01 23:53:05  America/New_York          West End   \n",
       "693070  2018-12-01 23:53:05  America/New_York          West End   \n",
       "\n",
       "          destination cab_type  ... precipIntensityMax uvIndexTime  \\\n",
       "0       North Station     Lyft  ...             0.1276  1544979600   \n",
       "1       North Station     Lyft  ...             0.1300  1543251600   \n",
       "2       North Station     Lyft  ...             0.1064  1543338000   \n",
       "3       North Station     Lyft  ...             0.0000  1543507200   \n",
       "4       North Station     Lyft  ...             0.0001  1543420800   \n",
       "...               ...      ...  ...                ...         ...   \n",
       "693066      North End     Uber  ...             0.0000  1543683600   \n",
       "693067      North End     Uber  ...             0.0000  1543683600   \n",
       "693068      North End     Uber  ...             0.0000  1543683600   \n",
       "693069      North End     Uber  ...             0.0000  1543683600   \n",
       "693070      North End     Uber  ...             0.0000  1543683600   \n",
       "\n",
       "        temperatureMin  temperatureMinTime  temperatureMax  \\\n",
       "0                39.89          1545012000           43.68   \n",
       "1                40.49          1543233600           47.30   \n",
       "2                35.36          1543377600           47.55   \n",
       "3                34.67          1543550400           45.03   \n",
       "4                33.10          1543402800           42.18   \n",
       "...                ...                 ...             ...   \n",
       "693066           31.42          1543658400           44.76   \n",
       "693067           31.42          1543658400           44.76   \n",
       "693068           31.42          1543658400           44.76   \n",
       "693069           31.42          1543658400           44.76   \n",
       "693070           31.42          1543658400           44.76   \n",
       "\n",
       "        temperatureMaxTime  apparentTemperatureMin  \\\n",
       "0               1544968800                   33.73   \n",
       "1               1543251600                   36.20   \n",
       "2               1543320000                   31.04   \n",
       "3               1543510800                   30.30   \n",
       "4               1543420800                   29.11   \n",
       "...                    ...                     ...   \n",
       "693066          1543690800                   27.77   \n",
       "693067          1543690800                   27.77   \n",
       "693068          1543690800                   27.77   \n",
       "693069          1543690800                   27.77   \n",
       "693070          1543690800                   27.77   \n",
       "\n",
       "        apparentTemperatureMinTime  apparentTemperatureMax  \\\n",
       "0                       1545012000                   38.07   \n",
       "1                       1543291200                   43.92   \n",
       "2                       1543377600                   44.12   \n",
       "3                       1543550400                   38.53   \n",
       "4                       1543392000                   35.75   \n",
       "...                            ...                     ...   \n",
       "693066                  1543658400                   44.09   \n",
       "693067                  1543658400                   44.09   \n",
       "693068                  1543658400                   44.09   \n",
       "693069                  1543658400                   44.09   \n",
       "693070                  1543658400                   44.09   \n",
       "\n",
       "       apparentTemperatureMaxTime  \n",
       "0                      1544958000  \n",
       "1                      1543251600  \n",
       "2                      1543320000  \n",
       "3                      1543510800  \n",
       "4                      1543420800  \n",
       "...                           ...  \n",
       "693066                 1543690800  \n",
       "693067                 1543690800  \n",
       "693068                 1543690800  \n",
       "693069                 1543690800  \n",
       "693070                 1543690800  \n",
       "\n",
       "[693071 rows x 57 columns]>"
      ]
     },
     "execution_count": 7,
     "metadata": {},
     "output_type": "execute_result"
    }
   ],
   "source": [
    "df.describe"
   ]
  },
  {
   "cell_type": "markdown",
   "metadata": {},
   "source": [
    "# Data Cleaning"
   ]
  },
  {
   "cell_type": "code",
   "execution_count": 8,
   "metadata": {},
   "outputs": [
    {
     "data": {
      "text/plain": [
       "id                             693071\n",
       "timestamp                       36179\n",
       "hour                               24\n",
       "day                                17\n",
       "month                               2\n",
       "datetime                        31350\n",
       "timezone                            1\n",
       "source                             12\n",
       "destination                        12\n",
       "cab_type                            2\n",
       "product_id                         13\n",
       "name                               13\n",
       "price                             147\n",
       "distance                          549\n",
       "surge_multiplier                    7\n",
       "latitude                           11\n",
       "longitude                          12\n",
       "temperature                       308\n",
       "apparentTemperature               319\n",
       "short_summary                       9\n",
       "long_summary                       11\n",
       "precipIntensity                    63\n",
       "precipProbability                  29\n",
       "humidity                           51\n",
       "windSpeed                         291\n",
       "windGust                          286\n",
       "windGustTime                       25\n",
       "visibility                        227\n",
       "temperatureHigh                   129\n",
       "temperatureHighTime                23\n",
       "temperatureLow                    133\n",
       "temperatureLowTime                 31\n",
       "apparentTemperatureHigh           124\n",
       "apparentTemperatureHighTime        27\n",
       "apparentTemperatureLow            136\n",
       "apparentTemperatureLowTime         32\n",
       "icon                                7\n",
       "dewPoint                          313\n",
       "pressure                          316\n",
       "windBearing                       195\n",
       "cloudCover                         83\n",
       "uvIndex                             3\n",
       "visibility.1                      227\n",
       "ozone                             274\n",
       "sunriseTime                       110\n",
       "sunsetTime                        114\n",
       "moonPhase                          18\n",
       "precipIntensityMax                 65\n",
       "uvIndexTime                        20\n",
       "temperatureMin                    131\n",
       "temperatureMinTime                 25\n",
       "temperatureMax                    128\n",
       "temperatureMaxTime                 23\n",
       "apparentTemperatureMin            137\n",
       "apparentTemperatureMinTime         29\n",
       "apparentTemperatureMax            125\n",
       "apparentTemperatureMaxTime         27\n",
       "dtype: int64"
      ]
     },
     "execution_count": 8,
     "metadata": {},
     "output_type": "execute_result"
    }
   ],
   "source": [
    "df.nunique()"
   ]
  },
  {
   "cell_type": "code",
   "execution_count": 9,
   "metadata": {},
   "outputs": [
    {
     "data": {
      "text/plain": [
       "True"
      ]
     },
     "execution_count": 9,
     "metadata": {},
     "output_type": "execute_result"
    }
   ],
   "source": [
    "df.isnull().values.any()"
   ]
  },
  {
   "cell_type": "code",
   "execution_count": 10,
   "metadata": {},
   "outputs": [
    {
     "name": "stdout",
     "output_type": "stream",
     "text": [
      "kolom price memiliki 55095 null values\n"
     ]
    }
   ],
   "source": [
    "for column in df:\n",
    "    if df[column].isnull().any():\n",
    "       print('kolom {0} memiliki {1} null values'.format(column, df[column].isnull().sum()))"
   ]
  },
  {
   "cell_type": "code",
   "execution_count": 11,
   "metadata": {},
   "outputs": [
    {
     "name": "stdout",
     "output_type": "stream",
     "text": [
      "kolom hour memiliki 32413 nilai 0\n",
      "kolom precipIntensity memiliki 542243 nilai 0\n",
      "kolom precipProbability memiliki 542243 nilai 0\n",
      "kolom cloudCover memiliki 39547 nilai 0\n",
      "kolom uvIndex memiliki 533664 nilai 0\n",
      "kolom precipIntensityMax memiliki 228096 nilai 0\n"
     ]
    }
   ],
   "source": [
    "for column in df:\n",
    "    if (df[column]==0).any():\n",
    "       print('kolom {0} memiliki {1} nilai 0'.format(column, (df[column]==0).sum()))"
   ]
  },
  {
   "cell_type": "code",
   "execution_count": 12,
   "metadata": {},
   "outputs": [],
   "source": [
    "df.dropna(inplace=True)"
   ]
  },
  {
   "cell_type": "code",
   "execution_count": 13,
   "metadata": {},
   "outputs": [],
   "source": [
    "#df['price'].fillna((df['price'].mean()), inplace=True)"
   ]
  },
  {
   "cell_type": "code",
   "execution_count": 14,
   "metadata": {},
   "outputs": [
    {
     "data": {
      "text/plain": [
       "False"
      ]
     },
     "execution_count": 14,
     "metadata": {},
     "output_type": "execute_result"
    }
   ],
   "source": [
    "df.isnull().values.any()"
   ]
  },
  {
   "cell_type": "code",
   "execution_count": 15,
   "metadata": {},
   "outputs": [
    {
     "data": {
      "text/plain": [
       "(637976, 57)"
      ]
     },
     "execution_count": 15,
     "metadata": {},
     "output_type": "execute_result"
    }
   ],
   "source": [
    "df.shape"
   ]
  },
  {
   "cell_type": "code",
   "execution_count": 16,
   "metadata": {},
   "outputs": [
    {
     "data": {
      "text/html": [
       "<div>\n",
       "<style scoped>\n",
       "    .dataframe tbody tr th:only-of-type {\n",
       "        vertical-align: middle;\n",
       "    }\n",
       "\n",
       "    .dataframe tbody tr th {\n",
       "        vertical-align: top;\n",
       "    }\n",
       "\n",
       "    .dataframe thead th {\n",
       "        text-align: right;\n",
       "    }\n",
       "</style>\n",
       "<table border=\"1\" class=\"dataframe\">\n",
       "  <thead>\n",
       "    <tr style=\"text-align: right;\">\n",
       "      <th></th>\n",
       "      <th>timestamp</th>\n",
       "      <th>hour</th>\n",
       "      <th>day</th>\n",
       "      <th>month</th>\n",
       "      <th>price</th>\n",
       "      <th>distance</th>\n",
       "      <th>surge_multiplier</th>\n",
       "      <th>latitude</th>\n",
       "      <th>longitude</th>\n",
       "      <th>temperature</th>\n",
       "      <th>...</th>\n",
       "      <th>precipIntensityMax</th>\n",
       "      <th>uvIndexTime</th>\n",
       "      <th>temperatureMin</th>\n",
       "      <th>temperatureMinTime</th>\n",
       "      <th>temperatureMax</th>\n",
       "      <th>temperatureMaxTime</th>\n",
       "      <th>apparentTemperatureMin</th>\n",
       "      <th>apparentTemperatureMinTime</th>\n",
       "      <th>apparentTemperatureMax</th>\n",
       "      <th>apparentTemperatureMaxTime</th>\n",
       "    </tr>\n",
       "  </thead>\n",
       "  <tbody>\n",
       "    <tr>\n",
       "      <th>timestamp</th>\n",
       "      <td>1.000000</td>\n",
       "      <td>-0.028501</td>\n",
       "      <td>-0.341420</td>\n",
       "      <td>0.771245</td>\n",
       "      <td>0.000808</td>\n",
       "      <td>0.003290</td>\n",
       "      <td>0.000611</td>\n",
       "      <td>0.168295</td>\n",
       "      <td>-0.136716</td>\n",
       "      <td>-0.249027</td>\n",
       "      <td>...</td>\n",
       "      <td>-0.211887</td>\n",
       "      <td>0.999364</td>\n",
       "      <td>-0.307194</td>\n",
       "      <td>0.998195</td>\n",
       "      <td>-0.186495</td>\n",
       "      <td>0.999290</td>\n",
       "      <td>-0.378538</td>\n",
       "      <td>0.998288</td>\n",
       "      <td>-0.157891</td>\n",
       "      <td>0.999276</td>\n",
       "    </tr>\n",
       "    <tr>\n",
       "      <th>hour</th>\n",
       "      <td>-0.028501</td>\n",
       "      <td>1.000000</td>\n",
       "      <td>0.066223</td>\n",
       "      <td>-0.079734</td>\n",
       "      <td>0.000561</td>\n",
       "      <td>0.002283</td>\n",
       "      <td>-0.000067</td>\n",
       "      <td>0.019228</td>\n",
       "      <td>-0.005986</td>\n",
       "      <td>0.218829</td>\n",
       "      <td>...</td>\n",
       "      <td>0.020288</td>\n",
       "      <td>-0.027997</td>\n",
       "      <td>0.015668</td>\n",
       "      <td>-0.027486</td>\n",
       "      <td>0.002982</td>\n",
       "      <td>-0.028479</td>\n",
       "      <td>0.015882</td>\n",
       "      <td>-0.028172</td>\n",
       "      <td>0.002904</td>\n",
       "      <td>-0.028273</td>\n",
       "    </tr>\n",
       "    <tr>\n",
       "      <th>day</th>\n",
       "      <td>-0.341420</td>\n",
       "      <td>0.066223</td>\n",
       "      <td>1.000000</td>\n",
       "      <td>-0.861325</td>\n",
       "      <td>-0.000722</td>\n",
       "      <td>-0.000992</td>\n",
       "      <td>0.001397</td>\n",
       "      <td>0.006744</td>\n",
       "      <td>0.078539</td>\n",
       "      <td>-0.083934</td>\n",
       "      <td>...</td>\n",
       "      <td>0.145789</td>\n",
       "      <td>-0.341330</td>\n",
       "      <td>0.038089</td>\n",
       "      <td>-0.334118</td>\n",
       "      <td>-0.304704</td>\n",
       "      <td>-0.344669</td>\n",
       "      <td>-0.019878</td>\n",
       "      <td>-0.335176</td>\n",
       "      <td>-0.444366</td>\n",
       "      <td>-0.344546</td>\n",
       "    </tr>\n",
       "    <tr>\n",
       "      <th>month</th>\n",
       "      <td>0.771245</td>\n",
       "      <td>-0.079734</td>\n",
       "      <td>-0.861325</td>\n",
       "      <td>1.000000</td>\n",
       "      <td>0.000913</td>\n",
       "      <td>0.002402</td>\n",
       "      <td>-0.000612</td>\n",
       "      <td>0.085946</td>\n",
       "      <td>-0.126763</td>\n",
       "      <td>-0.082048</td>\n",
       "      <td>...</td>\n",
       "      <td>-0.213301</td>\n",
       "      <td>0.770832</td>\n",
       "      <td>-0.191928</td>\n",
       "      <td>0.765319</td>\n",
       "      <td>0.105113</td>\n",
       "      <td>0.773057</td>\n",
       "      <td>-0.191293</td>\n",
       "      <td>0.766097</td>\n",
       "      <td>0.214928</td>\n",
       "      <td>0.772962</td>\n",
       "    </tr>\n",
       "    <tr>\n",
       "      <th>price</th>\n",
       "      <td>0.000808</td>\n",
       "      <td>0.000561</td>\n",
       "      <td>-0.000722</td>\n",
       "      <td>0.000913</td>\n",
       "      <td>1.000000</td>\n",
       "      <td>0.345061</td>\n",
       "      <td>0.240458</td>\n",
       "      <td>0.002088</td>\n",
       "      <td>-0.001417</td>\n",
       "      <td>-0.000084</td>\n",
       "      <td>...</td>\n",
       "      <td>0.001114</td>\n",
       "      <td>0.000763</td>\n",
       "      <td>-0.000428</td>\n",
       "      <td>0.000769</td>\n",
       "      <td>-0.000550</td>\n",
       "      <td>0.000766</td>\n",
       "      <td>-0.000580</td>\n",
       "      <td>0.000814</td>\n",
       "      <td>-0.000290</td>\n",
       "      <td>0.000746</td>\n",
       "    </tr>\n",
       "    <tr>\n",
       "      <th>distance</th>\n",
       "      <td>0.003290</td>\n",
       "      <td>0.002283</td>\n",
       "      <td>-0.000992</td>\n",
       "      <td>0.002402</td>\n",
       "      <td>0.345061</td>\n",
       "      <td>1.000000</td>\n",
       "      <td>0.025946</td>\n",
       "      <td>0.000984</td>\n",
       "      <td>-0.000415</td>\n",
       "      <td>-0.002738</td>\n",
       "      <td>...</td>\n",
       "      <td>0.000670</td>\n",
       "      <td>0.003298</td>\n",
       "      <td>-0.003192</td>\n",
       "      <td>0.003166</td>\n",
       "      <td>-0.003875</td>\n",
       "      <td>0.003318</td>\n",
       "      <td>-0.003649</td>\n",
       "      <td>0.003266</td>\n",
       "      <td>-0.003889</td>\n",
       "      <td>0.003319</td>\n",
       "    </tr>\n",
       "    <tr>\n",
       "      <th>surge_multiplier</th>\n",
       "      <td>0.000611</td>\n",
       "      <td>-0.000067</td>\n",
       "      <td>0.001397</td>\n",
       "      <td>-0.000612</td>\n",
       "      <td>0.240458</td>\n",
       "      <td>0.025946</td>\n",
       "      <td>1.000000</td>\n",
       "      <td>0.001471</td>\n",
       "      <td>-0.001961</td>\n",
       "      <td>-0.001594</td>\n",
       "      <td>...</td>\n",
       "      <td>-0.000090</td>\n",
       "      <td>0.000585</td>\n",
       "      <td>-0.000716</td>\n",
       "      <td>0.000594</td>\n",
       "      <td>-0.001998</td>\n",
       "      <td>0.000563</td>\n",
       "      <td>-0.001317</td>\n",
       "      <td>0.000502</td>\n",
       "      <td>-0.002214</td>\n",
       "      <td>0.000559</td>\n",
       "    </tr>\n",
       "    <tr>\n",
       "      <th>latitude</th>\n",
       "      <td>0.168295</td>\n",
       "      <td>0.019228</td>\n",
       "      <td>0.006744</td>\n",
       "      <td>0.085946</td>\n",
       "      <td>0.002088</td>\n",
       "      <td>0.000984</td>\n",
       "      <td>0.001471</td>\n",
       "      <td>1.000000</td>\n",
       "      <td>-0.531443</td>\n",
       "      <td>-0.098909</td>\n",
       "      <td>...</td>\n",
       "      <td>-0.047307</td>\n",
       "      <td>0.171976</td>\n",
       "      <td>-0.114437</td>\n",
       "      <td>0.169740</td>\n",
       "      <td>-0.109271</td>\n",
       "      <td>0.175336</td>\n",
       "      <td>-0.096327</td>\n",
       "      <td>0.171069</td>\n",
       "      <td>-0.082894</td>\n",
       "      <td>0.173359</td>\n",
       "    </tr>\n",
       "    <tr>\n",
       "      <th>longitude</th>\n",
       "      <td>-0.136716</td>\n",
       "      <td>-0.005986</td>\n",
       "      <td>0.078539</td>\n",
       "      <td>-0.126763</td>\n",
       "      <td>-0.001417</td>\n",
       "      <td>-0.000415</td>\n",
       "      <td>-0.001961</td>\n",
       "      <td>-0.531443</td>\n",
       "      <td>1.000000</td>\n",
       "      <td>0.012402</td>\n",
       "      <td>...</td>\n",
       "      <td>0.030330</td>\n",
       "      <td>-0.136620</td>\n",
       "      <td>0.048836</td>\n",
       "      <td>-0.140275</td>\n",
       "      <td>-0.007029</td>\n",
       "      <td>-0.136949</td>\n",
       "      <td>0.010131</td>\n",
       "      <td>-0.140399</td>\n",
       "      <td>-0.022605</td>\n",
       "      <td>-0.135525</td>\n",
       "    </tr>\n",
       "    <tr>\n",
       "      <th>temperature</th>\n",
       "      <td>-0.249027</td>\n",
       "      <td>0.218829</td>\n",
       "      <td>-0.083934</td>\n",
       "      <td>-0.082048</td>\n",
       "      <td>-0.000084</td>\n",
       "      <td>-0.002738</td>\n",
       "      <td>-0.001594</td>\n",
       "      <td>-0.098909</td>\n",
       "      <td>0.012402</td>\n",
       "      <td>1.000000</td>\n",
       "      <td>...</td>\n",
       "      <td>0.333160</td>\n",
       "      <td>-0.254755</td>\n",
       "      <td>0.789220</td>\n",
       "      <td>-0.242993</td>\n",
       "      <td>0.780426</td>\n",
       "      <td>-0.254172</td>\n",
       "      <td>0.817443</td>\n",
       "      <td>-0.231811</td>\n",
       "      <td>0.703078</td>\n",
       "      <td>-0.255578</td>\n",
       "    </tr>\n",
       "    <tr>\n",
       "      <th>apparentTemperature</th>\n",
       "      <td>-0.226472</td>\n",
       "      <td>0.198212</td>\n",
       "      <td>-0.223410</td>\n",
       "      <td>0.024773</td>\n",
       "      <td>-0.000193</td>\n",
       "      <td>-0.002835</td>\n",
       "      <td>-0.002586</td>\n",
       "      <td>-0.067427</td>\n",
       "      <td>-0.005897</td>\n",
       "      <td>0.946157</td>\n",
       "      <td>...</td>\n",
       "      <td>0.257128</td>\n",
       "      <td>-0.231526</td>\n",
       "      <td>0.697343</td>\n",
       "      <td>-0.224970</td>\n",
       "      <td>0.792476</td>\n",
       "      <td>-0.227930</td>\n",
       "      <td>0.786478</td>\n",
       "      <td>-0.212681</td>\n",
       "      <td>0.782255</td>\n",
       "      <td>-0.228891</td>\n",
       "    </tr>\n",
       "    <tr>\n",
       "      <th>precipIntensity</th>\n",
       "      <td>-0.179834</td>\n",
       "      <td>-0.233246</td>\n",
       "      <td>0.091513</td>\n",
       "      <td>-0.154356</td>\n",
       "      <td>0.000166</td>\n",
       "      <td>-0.000512</td>\n",
       "      <td>-0.001522</td>\n",
       "      <td>-0.074306</td>\n",
       "      <td>0.130794</td>\n",
       "      <td>0.182673</td>\n",
       "      <td>...</td>\n",
       "      <td>0.498344</td>\n",
       "      <td>-0.180105</td>\n",
       "      <td>0.236618</td>\n",
       "      <td>-0.182130</td>\n",
       "      <td>0.114034</td>\n",
       "      <td>-0.181972</td>\n",
       "      <td>0.224728</td>\n",
       "      <td>-0.170320</td>\n",
       "      <td>0.108917</td>\n",
       "      <td>-0.182989</td>\n",
       "    </tr>\n",
       "    <tr>\n",
       "      <th>precipProbability</th>\n",
       "      <td>-0.147351</td>\n",
       "      <td>-0.129631</td>\n",
       "      <td>0.030765</td>\n",
       "      <td>-0.097803</td>\n",
       "      <td>-0.000243</td>\n",
       "      <td>0.000134</td>\n",
       "      <td>-0.002825</td>\n",
       "      <td>-0.071331</td>\n",
       "      <td>0.122212</td>\n",
       "      <td>0.239189</td>\n",
       "      <td>...</td>\n",
       "      <td>0.582883</td>\n",
       "      <td>-0.144386</td>\n",
       "      <td>0.274351</td>\n",
       "      <td>-0.147747</td>\n",
       "      <td>0.142088</td>\n",
       "      <td>-0.146303</td>\n",
       "      <td>0.263234</td>\n",
       "      <td>-0.135723</td>\n",
       "      <td>0.136403</td>\n",
       "      <td>-0.147215</td>\n",
       "    </tr>\n",
       "    <tr>\n",
       "      <th>humidity</th>\n",
       "      <td>-0.167740</td>\n",
       "      <td>-0.275778</td>\n",
       "      <td>-0.093376</td>\n",
       "      <td>-0.022078</td>\n",
       "      <td>-0.001238</td>\n",
       "      <td>-0.003849</td>\n",
       "      <td>-0.001677</td>\n",
       "      <td>-0.117721</td>\n",
       "      <td>0.090731</td>\n",
       "      <td>0.313813</td>\n",
       "      <td>...</td>\n",
       "      <td>0.519783</td>\n",
       "      <td>-0.160109</td>\n",
       "      <td>0.461536</td>\n",
       "      <td>-0.167571</td>\n",
       "      <td>0.394681</td>\n",
       "      <td>-0.158001</td>\n",
       "      <td>0.512080</td>\n",
       "      <td>-0.152521</td>\n",
       "      <td>0.410285</td>\n",
       "      <td>-0.158142</td>\n",
       "    </tr>\n",
       "    <tr>\n",
       "      <th>windSpeed</th>\n",
       "      <td>-0.066364</td>\n",
       "      <td>0.073011</td>\n",
       "      <td>0.440512</td>\n",
       "      <td>-0.334897</td>\n",
       "      <td>0.000990</td>\n",
       "      <td>0.001709</td>\n",
       "      <td>0.002593</td>\n",
       "      <td>-0.097125</td>\n",
       "      <td>0.092773</td>\n",
       "      <td>0.058846</td>\n",
       "      <td>...</td>\n",
       "      <td>0.212359</td>\n",
       "      <td>-0.068176</td>\n",
       "      <td>0.174181</td>\n",
       "      <td>-0.051533</td>\n",
       "      <td>-0.120540</td>\n",
       "      <td>-0.078561</td>\n",
       "      <td>-0.019857</td>\n",
       "      <td>-0.056577</td>\n",
       "      <td>-0.304331</td>\n",
       "      <td>-0.079719</td>\n",
       "    </tr>\n",
       "    <tr>\n",
       "      <th>windGust</th>\n",
       "      <td>0.005565</td>\n",
       "      <td>0.077646</td>\n",
       "      <td>0.402611</td>\n",
       "      <td>-0.270541</td>\n",
       "      <td>0.001218</td>\n",
       "      <td>0.000920</td>\n",
       "      <td>0.002162</td>\n",
       "      <td>0.024346</td>\n",
       "      <td>-0.006145</td>\n",
       "      <td>-0.008775</td>\n",
       "      <td>...</td>\n",
       "      <td>0.100315</td>\n",
       "      <td>0.004860</td>\n",
       "      <td>0.081460</td>\n",
       "      <td>0.023537</td>\n",
       "      <td>-0.144428</td>\n",
       "      <td>-0.005918</td>\n",
       "      <td>-0.116490</td>\n",
       "      <td>0.014032</td>\n",
       "      <td>-0.316142</td>\n",
       "      <td>-0.007186</td>\n",
       "    </tr>\n",
       "    <tr>\n",
       "      <th>windGustTime</th>\n",
       "      <td>0.998843</td>\n",
       "      <td>-0.028544</td>\n",
       "      <td>-0.336560</td>\n",
       "      <td>0.767339</td>\n",
       "      <td>0.000851</td>\n",
       "      <td>0.003371</td>\n",
       "      <td>0.000477</td>\n",
       "      <td>0.172786</td>\n",
       "      <td>-0.137020</td>\n",
       "      <td>-0.248254</td>\n",
       "      <td>...</td>\n",
       "      <td>-0.202032</td>\n",
       "      <td>0.999362</td>\n",
       "      <td>-0.301200</td>\n",
       "      <td>0.998324</td>\n",
       "      <td>-0.179908</td>\n",
       "      <td>0.999302</td>\n",
       "      <td>-0.371712</td>\n",
       "      <td>0.998957</td>\n",
       "      <td>-0.151856</td>\n",
       "      <td>0.999175</td>\n",
       "    </tr>\n",
       "    <tr>\n",
       "      <th>visibility</th>\n",
       "      <td>0.158577</td>\n",
       "      <td>0.173776</td>\n",
       "      <td>0.105210</td>\n",
       "      <td>0.011129</td>\n",
       "      <td>0.001497</td>\n",
       "      <td>0.004143</td>\n",
       "      <td>0.001716</td>\n",
       "      <td>0.124286</td>\n",
       "      <td>-0.097102</td>\n",
       "      <td>-0.324158</td>\n",
       "      <td>...</td>\n",
       "      <td>-0.544535</td>\n",
       "      <td>0.151716</td>\n",
       "      <td>-0.352681</td>\n",
       "      <td>0.152038</td>\n",
       "      <td>-0.297030</td>\n",
       "      <td>0.154259</td>\n",
       "      <td>-0.343779</td>\n",
       "      <td>0.141784</td>\n",
       "      <td>-0.297609</td>\n",
       "      <td>0.154883</td>\n",
       "    </tr>\n",
       "    <tr>\n",
       "      <th>temperatureHigh</th>\n",
       "      <td>-0.228324</td>\n",
       "      <td>0.005191</td>\n",
       "      <td>-0.283410</td>\n",
       "      <td>0.068094</td>\n",
       "      <td>-0.000516</td>\n",
       "      <td>-0.003795</td>\n",
       "      <td>-0.001943</td>\n",
       "      <td>-0.115623</td>\n",
       "      <td>0.007682</td>\n",
       "      <td>0.788564</td>\n",
       "      <td>...</td>\n",
       "      <td>0.192592</td>\n",
       "      <td>-0.228424</td>\n",
       "      <td>0.794579</td>\n",
       "      <td>-0.214435</td>\n",
       "      <td>0.985996</td>\n",
       "      <td>-0.226153</td>\n",
       "      <td>0.877508</td>\n",
       "      <td>-0.205927</td>\n",
       "      <td>0.951037</td>\n",
       "      <td>-0.227134</td>\n",
       "    </tr>\n",
       "    <tr>\n",
       "      <th>temperatureHighTime</th>\n",
       "      <td>0.999332</td>\n",
       "      <td>-0.028323</td>\n",
       "      <td>-0.343251</td>\n",
       "      <td>0.772119</td>\n",
       "      <td>0.000759</td>\n",
       "      <td>0.003338</td>\n",
       "      <td>0.000560</td>\n",
       "      <td>0.173857</td>\n",
       "      <td>-0.136469</td>\n",
       "      <td>-0.257457</td>\n",
       "      <td>...</td>\n",
       "      <td>-0.214640</td>\n",
       "      <td>0.999909</td>\n",
       "      <td>-0.309989</td>\n",
       "      <td>0.998486</td>\n",
       "      <td>-0.188985</td>\n",
       "      <td>0.999885</td>\n",
       "      <td>-0.381595</td>\n",
       "      <td>0.998537</td>\n",
       "      <td>-0.159892</td>\n",
       "      <td>0.999885</td>\n",
       "    </tr>\n",
       "    <tr>\n",
       "      <th>temperatureLow</th>\n",
       "      <td>-0.366885</td>\n",
       "      <td>0.015000</td>\n",
       "      <td>-0.088370</td>\n",
       "      <td>-0.138703</td>\n",
       "      <td>0.000182</td>\n",
       "      <td>-0.001744</td>\n",
       "      <td>-0.002669</td>\n",
       "      <td>-0.032005</td>\n",
       "      <td>0.077802</td>\n",
       "      <td>0.502193</td>\n",
       "      <td>...</td>\n",
       "      <td>0.336032</td>\n",
       "      <td>-0.369039</td>\n",
       "      <td>0.473054</td>\n",
       "      <td>-0.383572</td>\n",
       "      <td>0.567522</td>\n",
       "      <td>-0.360347</td>\n",
       "      <td>0.636257</td>\n",
       "      <td>-0.367621</td>\n",
       "      <td>0.579368</td>\n",
       "      <td>-0.362016</td>\n",
       "    </tr>\n",
       "    <tr>\n",
       "      <th>temperatureLowTime</th>\n",
       "      <td>0.999175</td>\n",
       "      <td>-0.027267</td>\n",
       "      <td>-0.333686</td>\n",
       "      <td>0.765551</td>\n",
       "      <td>0.000754</td>\n",
       "      <td>0.003282</td>\n",
       "      <td>0.000614</td>\n",
       "      <td>0.171345</td>\n",
       "      <td>-0.135908</td>\n",
       "      <td>-0.254572</td>\n",
       "      <td>...</td>\n",
       "      <td>-0.210220</td>\n",
       "      <td>0.999804</td>\n",
       "      <td>-0.305337</td>\n",
       "      <td>0.999147</td>\n",
       "      <td>-0.188527</td>\n",
       "      <td>0.999522</td>\n",
       "      <td>-0.380564</td>\n",
       "      <td>0.999023</td>\n",
       "      <td>-0.161584</td>\n",
       "      <td>0.999526</td>\n",
       "    </tr>\n",
       "    <tr>\n",
       "      <th>apparentTemperatureHigh</th>\n",
       "      <td>-0.215550</td>\n",
       "      <td>0.005518</td>\n",
       "      <td>-0.398099</td>\n",
       "      <td>0.152479</td>\n",
       "      <td>-0.000261</td>\n",
       "      <td>-0.003699</td>\n",
       "      <td>-0.002098</td>\n",
       "      <td>-0.092459</td>\n",
       "      <td>-0.001465</td>\n",
       "      <td>0.710386</td>\n",
       "      <td>...</td>\n",
       "      <td>0.173361</td>\n",
       "      <td>-0.215812</td>\n",
       "      <td>0.665030</td>\n",
       "      <td>-0.206880</td>\n",
       "      <td>0.926408</td>\n",
       "      <td>-0.211708</td>\n",
       "      <td>0.791979</td>\n",
       "      <td>-0.197785</td>\n",
       "      <td>0.974276</td>\n",
       "      <td>-0.212270</td>\n",
       "    </tr>\n",
       "    <tr>\n",
       "      <th>apparentTemperatureHighTime</th>\n",
       "      <td>0.999312</td>\n",
       "      <td>-0.028481</td>\n",
       "      <td>-0.343422</td>\n",
       "      <td>0.772227</td>\n",
       "      <td>0.000741</td>\n",
       "      <td>0.003317</td>\n",
       "      <td>0.000559</td>\n",
       "      <td>0.173454</td>\n",
       "      <td>-0.136121</td>\n",
       "      <td>-0.258895</td>\n",
       "      <td>...</td>\n",
       "      <td>-0.216838</td>\n",
       "      <td>0.999895</td>\n",
       "      <td>-0.312349</td>\n",
       "      <td>0.998464</td>\n",
       "      <td>-0.189806</td>\n",
       "      <td>0.999870</td>\n",
       "      <td>-0.383355</td>\n",
       "      <td>0.998428</td>\n",
       "      <td>-0.160231</td>\n",
       "      <td>0.999901</td>\n",
       "    </tr>\n",
       "    <tr>\n",
       "      <th>apparentTemperatureLow</th>\n",
       "      <td>-0.402043</td>\n",
       "      <td>0.015722</td>\n",
       "      <td>-0.192984</td>\n",
       "      <td>-0.087019</td>\n",
       "      <td>0.000831</td>\n",
       "      <td>-0.001006</td>\n",
       "      <td>-0.003088</td>\n",
       "      <td>-0.002187</td>\n",
       "      <td>0.018958</td>\n",
       "      <td>0.382828</td>\n",
       "      <td>...</td>\n",
       "      <td>0.254386</td>\n",
       "      <td>-0.403237</td>\n",
       "      <td>0.284247</td>\n",
       "      <td>-0.416470</td>\n",
       "      <td>0.492195</td>\n",
       "      <td>-0.395025</td>\n",
       "      <td>0.479351</td>\n",
       "      <td>-0.404343</td>\n",
       "      <td>0.558125</td>\n",
       "      <td>-0.396456</td>\n",
       "    </tr>\n",
       "    <tr>\n",
       "      <th>apparentTemperatureLowTime</th>\n",
       "      <td>0.999204</td>\n",
       "      <td>-0.027438</td>\n",
       "      <td>-0.335630</td>\n",
       "      <td>0.766883</td>\n",
       "      <td>0.000761</td>\n",
       "      <td>0.003311</td>\n",
       "      <td>0.000592</td>\n",
       "      <td>0.172724</td>\n",
       "      <td>-0.137076</td>\n",
       "      <td>-0.253780</td>\n",
       "      <td>...</td>\n",
       "      <td>-0.207734</td>\n",
       "      <td>0.999831</td>\n",
       "      <td>-0.305205</td>\n",
       "      <td>0.999054</td>\n",
       "      <td>-0.187815</td>\n",
       "      <td>0.999618</td>\n",
       "      <td>-0.378955</td>\n",
       "      <td>0.999083</td>\n",
       "      <td>-0.159613</td>\n",
       "      <td>0.999632</td>\n",
       "    </tr>\n",
       "    <tr>\n",
       "      <th>dewPoint</th>\n",
       "      <td>-0.265512</td>\n",
       "      <td>0.004863</td>\n",
       "      <td>-0.101470</td>\n",
       "      <td>-0.074906</td>\n",
       "      <td>-0.000615</td>\n",
       "      <td>-0.003920</td>\n",
       "      <td>-0.001860</td>\n",
       "      <td>-0.130576</td>\n",
       "      <td>0.056269</td>\n",
       "      <td>0.863992</td>\n",
       "      <td>...</td>\n",
       "      <td>0.505888</td>\n",
       "      <td>-0.265635</td>\n",
       "      <td>0.797069</td>\n",
       "      <td>-0.261606</td>\n",
       "      <td>0.751028</td>\n",
       "      <td>-0.263867</td>\n",
       "      <td>0.845276</td>\n",
       "      <td>-0.245659</td>\n",
       "      <td>0.704902</td>\n",
       "      <td>-0.264947</td>\n",
       "    </tr>\n",
       "    <tr>\n",
       "      <th>pressure</th>\n",
       "      <td>0.533074</td>\n",
       "      <td>-0.067787</td>\n",
       "      <td>-0.444738</td>\n",
       "      <td>0.589683</td>\n",
       "      <td>0.000866</td>\n",
       "      <td>0.003565</td>\n",
       "      <td>-0.003109</td>\n",
       "      <td>0.149323</td>\n",
       "      <td>-0.085849</td>\n",
       "      <td>-0.339378</td>\n",
       "      <td>...</td>\n",
       "      <td>-0.243853</td>\n",
       "      <td>0.533160</td>\n",
       "      <td>-0.454901</td>\n",
       "      <td>0.520017</td>\n",
       "      <td>-0.164477</td>\n",
       "      <td>0.539173</td>\n",
       "      <td>-0.342653</td>\n",
       "      <td>0.526366</td>\n",
       "      <td>0.015709</td>\n",
       "      <td>0.539355</td>\n",
       "    </tr>\n",
       "    <tr>\n",
       "      <th>windBearing</th>\n",
       "      <td>-0.133853</td>\n",
       "      <td>0.036292</td>\n",
       "      <td>0.092226</td>\n",
       "      <td>-0.135317</td>\n",
       "      <td>-0.001382</td>\n",
       "      <td>-0.002638</td>\n",
       "      <td>0.002171</td>\n",
       "      <td>-0.032467</td>\n",
       "      <td>-0.034433</td>\n",
       "      <td>-0.244166</td>\n",
       "      <td>...</td>\n",
       "      <td>-0.554367</td>\n",
       "      <td>-0.134078</td>\n",
       "      <td>-0.250716</td>\n",
       "      <td>-0.127417</td>\n",
       "      <td>-0.166562</td>\n",
       "      <td>-0.136426</td>\n",
       "      <td>-0.268106</td>\n",
       "      <td>-0.149146</td>\n",
       "      <td>-0.209263</td>\n",
       "      <td>-0.133798</td>\n",
       "    </tr>\n",
       "    <tr>\n",
       "      <th>cloudCover</th>\n",
       "      <td>-0.081522</td>\n",
       "      <td>0.026680</td>\n",
       "      <td>-0.041103</td>\n",
       "      <td>-0.016767</td>\n",
       "      <td>0.000883</td>\n",
       "      <td>-0.000958</td>\n",
       "      <td>-0.002101</td>\n",
       "      <td>-0.064560</td>\n",
       "      <td>0.073642</td>\n",
       "      <td>0.355049</td>\n",
       "      <td>...</td>\n",
       "      <td>0.395542</td>\n",
       "      <td>-0.080066</td>\n",
       "      <td>0.284457</td>\n",
       "      <td>-0.087279</td>\n",
       "      <td>0.114399</td>\n",
       "      <td>-0.080069</td>\n",
       "      <td>0.249460</td>\n",
       "      <td>-0.077602</td>\n",
       "      <td>0.090000</td>\n",
       "      <td>-0.080854</td>\n",
       "    </tr>\n",
       "    <tr>\n",
       "      <th>uvIndex</th>\n",
       "      <td>-0.025986</td>\n",
       "      <td>0.330326</td>\n",
       "      <td>-0.012083</td>\n",
       "      <td>-0.012340</td>\n",
       "      <td>-0.000424</td>\n",
       "      <td>0.002422</td>\n",
       "      <td>-0.002567</td>\n",
       "      <td>0.010339</td>\n",
       "      <td>0.009943</td>\n",
       "      <td>0.158551</td>\n",
       "      <td>...</td>\n",
       "      <td>-0.040910</td>\n",
       "      <td>-0.024113</td>\n",
       "      <td>-0.022317</td>\n",
       "      <td>-0.025068</td>\n",
       "      <td>-0.007191</td>\n",
       "      <td>-0.024558</td>\n",
       "      <td>-0.019397</td>\n",
       "      <td>-0.026859</td>\n",
       "      <td>0.006109</td>\n",
       "      <td>-0.023679</td>\n",
       "    </tr>\n",
       "    <tr>\n",
       "      <th>visibility.1</th>\n",
       "      <td>0.158577</td>\n",
       "      <td>0.173776</td>\n",
       "      <td>0.105210</td>\n",
       "      <td>0.011129</td>\n",
       "      <td>0.001497</td>\n",
       "      <td>0.004143</td>\n",
       "      <td>0.001716</td>\n",
       "      <td>0.124286</td>\n",
       "      <td>-0.097102</td>\n",
       "      <td>-0.324158</td>\n",
       "      <td>...</td>\n",
       "      <td>-0.544535</td>\n",
       "      <td>0.151716</td>\n",
       "      <td>-0.352681</td>\n",
       "      <td>0.152038</td>\n",
       "      <td>-0.297030</td>\n",
       "      <td>0.154259</td>\n",
       "      <td>-0.343779</td>\n",
       "      <td>0.141784</td>\n",
       "      <td>-0.297609</td>\n",
       "      <td>0.154883</td>\n",
       "    </tr>\n",
       "    <tr>\n",
       "      <th>ozone</th>\n",
       "      <td>0.196566</td>\n",
       "      <td>0.034035</td>\n",
       "      <td>0.376791</td>\n",
       "      <td>-0.149111</td>\n",
       "      <td>0.000460</td>\n",
       "      <td>0.001206</td>\n",
       "      <td>0.003456</td>\n",
       "      <td>0.063350</td>\n",
       "      <td>-0.022412</td>\n",
       "      <td>-0.291209</td>\n",
       "      <td>...</td>\n",
       "      <td>-0.222898</td>\n",
       "      <td>0.193669</td>\n",
       "      <td>-0.183249</td>\n",
       "      <td>0.199383</td>\n",
       "      <td>-0.443851</td>\n",
       "      <td>0.189921</td>\n",
       "      <td>-0.364728</td>\n",
       "      <td>0.188441</td>\n",
       "      <td>-0.591788</td>\n",
       "      <td>0.189287</td>\n",
       "    </tr>\n",
       "    <tr>\n",
       "      <th>sunriseTime</th>\n",
       "      <td>0.999372</td>\n",
       "      <td>-0.028016</td>\n",
       "      <td>-0.341201</td>\n",
       "      <td>0.770749</td>\n",
       "      <td>0.000760</td>\n",
       "      <td>0.003291</td>\n",
       "      <td>0.000585</td>\n",
       "      <td>0.171873</td>\n",
       "      <td>-0.136395</td>\n",
       "      <td>-0.255277</td>\n",
       "      <td>...</td>\n",
       "      <td>-0.210841</td>\n",
       "      <td>0.999997</td>\n",
       "      <td>-0.307938</td>\n",
       "      <td>0.999000</td>\n",
       "      <td>-0.186060</td>\n",
       "      <td>0.999793</td>\n",
       "      <td>-0.380446</td>\n",
       "      <td>0.998971</td>\n",
       "      <td>-0.157158</td>\n",
       "      <td>0.999794</td>\n",
       "    </tr>\n",
       "    <tr>\n",
       "      <th>sunsetTime</th>\n",
       "      <td>0.999372</td>\n",
       "      <td>-0.028014</td>\n",
       "      <td>-0.341145</td>\n",
       "      <td>0.770712</td>\n",
       "      <td>0.000760</td>\n",
       "      <td>0.003291</td>\n",
       "      <td>0.000585</td>\n",
       "      <td>0.171851</td>\n",
       "      <td>-0.136377</td>\n",
       "      <td>-0.255279</td>\n",
       "      <td>...</td>\n",
       "      <td>-0.210803</td>\n",
       "      <td>0.999997</td>\n",
       "      <td>-0.307921</td>\n",
       "      <td>0.999001</td>\n",
       "      <td>-0.186081</td>\n",
       "      <td>0.999792</td>\n",
       "      <td>-0.380446</td>\n",
       "      <td>0.998972</td>\n",
       "      <td>-0.157192</td>\n",
       "      <td>0.999793</td>\n",
       "    </tr>\n",
       "    <tr>\n",
       "      <th>moonPhase</th>\n",
       "      <td>-0.846279</td>\n",
       "      <td>0.020997</td>\n",
       "      <td>-0.007038</td>\n",
       "      <td>-0.452655</td>\n",
       "      <td>-0.001602</td>\n",
       "      <td>-0.004301</td>\n",
       "      <td>-0.000163</td>\n",
       "      <td>-0.199608</td>\n",
       "      <td>0.104755</td>\n",
       "      <td>0.345560</td>\n",
       "      <td>...</td>\n",
       "      <td>0.055683</td>\n",
       "      <td>-0.844854</td>\n",
       "      <td>0.401323</td>\n",
       "      <td>-0.841703</td>\n",
       "      <td>0.372141</td>\n",
       "      <td>-0.845285</td>\n",
       "      <td>0.445300</td>\n",
       "      <td>-0.846008</td>\n",
       "      <td>0.344328</td>\n",
       "      <td>-0.844786</td>\n",
       "    </tr>\n",
       "    <tr>\n",
       "      <th>precipIntensityMax</th>\n",
       "      <td>-0.211887</td>\n",
       "      <td>0.020288</td>\n",
       "      <td>0.145789</td>\n",
       "      <td>-0.213301</td>\n",
       "      <td>0.001114</td>\n",
       "      <td>0.000670</td>\n",
       "      <td>-0.000090</td>\n",
       "      <td>-0.047307</td>\n",
       "      <td>0.030330</td>\n",
       "      <td>0.333160</td>\n",
       "      <td>...</td>\n",
       "      <td>1.000000</td>\n",
       "      <td>-0.209518</td>\n",
       "      <td>0.446422</td>\n",
       "      <td>-0.209992</td>\n",
       "      <td>0.180394</td>\n",
       "      <td>-0.213661</td>\n",
       "      <td>0.409563</td>\n",
       "      <td>-0.188269</td>\n",
       "      <td>0.157555</td>\n",
       "      <td>-0.215982</td>\n",
       "    </tr>\n",
       "    <tr>\n",
       "      <th>uvIndexTime</th>\n",
       "      <td>0.999364</td>\n",
       "      <td>-0.027997</td>\n",
       "      <td>-0.341330</td>\n",
       "      <td>0.770832</td>\n",
       "      <td>0.000763</td>\n",
       "      <td>0.003298</td>\n",
       "      <td>0.000585</td>\n",
       "      <td>0.171976</td>\n",
       "      <td>-0.136620</td>\n",
       "      <td>-0.254755</td>\n",
       "      <td>...</td>\n",
       "      <td>-0.209518</td>\n",
       "      <td>1.000000</td>\n",
       "      <td>-0.307319</td>\n",
       "      <td>0.999016</td>\n",
       "      <td>-0.185573</td>\n",
       "      <td>0.999780</td>\n",
       "      <td>-0.379904</td>\n",
       "      <td>0.999010</td>\n",
       "      <td>-0.156748</td>\n",
       "      <td>0.999776</td>\n",
       "    </tr>\n",
       "    <tr>\n",
       "      <th>temperatureMin</th>\n",
       "      <td>-0.307194</td>\n",
       "      <td>0.015668</td>\n",
       "      <td>0.038089</td>\n",
       "      <td>-0.191928</td>\n",
       "      <td>-0.000428</td>\n",
       "      <td>-0.003192</td>\n",
       "      <td>-0.000716</td>\n",
       "      <td>-0.114437</td>\n",
       "      <td>0.048836</td>\n",
       "      <td>0.789220</td>\n",
       "      <td>...</td>\n",
       "      <td>0.446422</td>\n",
       "      <td>-0.307319</td>\n",
       "      <td>1.000000</td>\n",
       "      <td>-0.294846</td>\n",
       "      <td>0.782981</td>\n",
       "      <td>-0.306820</td>\n",
       "      <td>0.953828</td>\n",
       "      <td>-0.278686</td>\n",
       "      <td>0.648346</td>\n",
       "      <td>-0.308906</td>\n",
       "    </tr>\n",
       "    <tr>\n",
       "      <th>temperatureMinTime</th>\n",
       "      <td>0.998195</td>\n",
       "      <td>-0.027486</td>\n",
       "      <td>-0.334118</td>\n",
       "      <td>0.765319</td>\n",
       "      <td>0.000769</td>\n",
       "      <td>0.003166</td>\n",
       "      <td>0.000594</td>\n",
       "      <td>0.169740</td>\n",
       "      <td>-0.140275</td>\n",
       "      <td>-0.242993</td>\n",
       "      <td>...</td>\n",
       "      <td>-0.209992</td>\n",
       "      <td>0.999016</td>\n",
       "      <td>-0.294846</td>\n",
       "      <td>1.000000</td>\n",
       "      <td>-0.168262</td>\n",
       "      <td>0.998165</td>\n",
       "      <td>-0.372920</td>\n",
       "      <td>0.999376</td>\n",
       "      <td>-0.143396</td>\n",
       "      <td>0.998136</td>\n",
       "    </tr>\n",
       "    <tr>\n",
       "      <th>temperatureMax</th>\n",
       "      <td>-0.186495</td>\n",
       "      <td>0.002982</td>\n",
       "      <td>-0.304704</td>\n",
       "      <td>0.105113</td>\n",
       "      <td>-0.000550</td>\n",
       "      <td>-0.003875</td>\n",
       "      <td>-0.001998</td>\n",
       "      <td>-0.109271</td>\n",
       "      <td>-0.007029</td>\n",
       "      <td>0.780426</td>\n",
       "      <td>...</td>\n",
       "      <td>0.180394</td>\n",
       "      <td>-0.185573</td>\n",
       "      <td>0.782981</td>\n",
       "      <td>-0.168262</td>\n",
       "      <td>1.000000</td>\n",
       "      <td>-0.185704</td>\n",
       "      <td>0.838385</td>\n",
       "      <td>-0.162329</td>\n",
       "      <td>0.956333</td>\n",
       "      <td>-0.186854</td>\n",
       "    </tr>\n",
       "    <tr>\n",
       "      <th>temperatureMaxTime</th>\n",
       "      <td>0.999290</td>\n",
       "      <td>-0.028479</td>\n",
       "      <td>-0.344669</td>\n",
       "      <td>0.773057</td>\n",
       "      <td>0.000766</td>\n",
       "      <td>0.003318</td>\n",
       "      <td>0.000563</td>\n",
       "      <td>0.175336</td>\n",
       "      <td>-0.136949</td>\n",
       "      <td>-0.254172</td>\n",
       "      <td>...</td>\n",
       "      <td>-0.213661</td>\n",
       "      <td>0.999780</td>\n",
       "      <td>-0.306820</td>\n",
       "      <td>0.998165</td>\n",
       "      <td>-0.185704</td>\n",
       "      <td>1.000000</td>\n",
       "      <td>-0.375939</td>\n",
       "      <td>0.998467</td>\n",
       "      <td>-0.155807</td>\n",
       "      <td>0.999959</td>\n",
       "    </tr>\n",
       "    <tr>\n",
       "      <th>apparentTemperatureMin</th>\n",
       "      <td>-0.378538</td>\n",
       "      <td>0.015882</td>\n",
       "      <td>-0.019878</td>\n",
       "      <td>-0.191293</td>\n",
       "      <td>-0.000580</td>\n",
       "      <td>-0.003649</td>\n",
       "      <td>-0.001317</td>\n",
       "      <td>-0.096327</td>\n",
       "      <td>0.010131</td>\n",
       "      <td>0.817443</td>\n",
       "      <td>...</td>\n",
       "      <td>0.409563</td>\n",
       "      <td>-0.379904</td>\n",
       "      <td>0.953828</td>\n",
       "      <td>-0.372920</td>\n",
       "      <td>0.838385</td>\n",
       "      <td>-0.375939</td>\n",
       "      <td>1.000000</td>\n",
       "      <td>-0.355411</td>\n",
       "      <td>0.741929</td>\n",
       "      <td>-0.377609</td>\n",
       "    </tr>\n",
       "    <tr>\n",
       "      <th>apparentTemperatureMinTime</th>\n",
       "      <td>0.998288</td>\n",
       "      <td>-0.028172</td>\n",
       "      <td>-0.335176</td>\n",
       "      <td>0.766097</td>\n",
       "      <td>0.000814</td>\n",
       "      <td>0.003266</td>\n",
       "      <td>0.000502</td>\n",
       "      <td>0.171069</td>\n",
       "      <td>-0.140399</td>\n",
       "      <td>-0.231811</td>\n",
       "      <td>...</td>\n",
       "      <td>-0.188269</td>\n",
       "      <td>0.999010</td>\n",
       "      <td>-0.278686</td>\n",
       "      <td>0.999376</td>\n",
       "      <td>-0.162329</td>\n",
       "      <td>0.998467</td>\n",
       "      <td>-0.355411</td>\n",
       "      <td>1.000000</td>\n",
       "      <td>-0.137784</td>\n",
       "      <td>0.998345</td>\n",
       "    </tr>\n",
       "    <tr>\n",
       "      <th>apparentTemperatureMax</th>\n",
       "      <td>-0.157891</td>\n",
       "      <td>0.002904</td>\n",
       "      <td>-0.444366</td>\n",
       "      <td>0.214928</td>\n",
       "      <td>-0.000290</td>\n",
       "      <td>-0.003889</td>\n",
       "      <td>-0.002214</td>\n",
       "      <td>-0.082894</td>\n",
       "      <td>-0.022605</td>\n",
       "      <td>0.703078</td>\n",
       "      <td>...</td>\n",
       "      <td>0.157555</td>\n",
       "      <td>-0.156748</td>\n",
       "      <td>0.648346</td>\n",
       "      <td>-0.143396</td>\n",
       "      <td>0.956333</td>\n",
       "      <td>-0.155807</td>\n",
       "      <td>0.741929</td>\n",
       "      <td>-0.137784</td>\n",
       "      <td>1.000000</td>\n",
       "      <td>-0.156592</td>\n",
       "    </tr>\n",
       "    <tr>\n",
       "      <th>apparentTemperatureMaxTime</th>\n",
       "      <td>0.999276</td>\n",
       "      <td>-0.028273</td>\n",
       "      <td>-0.344546</td>\n",
       "      <td>0.772962</td>\n",
       "      <td>0.000746</td>\n",
       "      <td>0.003319</td>\n",
       "      <td>0.000559</td>\n",
       "      <td>0.173359</td>\n",
       "      <td>-0.135525</td>\n",
       "      <td>-0.255578</td>\n",
       "      <td>...</td>\n",
       "      <td>-0.215982</td>\n",
       "      <td>0.999776</td>\n",
       "      <td>-0.308906</td>\n",
       "      <td>0.998136</td>\n",
       "      <td>-0.186854</td>\n",
       "      <td>0.999959</td>\n",
       "      <td>-0.377609</td>\n",
       "      <td>0.998345</td>\n",
       "      <td>-0.156592</td>\n",
       "      <td>1.000000</td>\n",
       "    </tr>\n",
       "  </tbody>\n",
       "</table>\n",
       "<p>46 rows × 46 columns</p>\n",
       "</div>"
      ],
      "text/plain": [
       "                             timestamp      hour       day     month  \\\n",
       "timestamp                     1.000000 -0.028501 -0.341420  0.771245   \n",
       "hour                         -0.028501  1.000000  0.066223 -0.079734   \n",
       "day                          -0.341420  0.066223  1.000000 -0.861325   \n",
       "month                         0.771245 -0.079734 -0.861325  1.000000   \n",
       "price                         0.000808  0.000561 -0.000722  0.000913   \n",
       "distance                      0.003290  0.002283 -0.000992  0.002402   \n",
       "surge_multiplier              0.000611 -0.000067  0.001397 -0.000612   \n",
       "latitude                      0.168295  0.019228  0.006744  0.085946   \n",
       "longitude                    -0.136716 -0.005986  0.078539 -0.126763   \n",
       "temperature                  -0.249027  0.218829 -0.083934 -0.082048   \n",
       "apparentTemperature          -0.226472  0.198212 -0.223410  0.024773   \n",
       "precipIntensity              -0.179834 -0.233246  0.091513 -0.154356   \n",
       "precipProbability            -0.147351 -0.129631  0.030765 -0.097803   \n",
       "humidity                     -0.167740 -0.275778 -0.093376 -0.022078   \n",
       "windSpeed                    -0.066364  0.073011  0.440512 -0.334897   \n",
       "windGust                      0.005565  0.077646  0.402611 -0.270541   \n",
       "windGustTime                  0.998843 -0.028544 -0.336560  0.767339   \n",
       "visibility                    0.158577  0.173776  0.105210  0.011129   \n",
       "temperatureHigh              -0.228324  0.005191 -0.283410  0.068094   \n",
       "temperatureHighTime           0.999332 -0.028323 -0.343251  0.772119   \n",
       "temperatureLow               -0.366885  0.015000 -0.088370 -0.138703   \n",
       "temperatureLowTime            0.999175 -0.027267 -0.333686  0.765551   \n",
       "apparentTemperatureHigh      -0.215550  0.005518 -0.398099  0.152479   \n",
       "apparentTemperatureHighTime   0.999312 -0.028481 -0.343422  0.772227   \n",
       "apparentTemperatureLow       -0.402043  0.015722 -0.192984 -0.087019   \n",
       "apparentTemperatureLowTime    0.999204 -0.027438 -0.335630  0.766883   \n",
       "dewPoint                     -0.265512  0.004863 -0.101470 -0.074906   \n",
       "pressure                      0.533074 -0.067787 -0.444738  0.589683   \n",
       "windBearing                  -0.133853  0.036292  0.092226 -0.135317   \n",
       "cloudCover                   -0.081522  0.026680 -0.041103 -0.016767   \n",
       "uvIndex                      -0.025986  0.330326 -0.012083 -0.012340   \n",
       "visibility.1                  0.158577  0.173776  0.105210  0.011129   \n",
       "ozone                         0.196566  0.034035  0.376791 -0.149111   \n",
       "sunriseTime                   0.999372 -0.028016 -0.341201  0.770749   \n",
       "sunsetTime                    0.999372 -0.028014 -0.341145  0.770712   \n",
       "moonPhase                    -0.846279  0.020997 -0.007038 -0.452655   \n",
       "precipIntensityMax           -0.211887  0.020288  0.145789 -0.213301   \n",
       "uvIndexTime                   0.999364 -0.027997 -0.341330  0.770832   \n",
       "temperatureMin               -0.307194  0.015668  0.038089 -0.191928   \n",
       "temperatureMinTime            0.998195 -0.027486 -0.334118  0.765319   \n",
       "temperatureMax               -0.186495  0.002982 -0.304704  0.105113   \n",
       "temperatureMaxTime            0.999290 -0.028479 -0.344669  0.773057   \n",
       "apparentTemperatureMin       -0.378538  0.015882 -0.019878 -0.191293   \n",
       "apparentTemperatureMinTime    0.998288 -0.028172 -0.335176  0.766097   \n",
       "apparentTemperatureMax       -0.157891  0.002904 -0.444366  0.214928   \n",
       "apparentTemperatureMaxTime    0.999276 -0.028273 -0.344546  0.772962   \n",
       "\n",
       "                                price  distance  surge_multiplier  latitude  \\\n",
       "timestamp                    0.000808  0.003290          0.000611  0.168295   \n",
       "hour                         0.000561  0.002283         -0.000067  0.019228   \n",
       "day                         -0.000722 -0.000992          0.001397  0.006744   \n",
       "month                        0.000913  0.002402         -0.000612  0.085946   \n",
       "price                        1.000000  0.345061          0.240458  0.002088   \n",
       "distance                     0.345061  1.000000          0.025946  0.000984   \n",
       "surge_multiplier             0.240458  0.025946          1.000000  0.001471   \n",
       "latitude                     0.002088  0.000984          0.001471  1.000000   \n",
       "longitude                   -0.001417 -0.000415         -0.001961 -0.531443   \n",
       "temperature                 -0.000084 -0.002738         -0.001594 -0.098909   \n",
       "apparentTemperature         -0.000193 -0.002835         -0.002586 -0.067427   \n",
       "precipIntensity              0.000166 -0.000512         -0.001522 -0.074306   \n",
       "precipProbability           -0.000243  0.000134         -0.002825 -0.071331   \n",
       "humidity                    -0.001238 -0.003849         -0.001677 -0.117721   \n",
       "windSpeed                    0.000990  0.001709          0.002593 -0.097125   \n",
       "windGust                     0.001218  0.000920          0.002162  0.024346   \n",
       "windGustTime                 0.000851  0.003371          0.000477  0.172786   \n",
       "visibility                   0.001497  0.004143          0.001716  0.124286   \n",
       "temperatureHigh             -0.000516 -0.003795         -0.001943 -0.115623   \n",
       "temperatureHighTime          0.000759  0.003338          0.000560  0.173857   \n",
       "temperatureLow               0.000182 -0.001744         -0.002669 -0.032005   \n",
       "temperatureLowTime           0.000754  0.003282          0.000614  0.171345   \n",
       "apparentTemperatureHigh     -0.000261 -0.003699         -0.002098 -0.092459   \n",
       "apparentTemperatureHighTime  0.000741  0.003317          0.000559  0.173454   \n",
       "apparentTemperatureLow       0.000831 -0.001006         -0.003088 -0.002187   \n",
       "apparentTemperatureLowTime   0.000761  0.003311          0.000592  0.172724   \n",
       "dewPoint                    -0.000615 -0.003920         -0.001860 -0.130576   \n",
       "pressure                     0.000866  0.003565         -0.003109  0.149323   \n",
       "windBearing                 -0.001382 -0.002638          0.002171 -0.032467   \n",
       "cloudCover                   0.000883 -0.000958         -0.002101 -0.064560   \n",
       "uvIndex                     -0.000424  0.002422         -0.002567  0.010339   \n",
       "visibility.1                 0.001497  0.004143          0.001716  0.124286   \n",
       "ozone                        0.000460  0.001206          0.003456  0.063350   \n",
       "sunriseTime                  0.000760  0.003291          0.000585  0.171873   \n",
       "sunsetTime                   0.000760  0.003291          0.000585  0.171851   \n",
       "moonPhase                   -0.001602 -0.004301         -0.000163 -0.199608   \n",
       "precipIntensityMax           0.001114  0.000670         -0.000090 -0.047307   \n",
       "uvIndexTime                  0.000763  0.003298          0.000585  0.171976   \n",
       "temperatureMin              -0.000428 -0.003192         -0.000716 -0.114437   \n",
       "temperatureMinTime           0.000769  0.003166          0.000594  0.169740   \n",
       "temperatureMax              -0.000550 -0.003875         -0.001998 -0.109271   \n",
       "temperatureMaxTime           0.000766  0.003318          0.000563  0.175336   \n",
       "apparentTemperatureMin      -0.000580 -0.003649         -0.001317 -0.096327   \n",
       "apparentTemperatureMinTime   0.000814  0.003266          0.000502  0.171069   \n",
       "apparentTemperatureMax      -0.000290 -0.003889         -0.002214 -0.082894   \n",
       "apparentTemperatureMaxTime   0.000746  0.003319          0.000559  0.173359   \n",
       "\n",
       "                             longitude  temperature  ...  precipIntensityMax  \\\n",
       "timestamp                    -0.136716    -0.249027  ...           -0.211887   \n",
       "hour                         -0.005986     0.218829  ...            0.020288   \n",
       "day                           0.078539    -0.083934  ...            0.145789   \n",
       "month                        -0.126763    -0.082048  ...           -0.213301   \n",
       "price                        -0.001417    -0.000084  ...            0.001114   \n",
       "distance                     -0.000415    -0.002738  ...            0.000670   \n",
       "surge_multiplier             -0.001961    -0.001594  ...           -0.000090   \n",
       "latitude                     -0.531443    -0.098909  ...           -0.047307   \n",
       "longitude                     1.000000     0.012402  ...            0.030330   \n",
       "temperature                   0.012402     1.000000  ...            0.333160   \n",
       "apparentTemperature          -0.005897     0.946157  ...            0.257128   \n",
       "precipIntensity               0.130794     0.182673  ...            0.498344   \n",
       "precipProbability             0.122212     0.239189  ...            0.582883   \n",
       "humidity                      0.090731     0.313813  ...            0.519783   \n",
       "windSpeed                     0.092773     0.058846  ...            0.212359   \n",
       "windGust                     -0.006145    -0.008775  ...            0.100315   \n",
       "windGustTime                 -0.137020    -0.248254  ...           -0.202032   \n",
       "visibility                   -0.097102    -0.324158  ...           -0.544535   \n",
       "temperatureHigh               0.007682     0.788564  ...            0.192592   \n",
       "temperatureHighTime          -0.136469    -0.257457  ...           -0.214640   \n",
       "temperatureLow                0.077802     0.502193  ...            0.336032   \n",
       "temperatureLowTime           -0.135908    -0.254572  ...           -0.210220   \n",
       "apparentTemperatureHigh      -0.001465     0.710386  ...            0.173361   \n",
       "apparentTemperatureHighTime  -0.136121    -0.258895  ...           -0.216838   \n",
       "apparentTemperatureLow        0.018958     0.382828  ...            0.254386   \n",
       "apparentTemperatureLowTime   -0.137076    -0.253780  ...           -0.207734   \n",
       "dewPoint                      0.056269     0.863992  ...            0.505888   \n",
       "pressure                     -0.085849    -0.339378  ...           -0.243853   \n",
       "windBearing                  -0.034433    -0.244166  ...           -0.554367   \n",
       "cloudCover                    0.073642     0.355049  ...            0.395542   \n",
       "uvIndex                       0.009943     0.158551  ...           -0.040910   \n",
       "visibility.1                 -0.097102    -0.324158  ...           -0.544535   \n",
       "ozone                        -0.022412    -0.291209  ...           -0.222898   \n",
       "sunriseTime                  -0.136395    -0.255277  ...           -0.210841   \n",
       "sunsetTime                   -0.136377    -0.255279  ...           -0.210803   \n",
       "moonPhase                     0.104755     0.345560  ...            0.055683   \n",
       "precipIntensityMax            0.030330     0.333160  ...            1.000000   \n",
       "uvIndexTime                  -0.136620    -0.254755  ...           -0.209518   \n",
       "temperatureMin                0.048836     0.789220  ...            0.446422   \n",
       "temperatureMinTime           -0.140275    -0.242993  ...           -0.209992   \n",
       "temperatureMax               -0.007029     0.780426  ...            0.180394   \n",
       "temperatureMaxTime           -0.136949    -0.254172  ...           -0.213661   \n",
       "apparentTemperatureMin        0.010131     0.817443  ...            0.409563   \n",
       "apparentTemperatureMinTime   -0.140399    -0.231811  ...           -0.188269   \n",
       "apparentTemperatureMax       -0.022605     0.703078  ...            0.157555   \n",
       "apparentTemperatureMaxTime   -0.135525    -0.255578  ...           -0.215982   \n",
       "\n",
       "                             uvIndexTime  temperatureMin  temperatureMinTime  \\\n",
       "timestamp                       0.999364       -0.307194            0.998195   \n",
       "hour                           -0.027997        0.015668           -0.027486   \n",
       "day                            -0.341330        0.038089           -0.334118   \n",
       "month                           0.770832       -0.191928            0.765319   \n",
       "price                           0.000763       -0.000428            0.000769   \n",
       "distance                        0.003298       -0.003192            0.003166   \n",
       "surge_multiplier                0.000585       -0.000716            0.000594   \n",
       "latitude                        0.171976       -0.114437            0.169740   \n",
       "longitude                      -0.136620        0.048836           -0.140275   \n",
       "temperature                    -0.254755        0.789220           -0.242993   \n",
       "apparentTemperature            -0.231526        0.697343           -0.224970   \n",
       "precipIntensity                -0.180105        0.236618           -0.182130   \n",
       "precipProbability              -0.144386        0.274351           -0.147747   \n",
       "humidity                       -0.160109        0.461536           -0.167571   \n",
       "windSpeed                      -0.068176        0.174181           -0.051533   \n",
       "windGust                        0.004860        0.081460            0.023537   \n",
       "windGustTime                    0.999362       -0.301200            0.998324   \n",
       "visibility                      0.151716       -0.352681            0.152038   \n",
       "temperatureHigh                -0.228424        0.794579           -0.214435   \n",
       "temperatureHighTime             0.999909       -0.309989            0.998486   \n",
       "temperatureLow                 -0.369039        0.473054           -0.383572   \n",
       "temperatureLowTime              0.999804       -0.305337            0.999147   \n",
       "apparentTemperatureHigh        -0.215812        0.665030           -0.206880   \n",
       "apparentTemperatureHighTime     0.999895       -0.312349            0.998464   \n",
       "apparentTemperatureLow         -0.403237        0.284247           -0.416470   \n",
       "apparentTemperatureLowTime      0.999831       -0.305205            0.999054   \n",
       "dewPoint                       -0.265635        0.797069           -0.261606   \n",
       "pressure                        0.533160       -0.454901            0.520017   \n",
       "windBearing                    -0.134078       -0.250716           -0.127417   \n",
       "cloudCover                     -0.080066        0.284457           -0.087279   \n",
       "uvIndex                        -0.024113       -0.022317           -0.025068   \n",
       "visibility.1                    0.151716       -0.352681            0.152038   \n",
       "ozone                           0.193669       -0.183249            0.199383   \n",
       "sunriseTime                     0.999997       -0.307938            0.999000   \n",
       "sunsetTime                      0.999997       -0.307921            0.999001   \n",
       "moonPhase                      -0.844854        0.401323           -0.841703   \n",
       "precipIntensityMax             -0.209518        0.446422           -0.209992   \n",
       "uvIndexTime                     1.000000       -0.307319            0.999016   \n",
       "temperatureMin                 -0.307319        1.000000           -0.294846   \n",
       "temperatureMinTime              0.999016       -0.294846            1.000000   \n",
       "temperatureMax                 -0.185573        0.782981           -0.168262   \n",
       "temperatureMaxTime              0.999780       -0.306820            0.998165   \n",
       "apparentTemperatureMin         -0.379904        0.953828           -0.372920   \n",
       "apparentTemperatureMinTime      0.999010       -0.278686            0.999376   \n",
       "apparentTemperatureMax         -0.156748        0.648346           -0.143396   \n",
       "apparentTemperatureMaxTime      0.999776       -0.308906            0.998136   \n",
       "\n",
       "                             temperatureMax  temperatureMaxTime  \\\n",
       "timestamp                         -0.186495            0.999290   \n",
       "hour                               0.002982           -0.028479   \n",
       "day                               -0.304704           -0.344669   \n",
       "month                              0.105113            0.773057   \n",
       "price                             -0.000550            0.000766   \n",
       "distance                          -0.003875            0.003318   \n",
       "surge_multiplier                  -0.001998            0.000563   \n",
       "latitude                          -0.109271            0.175336   \n",
       "longitude                         -0.007029           -0.136949   \n",
       "temperature                        0.780426           -0.254172   \n",
       "apparentTemperature                0.792476           -0.227930   \n",
       "precipIntensity                    0.114034           -0.181972   \n",
       "precipProbability                  0.142088           -0.146303   \n",
       "humidity                           0.394681           -0.158001   \n",
       "windSpeed                         -0.120540           -0.078561   \n",
       "windGust                          -0.144428           -0.005918   \n",
       "windGustTime                      -0.179908            0.999302   \n",
       "visibility                        -0.297030            0.154259   \n",
       "temperatureHigh                    0.985996           -0.226153   \n",
       "temperatureHighTime               -0.188985            0.999885   \n",
       "temperatureLow                     0.567522           -0.360347   \n",
       "temperatureLowTime                -0.188527            0.999522   \n",
       "apparentTemperatureHigh            0.926408           -0.211708   \n",
       "apparentTemperatureHighTime       -0.189806            0.999870   \n",
       "apparentTemperatureLow             0.492195           -0.395025   \n",
       "apparentTemperatureLowTime        -0.187815            0.999618   \n",
       "dewPoint                           0.751028           -0.263867   \n",
       "pressure                          -0.164477            0.539173   \n",
       "windBearing                       -0.166562           -0.136426   \n",
       "cloudCover                         0.114399           -0.080069   \n",
       "uvIndex                           -0.007191           -0.024558   \n",
       "visibility.1                      -0.297030            0.154259   \n",
       "ozone                             -0.443851            0.189921   \n",
       "sunriseTime                       -0.186060            0.999793   \n",
       "sunsetTime                        -0.186081            0.999792   \n",
       "moonPhase                          0.372141           -0.845285   \n",
       "precipIntensityMax                 0.180394           -0.213661   \n",
       "uvIndexTime                       -0.185573            0.999780   \n",
       "temperatureMin                     0.782981           -0.306820   \n",
       "temperatureMinTime                -0.168262            0.998165   \n",
       "temperatureMax                     1.000000           -0.185704   \n",
       "temperatureMaxTime                -0.185704            1.000000   \n",
       "apparentTemperatureMin             0.838385           -0.375939   \n",
       "apparentTemperatureMinTime        -0.162329            0.998467   \n",
       "apparentTemperatureMax             0.956333           -0.155807   \n",
       "apparentTemperatureMaxTime        -0.186854            0.999959   \n",
       "\n",
       "                             apparentTemperatureMin  \\\n",
       "timestamp                                 -0.378538   \n",
       "hour                                       0.015882   \n",
       "day                                       -0.019878   \n",
       "month                                     -0.191293   \n",
       "price                                     -0.000580   \n",
       "distance                                  -0.003649   \n",
       "surge_multiplier                          -0.001317   \n",
       "latitude                                  -0.096327   \n",
       "longitude                                  0.010131   \n",
       "temperature                                0.817443   \n",
       "apparentTemperature                        0.786478   \n",
       "precipIntensity                            0.224728   \n",
       "precipProbability                          0.263234   \n",
       "humidity                                   0.512080   \n",
       "windSpeed                                 -0.019857   \n",
       "windGust                                  -0.116490   \n",
       "windGustTime                              -0.371712   \n",
       "visibility                                -0.343779   \n",
       "temperatureHigh                            0.877508   \n",
       "temperatureHighTime                       -0.381595   \n",
       "temperatureLow                             0.636257   \n",
       "temperatureLowTime                        -0.380564   \n",
       "apparentTemperatureHigh                    0.791979   \n",
       "apparentTemperatureHighTime               -0.383355   \n",
       "apparentTemperatureLow                     0.479351   \n",
       "apparentTemperatureLowTime                -0.378955   \n",
       "dewPoint                                   0.845276   \n",
       "pressure                                  -0.342653   \n",
       "windBearing                               -0.268106   \n",
       "cloudCover                                 0.249460   \n",
       "uvIndex                                   -0.019397   \n",
       "visibility.1                              -0.343779   \n",
       "ozone                                     -0.364728   \n",
       "sunriseTime                               -0.380446   \n",
       "sunsetTime                                -0.380446   \n",
       "moonPhase                                  0.445300   \n",
       "precipIntensityMax                         0.409563   \n",
       "uvIndexTime                               -0.379904   \n",
       "temperatureMin                             0.953828   \n",
       "temperatureMinTime                        -0.372920   \n",
       "temperatureMax                             0.838385   \n",
       "temperatureMaxTime                        -0.375939   \n",
       "apparentTemperatureMin                     1.000000   \n",
       "apparentTemperatureMinTime                -0.355411   \n",
       "apparentTemperatureMax                     0.741929   \n",
       "apparentTemperatureMaxTime                -0.377609   \n",
       "\n",
       "                             apparentTemperatureMinTime  \\\n",
       "timestamp                                      0.998288   \n",
       "hour                                          -0.028172   \n",
       "day                                           -0.335176   \n",
       "month                                          0.766097   \n",
       "price                                          0.000814   \n",
       "distance                                       0.003266   \n",
       "surge_multiplier                               0.000502   \n",
       "latitude                                       0.171069   \n",
       "longitude                                     -0.140399   \n",
       "temperature                                   -0.231811   \n",
       "apparentTemperature                           -0.212681   \n",
       "precipIntensity                               -0.170320   \n",
       "precipProbability                             -0.135723   \n",
       "humidity                                      -0.152521   \n",
       "windSpeed                                     -0.056577   \n",
       "windGust                                       0.014032   \n",
       "windGustTime                                   0.998957   \n",
       "visibility                                     0.141784   \n",
       "temperatureHigh                               -0.205927   \n",
       "temperatureHighTime                            0.998537   \n",
       "temperatureLow                                -0.367621   \n",
       "temperatureLowTime                             0.999023   \n",
       "apparentTemperatureHigh                       -0.197785   \n",
       "apparentTemperatureHighTime                    0.998428   \n",
       "apparentTemperatureLow                        -0.404343   \n",
       "apparentTemperatureLowTime                     0.999083   \n",
       "dewPoint                                      -0.245659   \n",
       "pressure                                       0.526366   \n",
       "windBearing                                   -0.149146   \n",
       "cloudCover                                    -0.077602   \n",
       "uvIndex                                       -0.026859   \n",
       "visibility.1                                   0.141784   \n",
       "ozone                                          0.188441   \n",
       "sunriseTime                                    0.998971   \n",
       "sunsetTime                                     0.998972   \n",
       "moonPhase                                     -0.846008   \n",
       "precipIntensityMax                            -0.188269   \n",
       "uvIndexTime                                    0.999010   \n",
       "temperatureMin                                -0.278686   \n",
       "temperatureMinTime                             0.999376   \n",
       "temperatureMax                                -0.162329   \n",
       "temperatureMaxTime                             0.998467   \n",
       "apparentTemperatureMin                        -0.355411   \n",
       "apparentTemperatureMinTime                     1.000000   \n",
       "apparentTemperatureMax                        -0.137784   \n",
       "apparentTemperatureMaxTime                     0.998345   \n",
       "\n",
       "                             apparentTemperatureMax  \\\n",
       "timestamp                                 -0.157891   \n",
       "hour                                       0.002904   \n",
       "day                                       -0.444366   \n",
       "month                                      0.214928   \n",
       "price                                     -0.000290   \n",
       "distance                                  -0.003889   \n",
       "surge_multiplier                          -0.002214   \n",
       "latitude                                  -0.082894   \n",
       "longitude                                 -0.022605   \n",
       "temperature                                0.703078   \n",
       "apparentTemperature                        0.782255   \n",
       "precipIntensity                            0.108917   \n",
       "precipProbability                          0.136403   \n",
       "humidity                                   0.410285   \n",
       "windSpeed                                 -0.304331   \n",
       "windGust                                  -0.316142   \n",
       "windGustTime                              -0.151856   \n",
       "visibility                                -0.297609   \n",
       "temperatureHigh                            0.951037   \n",
       "temperatureHighTime                       -0.159892   \n",
       "temperatureLow                             0.579368   \n",
       "temperatureLowTime                        -0.161584   \n",
       "apparentTemperatureHigh                    0.974276   \n",
       "apparentTemperatureHighTime               -0.160231   \n",
       "apparentTemperatureLow                     0.558125   \n",
       "apparentTemperatureLowTime                -0.159613   \n",
       "dewPoint                                   0.704902   \n",
       "pressure                                   0.015709   \n",
       "windBearing                               -0.209263   \n",
       "cloudCover                                 0.090000   \n",
       "uvIndex                                    0.006109   \n",
       "visibility.1                              -0.297609   \n",
       "ozone                                     -0.591788   \n",
       "sunriseTime                               -0.157158   \n",
       "sunsetTime                                -0.157192   \n",
       "moonPhase                                  0.344328   \n",
       "precipIntensityMax                         0.157555   \n",
       "uvIndexTime                               -0.156748   \n",
       "temperatureMin                             0.648346   \n",
       "temperatureMinTime                        -0.143396   \n",
       "temperatureMax                             0.956333   \n",
       "temperatureMaxTime                        -0.155807   \n",
       "apparentTemperatureMin                     0.741929   \n",
       "apparentTemperatureMinTime                -0.137784   \n",
       "apparentTemperatureMax                     1.000000   \n",
       "apparentTemperatureMaxTime                -0.156592   \n",
       "\n",
       "                             apparentTemperatureMaxTime  \n",
       "timestamp                                      0.999276  \n",
       "hour                                          -0.028273  \n",
       "day                                           -0.344546  \n",
       "month                                          0.772962  \n",
       "price                                          0.000746  \n",
       "distance                                       0.003319  \n",
       "surge_multiplier                               0.000559  \n",
       "latitude                                       0.173359  \n",
       "longitude                                     -0.135525  \n",
       "temperature                                   -0.255578  \n",
       "apparentTemperature                           -0.228891  \n",
       "precipIntensity                               -0.182989  \n",
       "precipProbability                             -0.147215  \n",
       "humidity                                      -0.158142  \n",
       "windSpeed                                     -0.079719  \n",
       "windGust                                      -0.007186  \n",
       "windGustTime                                   0.999175  \n",
       "visibility                                     0.154883  \n",
       "temperatureHigh                               -0.227134  \n",
       "temperatureHighTime                            0.999885  \n",
       "temperatureLow                                -0.362016  \n",
       "temperatureLowTime                             0.999526  \n",
       "apparentTemperatureHigh                       -0.212270  \n",
       "apparentTemperatureHighTime                    0.999901  \n",
       "apparentTemperatureLow                        -0.396456  \n",
       "apparentTemperatureLowTime                     0.999632  \n",
       "dewPoint                                      -0.264947  \n",
       "pressure                                       0.539355  \n",
       "windBearing                                   -0.133798  \n",
       "cloudCover                                    -0.080854  \n",
       "uvIndex                                       -0.023679  \n",
       "visibility.1                                   0.154883  \n",
       "ozone                                          0.189287  \n",
       "sunriseTime                                    0.999794  \n",
       "sunsetTime                                     0.999793  \n",
       "moonPhase                                     -0.844786  \n",
       "precipIntensityMax                            -0.215982  \n",
       "uvIndexTime                                    0.999776  \n",
       "temperatureMin                                -0.308906  \n",
       "temperatureMinTime                             0.998136  \n",
       "temperatureMax                                -0.186854  \n",
       "temperatureMaxTime                             0.999959  \n",
       "apparentTemperatureMin                        -0.377609  \n",
       "apparentTemperatureMinTime                     0.998345  \n",
       "apparentTemperatureMax                        -0.156592  \n",
       "apparentTemperatureMaxTime                     1.000000  \n",
       "\n",
       "[46 rows x 46 columns]"
      ]
     },
     "execution_count": 16,
     "metadata": {},
     "output_type": "execute_result"
    }
   ],
   "source": [
    "df.corr()"
   ]
  },
  {
   "cell_type": "code",
   "execution_count": 17,
   "metadata": {},
   "outputs": [
    {
     "name": "stderr",
     "output_type": "stream",
     "text": [
      "C:\\Users\\HP\\AppData\\Local\\Temp/ipykernel_800/1945449732.py:3: DeprecationWarning: `np.bool` is a deprecated alias for the builtin `bool`. To silence this warning, use `bool` by itself. Doing this will not modify any behavior and is safe. If you specifically wanted the numpy scalar type, use `np.bool_` here.\n",
      "Deprecated in NumPy 1.20; for more details and guidance: https://numpy.org/devdocs/release/1.20.0-notes.html#deprecations\n",
      "  sns.heatmap(corr, mask=np.zeros_like(corr, dtype=np.bool), cmap=sns.diverging_palette(220, 10, as_cmap=True),\n"
     ]
    },
    {
     "data": {
      "text/plain": [
       "<AxesSubplot:>"
      ]
     },
     "execution_count": 17,
     "metadata": {},
     "output_type": "execute_result"
    },
    {
     "data": {
      "image/png": "[encoded data removed]",
      "text/plain": [
       "<Figure size 1800x720 with 2 Axes>"
      ]
     },
     "metadata": {
      "needs_background": "light"
     },
     "output_type": "display_data"
    }
   ],
   "source": [
    "f, ax = plt.subplots(figsize=(25, 10))\n",
    "corr = df.corr()\n",
    "sns.heatmap(corr, mask=np.zeros_like(corr, dtype=np.bool), cmap=sns.diverging_palette(220, 10, as_cmap=True),\n",
    "            square=True, ax=ax)"
   ]
  },
  {
   "cell_type": "markdown",
   "metadata": {},
   "source": [
    "Berdasarkan plot korelasi tersebut, kolom price hanya memiliki korelasi dengan kolom distance(jarak) dan surge_multiplier(lonjakan harga) yaitu sebesar 0.3 dan 0.2, sedangkan kolom lainnya hampir tidak memiliki korelasi (korelasi hampir 0). Oleh karena itu kolom yang digunakan adalah kolom distance dan surge_multiplier serta beberapa kolom objek yang memiliki pengaruh terhadap harga seperti hour, day, month, source, destination, cab_type, dan name"
   ]
  },
  {
   "cell_type": "code",
   "execution_count": 18,
   "metadata": {},
   "outputs": [],
   "source": [
    "columns = ['hour', 'day', 'month', 'source', 'destination','cab_type', 'name', 'price', 'distance', 'surge_multiplier']\n",
    "data = df[columns]"
   ]
  },
  {
   "cell_type": "code",
   "execution_count": 19,
   "metadata": {},
   "outputs": [
    {
     "data": {
      "text/plain": [
       "hour                 24\n",
       "day                  17\n",
       "month                 2\n",
       "source               12\n",
       "destination          12\n",
       "cab_type              2\n",
       "name                 12\n",
       "price               147\n",
       "distance            549\n",
       "surge_multiplier      7\n",
       "dtype: int64"
      ]
     },
     "execution_count": 19,
     "metadata": {},
     "output_type": "execute_result"
    }
   ],
   "source": [
    "data.nunique()"
   ]
  },
  {
   "cell_type": "code",
   "execution_count": 20,
   "metadata": {},
   "outputs": [
    {
     "name": "stdout",
     "output_type": "stream",
     "text": [
      "<class 'pandas.core.frame.DataFrame'>\n",
      "Int64Index: 637976 entries, 0 to 693070\n",
      "Data columns (total 10 columns):\n",
      " #   Column            Non-Null Count   Dtype  \n",
      "---  ------            --------------   -----  \n",
      " 0   hour              637976 non-null  int64  \n",
      " 1   day               637976 non-null  int64  \n",
      " 2   month             637976 non-null  int64  \n",
      " 3   source            637976 non-null  object \n",
      " 4   destination       637976 non-null  object \n",
      " 5   cab_type          637976 non-null  object \n",
      " 6   name              637976 non-null  object \n",
      " 7   price             637976 non-null  float64\n",
      " 8   distance          637976 non-null  float64\n",
      " 9   surge_multiplier  637976 non-null  float64\n",
      "dtypes: float64(3), int64(3), object(4)\n",
      "memory usage: 53.5+ MB\n"
     ]
    }
   ],
   "source": [
    "data.info()"
   ]
  },
  {
   "cell_type": "code",
   "execution_count": 21,
   "metadata": {},
   "outputs": [
    {
     "data": {
      "text/html": [
       "<div>\n",
       "<style scoped>\n",
       "    .dataframe tbody tr th:only-of-type {\n",
       "        vertical-align: middle;\n",
       "    }\n",
       "\n",
       "    .dataframe tbody tr th {\n",
       "        vertical-align: top;\n",
       "    }\n",
       "\n",
       "    .dataframe thead th {\n",
       "        text-align: right;\n",
       "    }\n",
       "</style>\n",
       "<table border=\"1\" class=\"dataframe\">\n",
       "  <thead>\n",
       "    <tr style=\"text-align: right;\">\n",
       "      <th></th>\n",
       "      <th>hour</th>\n",
       "      <th>day</th>\n",
       "      <th>month</th>\n",
       "      <th>source</th>\n",
       "      <th>destination</th>\n",
       "      <th>cab_type</th>\n",
       "      <th>name</th>\n",
       "      <th>price</th>\n",
       "      <th>distance</th>\n",
       "      <th>surge_multiplier</th>\n",
       "    </tr>\n",
       "  </thead>\n",
       "  <tbody>\n",
       "    <tr>\n",
       "      <th>0</th>\n",
       "      <td>9</td>\n",
       "      <td>16</td>\n",
       "      <td>12</td>\n",
       "      <td>Haymarket Square</td>\n",
       "      <td>North Station</td>\n",
       "      <td>Lyft</td>\n",
       "      <td>Shared</td>\n",
       "      <td>5.0</td>\n",
       "      <td>0.44</td>\n",
       "      <td>1.0</td>\n",
       "    </tr>\n",
       "    <tr>\n",
       "      <th>1</th>\n",
       "      <td>2</td>\n",
       "      <td>27</td>\n",
       "      <td>11</td>\n",
       "      <td>Haymarket Square</td>\n",
       "      <td>North Station</td>\n",
       "      <td>Lyft</td>\n",
       "      <td>Lux</td>\n",
       "      <td>11.0</td>\n",
       "      <td>0.44</td>\n",
       "      <td>1.0</td>\n",
       "    </tr>\n",
       "    <tr>\n",
       "      <th>2</th>\n",
       "      <td>1</td>\n",
       "      <td>28</td>\n",
       "      <td>11</td>\n",
       "      <td>Haymarket Square</td>\n",
       "      <td>North Station</td>\n",
       "      <td>Lyft</td>\n",
       "      <td>Lyft</td>\n",
       "      <td>7.0</td>\n",
       "      <td>0.44</td>\n",
       "      <td>1.0</td>\n",
       "    </tr>\n",
       "    <tr>\n",
       "      <th>3</th>\n",
       "      <td>4</td>\n",
       "      <td>30</td>\n",
       "      <td>11</td>\n",
       "      <td>Haymarket Square</td>\n",
       "      <td>North Station</td>\n",
       "      <td>Lyft</td>\n",
       "      <td>Lux Black XL</td>\n",
       "      <td>26.0</td>\n",
       "      <td>0.44</td>\n",
       "      <td>1.0</td>\n",
       "    </tr>\n",
       "    <tr>\n",
       "      <th>4</th>\n",
       "      <td>3</td>\n",
       "      <td>29</td>\n",
       "      <td>11</td>\n",
       "      <td>Haymarket Square</td>\n",
       "      <td>North Station</td>\n",
       "      <td>Lyft</td>\n",
       "      <td>Lyft XL</td>\n",
       "      <td>9.0</td>\n",
       "      <td>0.44</td>\n",
       "      <td>1.0</td>\n",
       "    </tr>\n",
       "    <tr>\n",
       "      <th>...</th>\n",
       "      <td>...</td>\n",
       "      <td>...</td>\n",
       "      <td>...</td>\n",
       "      <td>...</td>\n",
       "      <td>...</td>\n",
       "      <td>...</td>\n",
       "      <td>...</td>\n",
       "      <td>...</td>\n",
       "      <td>...</td>\n",
       "      <td>...</td>\n",
       "    </tr>\n",
       "    <tr>\n",
       "      <th>693065</th>\n",
       "      <td>23</td>\n",
       "      <td>1</td>\n",
       "      <td>12</td>\n",
       "      <td>West End</td>\n",
       "      <td>North End</td>\n",
       "      <td>Uber</td>\n",
       "      <td>WAV</td>\n",
       "      <td>9.5</td>\n",
       "      <td>1.00</td>\n",
       "      <td>1.0</td>\n",
       "    </tr>\n",
       "    <tr>\n",
       "      <th>693066</th>\n",
       "      <td>23</td>\n",
       "      <td>1</td>\n",
       "      <td>12</td>\n",
       "      <td>West End</td>\n",
       "      <td>North End</td>\n",
       "      <td>Uber</td>\n",
       "      <td>UberXL</td>\n",
       "      <td>13.0</td>\n",
       "      <td>1.00</td>\n",
       "      <td>1.0</td>\n",
       "    </tr>\n",
       "    <tr>\n",
       "      <th>693067</th>\n",
       "      <td>23</td>\n",
       "      <td>1</td>\n",
       "      <td>12</td>\n",
       "      <td>West End</td>\n",
       "      <td>North End</td>\n",
       "      <td>Uber</td>\n",
       "      <td>UberX</td>\n",
       "      <td>9.5</td>\n",
       "      <td>1.00</td>\n",
       "      <td>1.0</td>\n",
       "    </tr>\n",
       "    <tr>\n",
       "      <th>693069</th>\n",
       "      <td>23</td>\n",
       "      <td>1</td>\n",
       "      <td>12</td>\n",
       "      <td>West End</td>\n",
       "      <td>North End</td>\n",
       "      <td>Uber</td>\n",
       "      <td>Black SUV</td>\n",
       "      <td>27.0</td>\n",
       "      <td>1.00</td>\n",
       "      <td>1.0</td>\n",
       "    </tr>\n",
       "    <tr>\n",
       "      <th>693070</th>\n",
       "      <td>23</td>\n",
       "      <td>1</td>\n",
       "      <td>12</td>\n",
       "      <td>West End</td>\n",
       "      <td>North End</td>\n",
       "      <td>Uber</td>\n",
       "      <td>UberPool</td>\n",
       "      <td>10.0</td>\n",
       "      <td>1.00</td>\n",
       "      <td>1.0</td>\n",
       "    </tr>\n",
       "  </tbody>\n",
       "</table>\n",
       "<p>637976 rows × 10 columns</p>\n",
       "</div>"
      ],
      "text/plain": [
       "        hour  day  month            source    destination cab_type  \\\n",
       "0          9   16     12  Haymarket Square  North Station     Lyft   \n",
       "1          2   27     11  Haymarket Square  North Station     Lyft   \n",
       "2          1   28     11  Haymarket Square  North Station     Lyft   \n",
       "3          4   30     11  Haymarket Square  North Station     Lyft   \n",
       "4          3   29     11  Haymarket Square  North Station     Lyft   \n",
       "...      ...  ...    ...               ...            ...      ...   \n",
       "693065    23    1     12          West End      North End     Uber   \n",
       "693066    23    1     12          West End      North End     Uber   \n",
       "693067    23    1     12          West End      North End     Uber   \n",
       "693069    23    1     12          West End      North End     Uber   \n",
       "693070    23    1     12          West End      North End     Uber   \n",
       "\n",
       "                name  price  distance  surge_multiplier  \n",
       "0             Shared    5.0      0.44               1.0  \n",
       "1                Lux   11.0      0.44               1.0  \n",
       "2               Lyft    7.0      0.44               1.0  \n",
       "3       Lux Black XL   26.0      0.44               1.0  \n",
       "4            Lyft XL    9.0      0.44               1.0  \n",
       "...              ...    ...       ...               ...  \n",
       "693065           WAV    9.5      1.00               1.0  \n",
       "693066        UberXL   13.0      1.00               1.0  \n",
       "693067         UberX    9.5      1.00               1.0  \n",
       "693069     Black SUV   27.0      1.00               1.0  \n",
       "693070      UberPool   10.0      1.00               1.0  \n",
       "\n",
       "[637976 rows x 10 columns]"
      ]
     },
     "execution_count": 21,
     "metadata": {},
     "output_type": "execute_result"
    }
   ],
   "source": [
    "data"
   ]
  },
  {
   "cell_type": "code",
   "execution_count": 22,
   "metadata": {},
   "outputs": [
    {
     "name": "stderr",
     "output_type": "stream",
     "text": [
      "C:\\Users\\HP\\AppData\\Local\\Temp/ipykernel_800/641161833.py:3: DeprecationWarning: `np.bool` is a deprecated alias for the builtin `bool`. To silence this warning, use `bool` by itself. Doing this will not modify any behavior and is safe. If you specifically wanted the numpy scalar type, use `np.bool_` here.\n",
      "Deprecated in NumPy 1.20; for more details and guidance: https://numpy.org/devdocs/release/1.20.0-notes.html#deprecations\n",
      "  sns.heatmap(corr, mask=np.zeros_like(corr, dtype=np.bool), cmap=sns.diverging_palette(220, 10, as_cmap=True),\n"
     ]
    },
    {
     "data": {
      "text/plain": [
       "<AxesSubplot:>"
      ]
     },
     "execution_count": 22,
     "metadata": {},
     "output_type": "execute_result"
    },
    {
     "data": {
      "image/png": "[encoded data removed]",
      "text/plain": [
       "<Figure size 720x576 with 2 Axes>"
      ]
     },
     "metadata": {
      "needs_background": "light"
     },
     "output_type": "display_data"
    }
   ],
   "source": [
    "f, ax = plt.subplots(figsize=(10, 8))\n",
    "corr = data.corr()\n",
    "sns.heatmap(corr, mask=np.zeros_like(corr, dtype=np.bool), cmap=sns.diverging_palette(220, 10, as_cmap=True),\n",
    "            square=True, ax=ax)"
   ]
  },
  {
   "cell_type": "markdown",
   "metadata": {},
   "source": [
    "Berdasarkan hasil visualisasi diatas predictand (price) memiliki korelasi yang lumayan dengan distance dan surge_multiplier"
   ]
  },
  {
   "cell_type": "markdown",
   "metadata": {},
   "source": [
    "# Explorasi Data"
   ]
  },
  {
   "cell_type": "code",
   "execution_count": 23,
   "metadata": {},
   "outputs": [
    {
     "data": {
      "text/html": [
       "<div>\n",
       "<style scoped>\n",
       "    .dataframe tbody tr th:only-of-type {\n",
       "        vertical-align: middle;\n",
       "    }\n",
       "\n",
       "    .dataframe tbody tr th {\n",
       "        vertical-align: top;\n",
       "    }\n",
       "\n",
       "    .dataframe thead th {\n",
       "        text-align: right;\n",
       "    }\n",
       "</style>\n",
       "<table border=\"1\" class=\"dataframe\">\n",
       "  <thead>\n",
       "    <tr style=\"text-align: right;\">\n",
       "      <th></th>\n",
       "      <th>cab_type</th>\n",
       "      <th>name</th>\n",
       "      <th>jumlah</th>\n",
       "    </tr>\n",
       "  </thead>\n",
       "  <tbody>\n",
       "    <tr>\n",
       "      <th>0</th>\n",
       "      <td>Lyft</td>\n",
       "      <td>Lux</td>\n",
       "      <td>51235</td>\n",
       "    </tr>\n",
       "    <tr>\n",
       "      <th>1</th>\n",
       "      <td>Lyft</td>\n",
       "      <td>Lux Black</td>\n",
       "      <td>51235</td>\n",
       "    </tr>\n",
       "    <tr>\n",
       "      <th>2</th>\n",
       "      <td>Lyft</td>\n",
       "      <td>Lux Black XL</td>\n",
       "      <td>51235</td>\n",
       "    </tr>\n",
       "    <tr>\n",
       "      <th>3</th>\n",
       "      <td>Lyft</td>\n",
       "      <td>Lyft</td>\n",
       "      <td>51235</td>\n",
       "    </tr>\n",
       "    <tr>\n",
       "      <th>4</th>\n",
       "      <td>Lyft</td>\n",
       "      <td>Lyft XL</td>\n",
       "      <td>51235</td>\n",
       "    </tr>\n",
       "    <tr>\n",
       "      <th>5</th>\n",
       "      <td>Lyft</td>\n",
       "      <td>Shared</td>\n",
       "      <td>51233</td>\n",
       "    </tr>\n",
       "    <tr>\n",
       "      <th>6</th>\n",
       "      <td>Uber</td>\n",
       "      <td>Black</td>\n",
       "      <td>55095</td>\n",
       "    </tr>\n",
       "    <tr>\n",
       "      <th>7</th>\n",
       "      <td>Uber</td>\n",
       "      <td>Black SUV</td>\n",
       "      <td>55096</td>\n",
       "    </tr>\n",
       "    <tr>\n",
       "      <th>8</th>\n",
       "      <td>Uber</td>\n",
       "      <td>UberPool</td>\n",
       "      <td>55091</td>\n",
       "    </tr>\n",
       "    <tr>\n",
       "      <th>9</th>\n",
       "      <td>Uber</td>\n",
       "      <td>UberX</td>\n",
       "      <td>55094</td>\n",
       "    </tr>\n",
       "    <tr>\n",
       "      <th>10</th>\n",
       "      <td>Uber</td>\n",
       "      <td>UberXL</td>\n",
       "      <td>55096</td>\n",
       "    </tr>\n",
       "    <tr>\n",
       "      <th>11</th>\n",
       "      <td>Uber</td>\n",
       "      <td>WAV</td>\n",
       "      <td>55096</td>\n",
       "    </tr>\n",
       "  </tbody>\n",
       "</table>\n",
       "</div>"
      ],
      "text/plain": [
       "   cab_type          name  jumlah\n",
       "0      Lyft           Lux   51235\n",
       "1      Lyft     Lux Black   51235\n",
       "2      Lyft  Lux Black XL   51235\n",
       "3      Lyft          Lyft   51235\n",
       "4      Lyft       Lyft XL   51235\n",
       "5      Lyft        Shared   51233\n",
       "6      Uber         Black   55095\n",
       "7      Uber     Black SUV   55096\n",
       "8      Uber      UberPool   55091\n",
       "9      Uber         UberX   55094\n",
       "10     Uber        UberXL   55096\n",
       "11     Uber           WAV   55096"
      ]
     },
     "execution_count": 23,
     "metadata": {},
     "output_type": "execute_result"
    }
   ],
   "source": [
    "data1 = data.groupby(by=['cab_type', 'name']).size().reset_index(name='jumlah')\n",
    "data1"
   ]
  },
  {
   "cell_type": "code",
   "execution_count": 24,
   "metadata": {},
   "outputs": [
    {
     "data": {
      "application/vnd.plotly.v1+json": {
       "config": {
        "plotlyServerURL": "https://plot.ly"
       },
       "data": [
        {
         "alignmentgroup": "True",
         "hovertemplate": "cab_type=Lyft<br>name=%{x}<br>jumlah=%{y}<extra></extra>",
         "legendgroup": "Lyft",
         "marker": {
          "color": "#636efa",
          "pattern": {
           "shape": ""
          }
         },
         "name": "Lyft",
         "offsetgroup": "Lyft",
         "orientation": "v",
         "showlegend": true,
         "textposition": "auto",
         "type": "bar",
         "x": [
          "Lux",
          "Lux Black",
          "Lux Black XL",
          "Lyft",
          "Lyft XL",
          "Shared"
         ],
         "xaxis": "x",
         "y": [
          51235,
          51235,
          51235,
          51235,
          51235,
          51233
         ],
         "yaxis": "y"
        },
        {
         "alignmentgroup": "True",
         "hovertemplate": "cab_type=Uber<br>name=%{x}<br>jumlah=%{y}<extra></extra>",
         "legendgroup": "Uber",
         "marker": {
          "color": "#EF553B",
          "pattern": {
           "shape": ""
          }
         },
         "name": "Uber",
         "offsetgroup": "Uber",
         "orientation": "v",
         "showlegend": true,
         "textposition": "auto",
         "type": "bar",
         "x": [
          "Black",
          "Black SUV",
          "UberPool",
          "UberX",
          "UberXL",
          "WAV"
         ],
         "xaxis": "x",
         "y": [
          55095,
          55096,
          55091,
          55094,
          55096,
          55096
         ],
         "yaxis": "y"
        }
       ],
       "layout": {
        "barmode": "group",
        "legend": {
         "title": {
          "text": "cab_type"
         },
         "tracegroupgap": 0
        },
        "margin": {
         "t": 60
        },
        "template": {
         "data": {
          "bar": [
           {
            "error_x": {
             "color": "#2a3f5f"
            },
            "error_y": {
             "color": "#2a3f5f"
            },
            "marker": {
             "line": {
              "color": "#E5ECF6",
              "width": 0.5
             },
             "pattern": {
              "fillmode": "overlay",
              "size": 10,
              "solidity": 0.2
             }
            },
            "type": "bar"
           }
          ],
          "barpolar": [
           {
            "marker": {
             "line": {
              "color": "#E5ECF6",
              "width": 0.5
             },
             "pattern": {
              "fillmode": "overlay",
              "size": 10,
              "solidity": 0.2
             }
            },
            "type": "barpolar"
           }
          ],
          "carpet": [
           {
            "aaxis": {
             "endlinecolor": "#2a3f5f",
             "gridcolor": "white",
             "linecolor": "white",
             "minorgridcolor": "white",
             "startlinecolor": "#2a3f5f"
            },
            "baxis": {
             "endlinecolor": "#2a3f5f",
             "gridcolor": "white",
             "linecolor": "white",
             "minorgridcolor": "white",
             "startlinecolor": "#2a3f5f"
            },
            "type": "carpet"
           }
          ],
          "choropleth": [
           {
            "colorbar": {
             "outlinewidth": 0,
             "ticks": ""
            },
            "type": "choropleth"
           }
          ],
          "contour": [
           {
            "colorbar": {
             "outlinewidth": 0,
             "ticks": ""
            },
            "colorscale": [
             [
              0,
              "#0d0887"
             ],
             [
              0.1111111111111111,
              "#46039f"
             ],
             [
              0.2222222222222222,
              "#7201a8"
             ],
             [
              0.3333333333333333,
              "#9c179e"
             ],
             [
              0.4444444444444444,
              "#bd3786"
             ],
             [
              0.5555555555555556,
              "#d8576b"
             ],
             [
              0.6666666666666666,
              "#ed7953"
             ],
             [
              0.7777777777777778,
              "#fb9f3a"
             ],
             [
              0.8888888888888888,
              "#fdca26"
             ],
             [
              1,
              "#f0f921"
             ]
            ],
            "type": "contour"
           }
          ],
          "contourcarpet": [
           {
            "colorbar": {
             "outlinewidth": 0,
             "ticks": ""
            },
            "type": "contourcarpet"
           }
          ],
          "heatmap": [
           {
            "colorbar": {
             "outlinewidth": 0,
             "ticks": ""
            },
            "colorscale": [
             [
              0,
              "#0d0887"
             ],
             [
              0.1111111111111111,
              "#46039f"
             ],
             [
              0.2222222222222222,
              "#7201a8"
             ],
             [
              0.3333333333333333,
              "#9c179e"
             ],
             [
              0.4444444444444444,
              "#bd3786"
             ],
             [
              0.5555555555555556,
              "#d8576b"
             ],
             [
              0.6666666666666666,
              "#ed7953"
             ],
             [
              0.7777777777777778,
              "#fb9f3a"
             ],
             [
              0.8888888888888888,
              "#fdca26"
             ],
             [
              1,
              "#f0f921"
             ]
            ],
            "type": "heatmap"
           }
          ],
          "heatmapgl": [
           {
            "colorbar": {
             "outlinewidth": 0,
             "ticks": ""
            },
            "colorscale": [
             [
              0,
              "#0d0887"
             ],
             [
              0.1111111111111111,
              "#46039f"
             ],
             [
              0.2222222222222222,
              "#7201a8"
             ],
             [
              0.3333333333333333,
              "#9c179e"
             ],
             [
              0.4444444444444444,
              "#bd3786"
             ],
             [
              0.5555555555555556,
              "#d8576b"
             ],
             [
              0.6666666666666666,
              "#ed7953"
             ],
             [
              0.7777777777777778,
              "#fb9f3a"
             ],
             [
              0.8888888888888888,
              "#fdca26"
             ],
             [
              1,
              "#f0f921"
             ]
            ],
            "type": "heatmapgl"
           }
          ],
          "histogram": [
           {
            "marker": {
             "pattern": {
              "fillmode": "overlay",
              "size": 10,
              "solidity": 0.2
             }
            },
            "type": "histogram"
           }
          ],
          "histogram2d": [
           {
            "colorbar": {
             "outlinewidth": 0,
             "ticks": ""
            },
            "colorscale": [
             [
              0,
              "#0d0887"
             ],
             [
              0.1111111111111111,
              "#46039f"
             ],
             [
              0.2222222222222222,
              "#7201a8"
             ],
             [
              0.3333333333333333,
              "#9c179e"
             ],
             [
              0.4444444444444444,
              "#bd3786"
             ],
             [
              0.5555555555555556,
              "#d8576b"
             ],
             [
              0.6666666666666666,
              "#ed7953"
             ],
             [
              0.7777777777777778,
              "#fb9f3a"
             ],
             [
              0.8888888888888888,
              "#fdca26"
             ],
             [
              1,
              "#f0f921"
             ]
            ],
            "type": "histogram2d"
           }
          ],
          "histogram2dcontour": [
           {
            "colorbar": {
             "outlinewidth": 0,
             "ticks": ""
            },
            "colorscale": [
             [
              0,
              "#0d0887"
             ],
             [
              0.1111111111111111,
              "#46039f"
             ],
             [
              0.2222222222222222,
              "#7201a8"
             ],
             [
              0.3333333333333333,
              "#9c179e"
             ],
             [
              0.4444444444444444,
              "#bd3786"
             ],
             [
              0.5555555555555556,
              "#d8576b"
             ],
             [
              0.6666666666666666,
              "#ed7953"
             ],
             [
              0.7777777777777778,
              "#fb9f3a"
             ],
             [
              0.8888888888888888,
              "#fdca26"
             ],
             [
              1,
              "#f0f921"
             ]
            ],
            "type": "histogram2dcontour"
           }
          ],
          "mesh3d": [
           {
            "colorbar": {
             "outlinewidth": 0,
             "ticks": ""
            },
            "type": "mesh3d"
           }
          ],
          "parcoords": [
           {
            "line": {
             "colorbar": {
              "outlinewidth": 0,
              "ticks": ""
             }
            },
            "type": "parcoords"
           }
          ],
          "pie": [
           {
            "automargin": true,
            "type": "pie"
           }
          ],
          "scatter": [
           {
            "marker": {
             "colorbar": {
              "outlinewidth": 0,
              "ticks": ""
             }
            },
            "type": "scatter"
           }
          ],
          "scatter3d": [
           {
            "line": {
             "colorbar": {
              "outlinewidth": 0,
              "ticks": ""
             }
            },
            "marker": {
             "colorbar": {
              "outlinewidth": 0,
              "ticks": ""
             }
            },
            "type": "scatter3d"
           }
          ],
          "scattercarpet": [
           {
            "marker": {
             "colorbar": {
              "outlinewidth": 0,
              "ticks": ""
             }
            },
            "type": "scattercarpet"
           }
          ],
          "scattergeo": [
           {
            "marker": {
             "colorbar": {
              "outlinewidth": 0,
              "ticks": ""
             }
            },
            "type": "scattergeo"
           }
          ],
          "scattergl": [
           {
            "marker": {
             "colorbar": {
              "outlinewidth": 0,
              "ticks": ""
             }
            },
            "type": "scattergl"
           }
          ],
          "scattermapbox": [
           {
            "marker": {
             "colorbar": {
              "outlinewidth": 0,
              "ticks": ""
             }
            },
            "type": "scattermapbox"
           }
          ],
          "scatterpolar": [
           {
            "marker": {
             "colorbar": {
              "outlinewidth": 0,
              "ticks": ""
             }
            },
            "type": "scatterpolar"
           }
          ],
          "scatterpolargl": [
           {
            "marker": {
             "colorbar": {
              "outlinewidth": 0,
              "ticks": ""
             }
            },
            "type": "scatterpolargl"
           }
          ],
          "scatterternary": [
           {
            "marker": {
             "colorbar": {
              "outlinewidth": 0,
              "ticks": ""
             }
            },
            "type": "scatterternary"
           }
          ],
          "surface": [
           {
            "colorbar": {
             "outlinewidth": 0,
             "ticks": ""
            },
            "colorscale": [
             [
              0,
              "#0d0887"
             ],
             [
              0.1111111111111111,
              "#46039f"
             ],
             [
              0.2222222222222222,
              "#7201a8"
             ],
             [
              0.3333333333333333,
              "#9c179e"
             ],
             [
              0.4444444444444444,
              "#bd3786"
             ],
             [
              0.5555555555555556,
              "#d8576b"
             ],
             [
              0.6666666666666666,
              "#ed7953"
             ],
             [
              0.7777777777777778,
              "#fb9f3a"
             ],
             [
              0.8888888888888888,
              "#fdca26"
             ],
             [
              1,
              "#f0f921"
             ]
            ],
            "type": "surface"
           }
          ],
          "table": [
           {
            "cells": {
             "fill": {
              "color": "#EBF0F8"
             },
             "line": {
              "color": "white"
             }
            },
            "header": {
             "fill": {
              "color": "#C8D4E3"
             },
             "line": {
              "color": "white"
             }
            },
            "type": "table"
           }
          ]
         },
         "layout": {
          "annotationdefaults": {
           "arrowcolor": "#2a3f5f",
           "arrowhead": 0,
           "arrowwidth": 1
          },
          "autotypenumbers": "strict",
          "coloraxis": {
           "colorbar": {
            "outlinewidth": 0,
            "ticks": ""
           }
          },
          "colorscale": {
           "diverging": [
            [
             0,
             "#8e0152"
            ],
            [
             0.1,
             "#c51b7d"
            ],
            [
             0.2,
             "#de77ae"
            ],
            [
             0.3,
             "#f1b6da"
            ],
            [
             0.4,
             "#fde0ef"
            ],
            [
             0.5,
             "#f7f7f7"
            ],
            [
             0.6,
             "#e6f5d0"
            ],
            [
             0.7,
             "#b8e186"
            ],
            [
             0.8,
             "#7fbc41"
            ],
            [
             0.9,
             "#4d9221"
            ],
            [
             1,
             "#276419"
            ]
           ],
           "sequential": [
            [
             0,
             "#0d0887"
            ],
            [
             0.1111111111111111,
             "#46039f"
            ],
            [
             0.2222222222222222,
             "#7201a8"
            ],
            [
             0.3333333333333333,
             "#9c179e"
            ],
            [
             0.4444444444444444,
             "#bd3786"
            ],
            [
             0.5555555555555556,
             "#d8576b"
            ],
            [
             0.6666666666666666,
             "#ed7953"
            ],
            [
             0.7777777777777778,
             "#fb9f3a"
            ],
            [
             0.8888888888888888,
             "#fdca26"
            ],
            [
             1,
             "#f0f921"
            ]
           ],
           "sequentialminus": [
            [
             0,
             "#0d0887"
            ],
            [
             0.1111111111111111,
             "#46039f"
            ],
            [
             0.2222222222222222,
             "#7201a8"
            ],
            [
             0.3333333333333333,
             "#9c179e"
            ],
            [
             0.4444444444444444,
             "#bd3786"
            ],
            [
             0.5555555555555556,
             "#d8576b"
            ],
            [
             0.6666666666666666,
             "#ed7953"
            ],
            [
             0.7777777777777778,
             "#fb9f3a"
            ],
            [
             0.8888888888888888,
             "#fdca26"
            ],
            [
             1,
             "#f0f921"
            ]
           ]
          },
          "colorway": [
           "#636efa",
           "#EF553B",
           "#00cc96",
           "#ab63fa",
           "#FFA15A",
           "#19d3f3",
           "#FF6692",
           "#B6E880",
           "#FF97FF",
           "#FECB52"
          ],
          "font": {
           "color": "#2a3f5f"
          },
          "geo": {
           "bgcolor": "white",
           "lakecolor": "white",
           "landcolor": "#E5ECF6",
           "showlakes": true,
           "showland": true,
           "subunitcolor": "white"
          },
          "hoverlabel": {
           "align": "left"
          },
          "hovermode": "closest",
          "mapbox": {
           "style": "light"
          },
          "paper_bgcolor": "white",
          "plot_bgcolor": "#E5ECF6",
          "polar": {
           "angularaxis": {
            "gridcolor": "white",
            "linecolor": "white",
            "ticks": ""
           },
           "bgcolor": "#E5ECF6",
           "radialaxis": {
            "gridcolor": "white",
            "linecolor": "white",
            "ticks": ""
           }
          },
          "scene": {
           "xaxis": {
            "backgroundcolor": "#E5ECF6",
            "gridcolor": "white",
            "gridwidth": 2,
            "linecolor": "white",
            "showbackground": true,
            "ticks": "",
            "zerolinecolor": "white"
           },
           "yaxis": {
            "backgroundcolor": "#E5ECF6",
            "gridcolor": "white",
            "gridwidth": 2,
            "linecolor": "white",
            "showbackground": true,
            "ticks": "",
            "zerolinecolor": "white"
           },
           "zaxis": {
            "backgroundcolor": "#E5ECF6",
            "gridcolor": "white",
            "gridwidth": 2,
            "linecolor": "white",
            "showbackground": true,
            "ticks": "",
            "zerolinecolor": "white"
           }
          },
          "shapedefaults": {
           "line": {
            "color": "#2a3f5f"
           }
          },
          "ternary": {
           "aaxis": {
            "gridcolor": "white",
            "linecolor": "white",
            "ticks": ""
           },
           "baxis": {
            "gridcolor": "white",
            "linecolor": "white",
            "ticks": ""
           },
           "bgcolor": "#E5ECF6",
           "caxis": {
            "gridcolor": "white",
            "linecolor": "white",
            "ticks": ""
           }
          },
          "title": {
           "x": 0.05
          },
          "xaxis": {
           "automargin": true,
           "gridcolor": "white",
           "linecolor": "white",
           "ticks": "",
           "title": {
            "standoff": 15
           },
           "zerolinecolor": "white",
           "zerolinewidth": 2
          },
          "yaxis": {
           "automargin": true,
           "gridcolor": "white",
           "linecolor": "white",
           "ticks": "",
           "title": {
            "standoff": 15
           },
           "zerolinecolor": "white",
           "zerolinewidth": 2
          }
         }
        },
        "xaxis": {
         "anchor": "y",
         "domain": [
          0,
          1
         ],
         "title": {
          "text": "name"
         }
        },
        "yaxis": {
         "anchor": "x",
         "domain": [
          0,
          1
         ],
         "title": {
          "text": "jumlah"
         }
        }
       }
      }
     },
     "metadata": {},
     "output_type": "display_data"
    }
   ],
   "source": [
    "import plotly.express as px\n",
    "px.bar(data_frame=data1, x='name', y='jumlah', color='cab_type', barmode='group')"
   ]
  },
  {
   "cell_type": "markdown",
   "metadata": {},
   "source": [
    "Berdasarkan hasil visualisasi diatas dapat disimpulkan bahwa jumlah dari cab_type lyft memiliki nilai yang hampir sama setiap jenis kendaraanya, begitu juga dengan cab_type Uber."
   ]
  },
  {
   "cell_type": "code",
   "execution_count": 25,
   "metadata": {},
   "outputs": [
    {
     "data": {
      "application/vnd.plotly.v1+json": {
       "config": {
        "plotlyServerURL": "https://plot.ly"
       },
       "data": [
        {
         "domain": {
          "x": [
           0,
           1
          ],
          "y": [
           0,
           1
          ]
         },
         "hovertemplate": "cab_type=%{label}<br>jumlah=%{value}<extra></extra>",
         "labels": [
          "Lyft",
          "Lyft",
          "Lyft",
          "Lyft",
          "Lyft",
          "Lyft",
          "Uber",
          "Uber",
          "Uber",
          "Uber",
          "Uber",
          "Uber"
         ],
         "legendgroup": "",
         "name": "",
         "showlegend": true,
         "type": "pie",
         "values": [
          51235,
          51235,
          51235,
          51235,
          51235,
          51233,
          55095,
          55096,
          55091,
          55094,
          55096,
          55096
         ]
        }
       ],
       "layout": {
        "legend": {
         "tracegroupgap": 0
        },
        "margin": {
         "t": 60
        },
        "template": {
         "data": {
          "bar": [
           {
            "error_x": {
             "color": "#2a3f5f"
            },
            "error_y": {
             "color": "#2a3f5f"
            },
            "marker": {
             "line": {
              "color": "#E5ECF6",
              "width": 0.5
             },
             "pattern": {
              "fillmode": "overlay",
              "size": 10,
              "solidity": 0.2
             }
            },
            "type": "bar"
           }
          ],
          "barpolar": [
           {
            "marker": {
             "line": {
              "color": "#E5ECF6",
              "width": 0.5
             },
             "pattern": {
              "fillmode": "overlay",
              "size": 10,
              "solidity": 0.2
             }
            },
            "type": "barpolar"
           }
          ],
          "carpet": [
           {
            "aaxis": {
             "endlinecolor": "#2a3f5f",
             "gridcolor": "white",
             "linecolor": "white",
             "minorgridcolor": "white",
             "startlinecolor": "#2a3f5f"
            },
            "baxis": {
             "endlinecolor": "#2a3f5f",
             "gridcolor": "white",
             "linecolor": "white",
             "minorgridcolor": "white",
             "startlinecolor": "#2a3f5f"
            },
            "type": "carpet"
           }
          ],
          "choropleth": [
           {
            "colorbar": {
             "outlinewidth": 0,
             "ticks": ""
            },
            "type": "choropleth"
           }
          ],
          "contour": [
           {
            "colorbar": {
             "outlinewidth": 0,
             "ticks": ""
            },
            "colorscale": [
             [
              0,
              "#0d0887"
             ],
             [
              0.1111111111111111,
              "#46039f"
             ],
             [
              0.2222222222222222,
              "#7201a8"
             ],
             [
              0.3333333333333333,
              "#9c179e"
             ],
             [
              0.4444444444444444,
              "#bd3786"
             ],
             [
              0.5555555555555556,
              "#d8576b"
             ],
             [
              0.6666666666666666,
              "#ed7953"
             ],
             [
              0.7777777777777778,
              "#fb9f3a"
             ],
             [
              0.8888888888888888,
              "#fdca26"
             ],
             [
              1,
              "#f0f921"
             ]
            ],
            "type": "contour"
           }
          ],
          "contourcarpet": [
           {
            "colorbar": {
             "outlinewidth": 0,
             "ticks": ""
            },
            "type": "contourcarpet"
           }
          ],
          "heatmap": [
           {
            "colorbar": {
             "outlinewidth": 0,
             "ticks": ""
            },
            "colorscale": [
             [
              0,
              "#0d0887"
             ],
             [
              0.1111111111111111,
              "#46039f"
             ],
             [
              0.2222222222222222,
              "#7201a8"
             ],
             [
              0.3333333333333333,
              "#9c179e"
             ],
             [
              0.4444444444444444,
              "#bd3786"
             ],
             [
              0.5555555555555556,
              "#d8576b"
             ],
             [
              0.6666666666666666,
              "#ed7953"
             ],
             [
              0.7777777777777778,
              "#fb9f3a"
             ],
             [
              0.8888888888888888,
              "#fdca26"
             ],
             [
              1,
              "#f0f921"
             ]
            ],
            "type": "heatmap"
           }
          ],
          "heatmapgl": [
           {
            "colorbar": {
             "outlinewidth": 0,
             "ticks": ""
            },
            "colorscale": [
             [
              0,
              "#0d0887"
             ],
             [
              0.1111111111111111,
              "#46039f"
             ],
             [
              0.2222222222222222,
              "#7201a8"
             ],
             [
              0.3333333333333333,
              "#9c179e"
             ],
             [
              0.4444444444444444,
              "#bd3786"
             ],
             [
              0.5555555555555556,
              "#d8576b"
             ],
             [
              0.6666666666666666,
              "#ed7953"
             ],
             [
              0.7777777777777778,
              "#fb9f3a"
             ],
             [
              0.8888888888888888,
              "#fdca26"
             ],
             [
              1,
              "#f0f921"
             ]
            ],
            "type": "heatmapgl"
           }
          ],
          "histogram": [
           {
            "marker": {
             "pattern": {
              "fillmode": "overlay",
              "size": 10,
              "solidity": 0.2
             }
            },
            "type": "histogram"
           }
          ],
          "histogram2d": [
           {
            "colorbar": {
             "outlinewidth": 0,
             "ticks": ""
            },
            "colorscale": [
             [
              0,
              "#0d0887"
             ],
             [
              0.1111111111111111,
              "#46039f"
             ],
             [
              0.2222222222222222,
              "#7201a8"
             ],
             [
              0.3333333333333333,
              "#9c179e"
             ],
             [
              0.4444444444444444,
              "#bd3786"
             ],
             [
              0.5555555555555556,
              "#d8576b"
             ],
             [
              0.6666666666666666,
              "#ed7953"
             ],
             [
              0.7777777777777778,
              "#fb9f3a"
             ],
             [
              0.8888888888888888,
              "#fdca26"
             ],
             [
              1,
              "#f0f921"
             ]
            ],
            "type": "histogram2d"
           }
          ],
          "histogram2dcontour": [
           {
            "colorbar": {
             "outlinewidth": 0,
             "ticks": ""
            },
            "colorscale": [
             [
              0,
              "#0d0887"
             ],
             [
              0.1111111111111111,
              "#46039f"
             ],
             [
              0.2222222222222222,
              "#7201a8"
             ],
             [
              0.3333333333333333,
              "#9c179e"
             ],
             [
              0.4444444444444444,
              "#bd3786"
             ],
             [
              0.5555555555555556,
              "#d8576b"
             ],
             [
              0.6666666666666666,
              "#ed7953"
             ],
             [
              0.7777777777777778,
              "#fb9f3a"
             ],
             [
              0.8888888888888888,
              "#fdca26"
             ],
             [
              1,
              "#f0f921"
             ]
            ],
            "type": "histogram2dcontour"
           }
          ],
          "mesh3d": [
           {
            "colorbar": {
             "outlinewidth": 0,
             "ticks": ""
            },
            "type": "mesh3d"
           }
          ],
          "parcoords": [
           {
            "line": {
             "colorbar": {
              "outlinewidth": 0,
              "ticks": ""
             }
            },
            "type": "parcoords"
           }
          ],
          "pie": [
           {
            "automargin": true,
            "type": "pie"
           }
          ],
          "scatter": [
           {
            "marker": {
             "colorbar": {
              "outlinewidth": 0,
              "ticks": ""
             }
            },
            "type": "scatter"
           }
          ],
          "scatter3d": [
           {
            "line": {
             "colorbar": {
              "outlinewidth": 0,
              "ticks": ""
             }
            },
            "marker": {
             "colorbar": {
              "outlinewidth": 0,
              "ticks": ""
             }
            },
            "type": "scatter3d"
           }
          ],
          "scattercarpet": [
           {
            "marker": {
             "colorbar": {
              "outlinewidth": 0,
              "ticks": ""
             }
            },
            "type": "scattercarpet"
           }
          ],
          "scattergeo": [
           {
            "marker": {
             "colorbar": {
              "outlinewidth": 0,
              "ticks": ""
             }
            },
            "type": "scattergeo"
           }
          ],
          "scattergl": [
           {
            "marker": {
             "colorbar": {
              "outlinewidth": 0,
              "ticks": ""
             }
            },
            "type": "scattergl"
           }
          ],
          "scattermapbox": [
           {
            "marker": {
             "colorbar": {
              "outlinewidth": 0,
              "ticks": ""
             }
            },
            "type": "scattermapbox"
           }
          ],
          "scatterpolar": [
           {
            "marker": {
             "colorbar": {
              "outlinewidth": 0,
              "ticks": ""
             }
            },
            "type": "scatterpolar"
           }
          ],
          "scatterpolargl": [
           {
            "marker": {
             "colorbar": {
              "outlinewidth": 0,
              "ticks": ""
             }
            },
            "type": "scatterpolargl"
           }
          ],
          "scatterternary": [
           {
            "marker": {
             "colorbar": {
              "outlinewidth": 0,
              "ticks": ""
             }
            },
            "type": "scatterternary"
           }
          ],
          "surface": [
           {
            "colorbar": {
             "outlinewidth": 0,
             "ticks": ""
            },
            "colorscale": [
             [
              0,
              "#0d0887"
             ],
             [
              0.1111111111111111,
              "#46039f"
             ],
             [
              0.2222222222222222,
              "#7201a8"
             ],
             [
              0.3333333333333333,
              "#9c179e"
             ],
             [
              0.4444444444444444,
              "#bd3786"
             ],
             [
              0.5555555555555556,
              "#d8576b"
             ],
             [
              0.6666666666666666,
              "#ed7953"
             ],
             [
              0.7777777777777778,
              "#fb9f3a"
             ],
             [
              0.8888888888888888,
              "#fdca26"
             ],
             [
              1,
              "#f0f921"
             ]
            ],
            "type": "surface"
           }
          ],
          "table": [
           {
            "cells": {
             "fill": {
              "color": "#EBF0F8"
             },
             "line": {
              "color": "white"
             }
            },
            "header": {
             "fill": {
              "color": "#C8D4E3"
             },
             "line": {
              "color": "white"
             }
            },
            "type": "table"
           }
          ]
         },
         "layout": {
          "annotationdefaults": {
           "arrowcolor": "#2a3f5f",
           "arrowhead": 0,
           "arrowwidth": 1
          },
          "autotypenumbers": "strict",
          "coloraxis": {
           "colorbar": {
            "outlinewidth": 0,
            "ticks": ""
           }
          },
          "colorscale": {
           "diverging": [
            [
             0,
             "#8e0152"
            ],
            [
             0.1,
             "#c51b7d"
            ],
            [
             0.2,
             "#de77ae"
            ],
            [
             0.3,
             "#f1b6da"
            ],
            [
             0.4,
             "#fde0ef"
            ],
            [
             0.5,
             "#f7f7f7"
            ],
            [
             0.6,
             "#e6f5d0"
            ],
            [
             0.7,
             "#b8e186"
            ],
            [
             0.8,
             "#7fbc41"
            ],
            [
             0.9,
             "#4d9221"
            ],
            [
             1,
             "#276419"
            ]
           ],
           "sequential": [
            [
             0,
             "#0d0887"
            ],
            [
             0.1111111111111111,
             "#46039f"
            ],
            [
             0.2222222222222222,
             "#7201a8"
            ],
            [
             0.3333333333333333,
             "#9c179e"
            ],
            [
             0.4444444444444444,
             "#bd3786"
            ],
            [
             0.5555555555555556,
             "#d8576b"
            ],
            [
             0.6666666666666666,
             "#ed7953"
            ],
            [
             0.7777777777777778,
             "#fb9f3a"
            ],
            [
             0.8888888888888888,
             "#fdca26"
            ],
            [
             1,
             "#f0f921"
            ]
           ],
           "sequentialminus": [
            [
             0,
             "#0d0887"
            ],
            [
             0.1111111111111111,
             "#46039f"
            ],
            [
             0.2222222222222222,
             "#7201a8"
            ],
            [
             0.3333333333333333,
             "#9c179e"
            ],
            [
             0.4444444444444444,
             "#bd3786"
            ],
            [
             0.5555555555555556,
             "#d8576b"
            ],
            [
             0.6666666666666666,
             "#ed7953"
            ],
            [
             0.7777777777777778,
             "#fb9f3a"
            ],
            [
             0.8888888888888888,
             "#fdca26"
            ],
            [
             1,
             "#f0f921"
            ]
           ]
          },
          "colorway": [
           "#636efa",
           "#EF553B",
           "#00cc96",
           "#ab63fa",
           "#FFA15A",
           "#19d3f3",
           "#FF6692",
           "#B6E880",
           "#FF97FF",
           "#FECB52"
          ],
          "font": {
           "color": "#2a3f5f"
          },
          "geo": {
           "bgcolor": "white",
           "lakecolor": "white",
           "landcolor": "#E5ECF6",
           "showlakes": true,
           "showland": true,
           "subunitcolor": "white"
          },
          "hoverlabel": {
           "align": "left"
          },
          "hovermode": "closest",
          "mapbox": {
           "style": "light"
          },
          "paper_bgcolor": "white",
          "plot_bgcolor": "#E5ECF6",
          "polar": {
           "angularaxis": {
            "gridcolor": "white",
            "linecolor": "white",
            "ticks": ""
           },
           "bgcolor": "#E5ECF6",
           "radialaxis": {
            "gridcolor": "white",
            "linecolor": "white",
            "ticks": ""
           }
          },
          "scene": {
           "xaxis": {
            "backgroundcolor": "#E5ECF6",
            "gridcolor": "white",
            "gridwidth": 2,
            "linecolor": "white",
            "showbackground": true,
            "ticks": "",
            "zerolinecolor": "white"
           },
           "yaxis": {
            "backgroundcolor": "#E5ECF6",
            "gridcolor": "white",
            "gridwidth": 2,
            "linecolor": "white",
            "showbackground": true,
            "ticks": "",
            "zerolinecolor": "white"
           },
           "zaxis": {
            "backgroundcolor": "#E5ECF6",
            "gridcolor": "white",
            "gridwidth": 2,
            "linecolor": "white",
            "showbackground": true,
            "ticks": "",
            "zerolinecolor": "white"
           }
          },
          "shapedefaults": {
           "line": {
            "color": "#2a3f5f"
           }
          },
          "ternary": {
           "aaxis": {
            "gridcolor": "white",
            "linecolor": "white",
            "ticks": ""
           },
           "baxis": {
            "gridcolor": "white",
            "linecolor": "white",
            "ticks": ""
           },
           "bgcolor": "#E5ECF6",
           "caxis": {
            "gridcolor": "white",
            "linecolor": "white",
            "ticks": ""
           }
          },
          "title": {
           "x": 0.05
          },
          "xaxis": {
           "automargin": true,
           "gridcolor": "white",
           "linecolor": "white",
           "ticks": "",
           "title": {
            "standoff": 15
           },
           "zerolinecolor": "white",
           "zerolinewidth": 2
          },
          "yaxis": {
           "automargin": true,
           "gridcolor": "white",
           "linecolor": "white",
           "ticks": "",
           "title": {
            "standoff": 15
           },
           "zerolinecolor": "white",
           "zerolinewidth": 2
          }
         }
        }
       }
      }
     },
     "metadata": {},
     "output_type": "display_data"
    }
   ],
   "source": [
    "fig = px.pie(data_frame=data1,values='jumlah', names='cab_type')\n",
    "fig.show()"
   ]
  },
  {
   "cell_type": "markdown",
   "metadata": {},
   "source": [
    "Uber memiliki pengguna yang lebih banyak daripada lyft sebesar 3.6%"
   ]
  },
  {
   "cell_type": "code",
   "execution_count": 26,
   "metadata": {},
   "outputs": [
    {
     "data": {
      "text/html": [
       "<div>\n",
       "<style scoped>\n",
       "    .dataframe tbody tr th:only-of-type {\n",
       "        vertical-align: middle;\n",
       "    }\n",
       "\n",
       "    .dataframe tbody tr th {\n",
       "        vertical-align: top;\n",
       "    }\n",
       "\n",
       "    .dataframe thead th {\n",
       "        text-align: right;\n",
       "    }\n",
       "</style>\n",
       "<table border=\"1\" class=\"dataframe\">\n",
       "  <thead>\n",
       "    <tr style=\"text-align: right;\">\n",
       "      <th></th>\n",
       "      <th>day</th>\n",
       "      <th>month</th>\n",
       "      <th>jumlah</th>\n",
       "    </tr>\n",
       "  </thead>\n",
       "  <tbody>\n",
       "    <tr>\n",
       "      <th>0</th>\n",
       "      <td>1</td>\n",
       "      <td>12</td>\n",
       "      <td>41680</td>\n",
       "    </tr>\n",
       "    <tr>\n",
       "      <th>1</th>\n",
       "      <td>2</td>\n",
       "      <td>12</td>\n",
       "      <td>41298</td>\n",
       "    </tr>\n",
       "    <tr>\n",
       "      <th>2</th>\n",
       "      <td>3</td>\n",
       "      <td>12</td>\n",
       "      <td>41323</td>\n",
       "    </tr>\n",
       "    <tr>\n",
       "      <th>3</th>\n",
       "      <td>4</td>\n",
       "      <td>12</td>\n",
       "      <td>11627</td>\n",
       "    </tr>\n",
       "    <tr>\n",
       "      <th>4</th>\n",
       "      <td>9</td>\n",
       "      <td>12</td>\n",
       "      <td>1529</td>\n",
       "    </tr>\n",
       "    <tr>\n",
       "      <th>5</th>\n",
       "      <td>10</td>\n",
       "      <td>12</td>\n",
       "      <td>2534</td>\n",
       "    </tr>\n",
       "    <tr>\n",
       "      <th>6</th>\n",
       "      <td>13</td>\n",
       "      <td>12</td>\n",
       "      <td>35496</td>\n",
       "    </tr>\n",
       "    <tr>\n",
       "      <th>7</th>\n",
       "      <td>14</td>\n",
       "      <td>12</td>\n",
       "      <td>41344</td>\n",
       "    </tr>\n",
       "    <tr>\n",
       "      <th>8</th>\n",
       "      <td>15</td>\n",
       "      <td>12</td>\n",
       "      <td>41332</td>\n",
       "    </tr>\n",
       "    <tr>\n",
       "      <th>9</th>\n",
       "      <td>16</td>\n",
       "      <td>12</td>\n",
       "      <td>41359</td>\n",
       "    </tr>\n",
       "    <tr>\n",
       "      <th>10</th>\n",
       "      <td>17</td>\n",
       "      <td>12</td>\n",
       "      <td>41354</td>\n",
       "    </tr>\n",
       "    <tr>\n",
       "      <th>11</th>\n",
       "      <td>18</td>\n",
       "      <td>12</td>\n",
       "      <td>33329</td>\n",
       "    </tr>\n",
       "    <tr>\n",
       "      <th>12</th>\n",
       "      <td>26</td>\n",
       "      <td>11</td>\n",
       "      <td>29028</td>\n",
       "    </tr>\n",
       "    <tr>\n",
       "      <th>13</th>\n",
       "      <td>27</td>\n",
       "      <td>11</td>\n",
       "      <td>70135</td>\n",
       "    </tr>\n",
       "    <tr>\n",
       "      <th>14</th>\n",
       "      <td>28</td>\n",
       "      <td>11</td>\n",
       "      <td>67842</td>\n",
       "    </tr>\n",
       "    <tr>\n",
       "      <th>15</th>\n",
       "      <td>29</td>\n",
       "      <td>11</td>\n",
       "      <td>55222</td>\n",
       "    </tr>\n",
       "    <tr>\n",
       "      <th>16</th>\n",
       "      <td>30</td>\n",
       "      <td>11</td>\n",
       "      <td>41544</td>\n",
       "    </tr>\n",
       "  </tbody>\n",
       "</table>\n",
       "</div>"
      ],
      "text/plain": [
       "    day  month  jumlah\n",
       "0     1     12   41680\n",
       "1     2     12   41298\n",
       "2     3     12   41323\n",
       "3     4     12   11627\n",
       "4     9     12    1529\n",
       "5    10     12    2534\n",
       "6    13     12   35496\n",
       "7    14     12   41344\n",
       "8    15     12   41332\n",
       "9    16     12   41359\n",
       "10   17     12   41354\n",
       "11   18     12   33329\n",
       "12   26     11   29028\n",
       "13   27     11   70135\n",
       "14   28     11   67842\n",
       "15   29     11   55222\n",
       "16   30     11   41544"
      ]
     },
     "execution_count": 26,
     "metadata": {},
     "output_type": "execute_result"
    }
   ],
   "source": [
    "data2 = data.groupby(by=['day', 'month']).size().reset_index(name='jumlah')\n",
    "data2"
   ]
  },
  {
   "cell_type": "code",
   "execution_count": 27,
   "metadata": {},
   "outputs": [
    {
     "data": {
      "application/vnd.plotly.v1+json": {
       "config": {
        "plotlyServerURL": "https://plot.ly"
       },
       "data": [
        {
         "alignmentgroup": "True",
         "hovertemplate": "day=%{x}<br>jumlah=%{y}<br>month=%{marker.color}<extra></extra>",
         "legendgroup": "",
         "marker": {
          "color": [
           12,
           12,
           12,
           12,
           12,
           12,
           12,
           12,
           12,
           12,
           12,
           12,
           11,
           11,
           11,
           11,
           11
          ],
          "coloraxis": "coloraxis",
          "pattern": {
           "shape": ""
          }
         },
         "name": "",
         "offsetgroup": "",
         "orientation": "v",
         "showlegend": false,
         "textposition": "auto",
         "type": "bar",
         "x": [
          1,
          2,
          3,
          4,
          9,
          10,
          13,
          14,
          15,
          16,
          17,
          18,
          26,
          27,
          28,
          29,
          30
         ],
         "xaxis": "x",
         "y": [
          41680,
          41298,
          41323,
          11627,
          1529,
          2534,
          35496,
          41344,
          41332,
          41359,
          41354,
          33329,
          29028,
          70135,
          67842,
          55222,
          41544
         ],
         "yaxis": "y"
        }
       ],
       "layout": {
        "barmode": "group",
        "coloraxis": {
         "colorbar": {
          "title": {
           "text": "month"
          }
         },
         "colorscale": [
          [
           0,
           "#0d0887"
          ],
          [
           0.1111111111111111,
           "#46039f"
          ],
          [
           0.2222222222222222,
           "#7201a8"
          ],
          [
           0.3333333333333333,
           "#9c179e"
          ],
          [
           0.4444444444444444,
           "#bd3786"
          ],
          [
           0.5555555555555556,
           "#d8576b"
          ],
          [
           0.6666666666666666,
           "#ed7953"
          ],
          [
           0.7777777777777778,
           "#fb9f3a"
          ],
          [
           0.8888888888888888,
           "#fdca26"
          ],
          [
           1,
           "#f0f921"
          ]
         ]
        },
        "legend": {
         "tracegroupgap": 0
        },
        "margin": {
         "t": 60
        },
        "template": {
         "data": {
          "bar": [
           {
            "error_x": {
             "color": "#2a3f5f"
            },
            "error_y": {
             "color": "#2a3f5f"
            },
            "marker": {
             "line": {
              "color": "#E5ECF6",
              "width": 0.5
             },
             "pattern": {
              "fillmode": "overlay",
              "size": 10,
              "solidity": 0.2
             }
            },
            "type": "bar"
           }
          ],
          "barpolar": [
           {
            "marker": {
             "line": {
              "color": "#E5ECF6",
              "width": 0.5
             },
             "pattern": {
              "fillmode": "overlay",
              "size": 10,
              "solidity": 0.2
             }
            },
            "type": "barpolar"
           }
          ],
          "carpet": [
           {
            "aaxis": {
             "endlinecolor": "#2a3f5f",
             "gridcolor": "white",
             "linecolor": "white",
             "minorgridcolor": "white",
             "startlinecolor": "#2a3f5f"
            },
            "baxis": {
             "endlinecolor": "#2a3f5f",
             "gridcolor": "white",
             "linecolor": "white",
             "minorgridcolor": "white",
             "startlinecolor": "#2a3f5f"
            },
            "type": "carpet"
           }
          ],
          "choropleth": [
           {
            "colorbar": {
             "outlinewidth": 0,
             "ticks": ""
            },
            "type": "choropleth"
           }
          ],
          "contour": [
           {
            "colorbar": {
             "outlinewidth": 0,
             "ticks": ""
            },
            "colorscale": [
             [
              0,
              "#0d0887"
             ],
             [
              0.1111111111111111,
              "#46039f"
             ],
             [
              0.2222222222222222,
              "#7201a8"
             ],
             [
              0.3333333333333333,
              "#9c179e"
             ],
             [
              0.4444444444444444,
              "#bd3786"
             ],
             [
              0.5555555555555556,
              "#d8576b"
             ],
             [
              0.6666666666666666,
              "#ed7953"
             ],
             [
              0.7777777777777778,
              "#fb9f3a"
             ],
             [
              0.8888888888888888,
              "#fdca26"
             ],
             [
              1,
              "#f0f921"
             ]
            ],
            "type": "contour"
           }
          ],
          "contourcarpet": [
           {
            "colorbar": {
             "outlinewidth": 0,
             "ticks": ""
            },
            "type": "contourcarpet"
           }
          ],
          "heatmap": [
           {
            "colorbar": {
             "outlinewidth": 0,
             "ticks": ""
            },
            "colorscale": [
             [
              0,
              "#0d0887"
             ],
             [
              0.1111111111111111,
              "#46039f"
             ],
             [
              0.2222222222222222,
              "#7201a8"
             ],
             [
              0.3333333333333333,
              "#9c179e"
             ],
             [
              0.4444444444444444,
              "#bd3786"
             ],
             [
              0.5555555555555556,
              "#d8576b"
             ],
             [
              0.6666666666666666,
              "#ed7953"
             ],
             [
              0.7777777777777778,
              "#fb9f3a"
             ],
             [
              0.8888888888888888,
              "#fdca26"
             ],
             [
              1,
              "#f0f921"
             ]
            ],
            "type": "heatmap"
           }
          ],
          "heatmapgl": [
           {
            "colorbar": {
             "outlinewidth": 0,
             "ticks": ""
            },
            "colorscale": [
             [
              0,
              "#0d0887"
             ],
             [
              0.1111111111111111,
              "#46039f"
             ],
             [
              0.2222222222222222,
              "#7201a8"
             ],
             [
              0.3333333333333333,
              "#9c179e"
             ],
             [
              0.4444444444444444,
              "#bd3786"
             ],
             [
              0.5555555555555556,
              "#d8576b"
             ],
             [
              0.6666666666666666,
              "#ed7953"
             ],
             [
              0.7777777777777778,
              "#fb9f3a"
             ],
             [
              0.8888888888888888,
              "#fdca26"
             ],
             [
              1,
              "#f0f921"
             ]
            ],
            "type": "heatmapgl"
           }
          ],
          "histogram": [
           {
            "marker": {
             "pattern": {
              "fillmode": "overlay",
              "size": 10,
              "solidity": 0.2
             }
            },
            "type": "histogram"
           }
          ],
          "histogram2d": [
           {
            "colorbar": {
             "outlinewidth": 0,
             "ticks": ""
            },
            "colorscale": [
             [
              0,
              "#0d0887"
             ],
             [
              0.1111111111111111,
              "#46039f"
             ],
             [
              0.2222222222222222,
              "#7201a8"
             ],
             [
              0.3333333333333333,
              "#9c179e"
             ],
             [
              0.4444444444444444,
              "#bd3786"
             ],
             [
              0.5555555555555556,
              "#d8576b"
             ],
             [
              0.6666666666666666,
              "#ed7953"
             ],
             [
              0.7777777777777778,
              "#fb9f3a"
             ],
             [
              0.8888888888888888,
              "#fdca26"
             ],
             [
              1,
              "#f0f921"
             ]
            ],
            "type": "histogram2d"
           }
          ],
          "histogram2dcontour": [
           {
            "colorbar": {
             "outlinewidth": 0,
             "ticks": ""
            },
            "colorscale": [
             [
              0,
              "#0d0887"
             ],
             [
              0.1111111111111111,
              "#46039f"
             ],
             [
              0.2222222222222222,
              "#7201a8"
             ],
             [
              0.3333333333333333,
              "#9c179e"
             ],
             [
              0.4444444444444444,
              "#bd3786"
             ],
             [
              0.5555555555555556,
              "#d8576b"
             ],
             [
              0.6666666666666666,
              "#ed7953"
             ],
             [
              0.7777777777777778,
              "#fb9f3a"
             ],
             [
              0.8888888888888888,
              "#fdca26"
             ],
             [
              1,
              "#f0f921"
             ]
            ],
            "type": "histogram2dcontour"
           }
          ],
          "mesh3d": [
           {
            "colorbar": {
             "outlinewidth": 0,
             "ticks": ""
            },
            "type": "mesh3d"
           }
          ],
          "parcoords": [
           {
            "line": {
             "colorbar": {
              "outlinewidth": 0,
              "ticks": ""
             }
            },
            "type": "parcoords"
           }
          ],
          "pie": [
           {
            "automargin": true,
            "type": "pie"
           }
          ],
          "scatter": [
           {
            "marker": {
             "colorbar": {
              "outlinewidth": 0,
              "ticks": ""
             }
            },
            "type": "scatter"
           }
          ],
          "scatter3d": [
           {
            "line": {
             "colorbar": {
              "outlinewidth": 0,
              "ticks": ""
             }
            },
            "marker": {
             "colorbar": {
              "outlinewidth": 0,
              "ticks": ""
             }
            },
            "type": "scatter3d"
           }
          ],
          "scattercarpet": [
           {
            "marker": {
             "colorbar": {
              "outlinewidth": 0,
              "ticks": ""
             }
            },
            "type": "scattercarpet"
           }
          ],
          "scattergeo": [
           {
            "marker": {
             "colorbar": {
              "outlinewidth": 0,
              "ticks": ""
             }
            },
            "type": "scattergeo"
           }
          ],
          "scattergl": [
           {
            "marker": {
             "colorbar": {
              "outlinewidth": 0,
              "ticks": ""
             }
            },
            "type": "scattergl"
           }
          ],
          "scattermapbox": [
           {
            "marker": {
             "colorbar": {
              "outlinewidth": 0,
              "ticks": ""
             }
            },
            "type": "scattermapbox"
           }
          ],
          "scatterpolar": [
           {
            "marker": {
             "colorbar": {
              "outlinewidth": 0,
              "ticks": ""
             }
            },
            "type": "scatterpolar"
           }
          ],
          "scatterpolargl": [
           {
            "marker": {
             "colorbar": {
              "outlinewidth": 0,
              "ticks": ""
             }
            },
            "type": "scatterpolargl"
           }
          ],
          "scatterternary": [
           {
            "marker": {
             "colorbar": {
              "outlinewidth": 0,
              "ticks": ""
             }
            },
            "type": "scatterternary"
           }
          ],
          "surface": [
           {
            "colorbar": {
             "outlinewidth": 0,
             "ticks": ""
            },
            "colorscale": [
             [
              0,
              "#0d0887"
             ],
             [
              0.1111111111111111,
              "#46039f"
             ],
             [
              0.2222222222222222,
              "#7201a8"
             ],
             [
              0.3333333333333333,
              "#9c179e"
             ],
             [
              0.4444444444444444,
              "#bd3786"
             ],
             [
              0.5555555555555556,
              "#d8576b"
             ],
             [
              0.6666666666666666,
              "#ed7953"
             ],
             [
              0.7777777777777778,
              "#fb9f3a"
             ],
             [
              0.8888888888888888,
              "#fdca26"
             ],
             [
              1,
              "#f0f921"
             ]
            ],
            "type": "surface"
           }
          ],
          "table": [
           {
            "cells": {
             "fill": {
              "color": "#EBF0F8"
             },
             "line": {
              "color": "white"
             }
            },
            "header": {
             "fill": {
              "color": "#C8D4E3"
             },
             "line": {
              "color": "white"
             }
            },
            "type": "table"
           }
          ]
         },
         "layout": {
          "annotationdefaults": {
           "arrowcolor": "#2a3f5f",
           "arrowhead": 0,
           "arrowwidth": 1
          },
          "autotypenumbers": "strict",
          "coloraxis": {
           "colorbar": {
            "outlinewidth": 0,
            "ticks": ""
           }
          },
          "colorscale": {
           "diverging": [
            [
             0,
             "#8e0152"
            ],
            [
             0.1,
             "#c51b7d"
            ],
            [
             0.2,
             "#de77ae"
            ],
            [
             0.3,
             "#f1b6da"
            ],
            [
             0.4,
             "#fde0ef"
            ],
            [
             0.5,
             "#f7f7f7"
            ],
            [
             0.6,
             "#e6f5d0"
            ],
            [
             0.7,
             "#b8e186"
            ],
            [
             0.8,
             "#7fbc41"
            ],
            [
             0.9,
             "#4d9221"
            ],
            [
             1,
             "#276419"
            ]
           ],
           "sequential": [
            [
             0,
             "#0d0887"
            ],
            [
             0.1111111111111111,
             "#46039f"
            ],
            [
             0.2222222222222222,
             "#7201a8"
            ],
            [
             0.3333333333333333,
             "#9c179e"
            ],
            [
             0.4444444444444444,
             "#bd3786"
            ],
            [
             0.5555555555555556,
             "#d8576b"
            ],
            [
             0.6666666666666666,
             "#ed7953"
            ],
            [
             0.7777777777777778,
             "#fb9f3a"
            ],
            [
             0.8888888888888888,
             "#fdca26"
            ],
            [
             1,
             "#f0f921"
            ]
           ],
           "sequentialminus": [
            [
             0,
             "#0d0887"
            ],
            [
             0.1111111111111111,
             "#46039f"
            ],
            [
             0.2222222222222222,
             "#7201a8"
            ],
            [
             0.3333333333333333,
             "#9c179e"
            ],
            [
             0.4444444444444444,
             "#bd3786"
            ],
            [
             0.5555555555555556,
             "#d8576b"
            ],
            [
             0.6666666666666666,
             "#ed7953"
            ],
            [
             0.7777777777777778,
             "#fb9f3a"
            ],
            [
             0.8888888888888888,
             "#fdca26"
            ],
            [
             1,
             "#f0f921"
            ]
           ]
          },
          "colorway": [
           "#636efa",
           "#EF553B",
           "#00cc96",
           "#ab63fa",
           "#FFA15A",
           "#19d3f3",
           "#FF6692",
           "#B6E880",
           "#FF97FF",
           "#FECB52"
          ],
          "font": {
           "color": "#2a3f5f"
          },
          "geo": {
           "bgcolor": "white",
           "lakecolor": "white",
           "landcolor": "#E5ECF6",
           "showlakes": true,
           "showland": true,
           "subunitcolor": "white"
          },
          "hoverlabel": {
           "align": "left"
          },
          "hovermode": "closest",
          "mapbox": {
           "style": "light"
          },
          "paper_bgcolor": "white",
          "plot_bgcolor": "#E5ECF6",
          "polar": {
           "angularaxis": {
            "gridcolor": "white",
            "linecolor": "white",
            "ticks": ""
           },
           "bgcolor": "#E5ECF6",
           "radialaxis": {
            "gridcolor": "white",
            "linecolor": "white",
            "ticks": ""
           }
          },
          "scene": {
           "xaxis": {
            "backgroundcolor": "#E5ECF6",
            "gridcolor": "white",
            "gridwidth": 2,
            "linecolor": "white",
            "showbackground": true,
            "ticks": "",
            "zerolinecolor": "white"
           },
           "yaxis": {
            "backgroundcolor": "#E5ECF6",
            "gridcolor": "white",
            "gridwidth": 2,
            "linecolor": "white",
            "showbackground": true,
            "ticks": "",
            "zerolinecolor": "white"
           },
           "zaxis": {
            "backgroundcolor": "#E5ECF6",
            "gridcolor": "white",
            "gridwidth": 2,
            "linecolor": "white",
            "showbackground": true,
            "ticks": "",
            "zerolinecolor": "white"
           }
          },
          "shapedefaults": {
           "line": {
            "color": "#2a3f5f"
           }
          },
          "ternary": {
           "aaxis": {
            "gridcolor": "white",
            "linecolor": "white",
            "ticks": ""
           },
           "baxis": {
            "gridcolor": "white",
            "linecolor": "white",
            "ticks": ""
           },
           "bgcolor": "#E5ECF6",
           "caxis": {
            "gridcolor": "white",
            "linecolor": "white",
            "ticks": ""
           }
          },
          "title": {
           "x": 0.05
          },
          "xaxis": {
           "automargin": true,
           "gridcolor": "white",
           "linecolor": "white",
           "ticks": "",
           "title": {
            "standoff": 15
           },
           "zerolinecolor": "white",
           "zerolinewidth": 2
          },
          "yaxis": {
           "automargin": true,
           "gridcolor": "white",
           "linecolor": "white",
           "ticks": "",
           "title": {
            "standoff": 15
           },
           "zerolinecolor": "white",
           "zerolinewidth": 2
          }
         }
        },
        "xaxis": {
         "anchor": "y",
         "domain": [
          0,
          1
         ],
         "title": {
          "text": "day"
         }
        },
        "yaxis": {
         "anchor": "x",
         "domain": [
          0,
          1
         ],
         "title": {
          "text": "jumlah"
         }
        }
       }
      }
     },
     "metadata": {},
     "output_type": "display_data"
    }
   ],
   "source": [
    "px.bar(data_frame=data2, x='day', y='jumlah', color='month', barmode='group')"
   ]
  },
  {
   "cell_type": "markdown",
   "metadata": {},
   "source": [
    "Berdasarkan hasil visualisasi diatas dapat disimpulkan bahwa penggunaan aplikasi taxi online meningkat diakhir bulan yaitu diatas tanggal 25 sampai dengan tanggal 30"
   ]
  },
  {
   "cell_type": "code",
   "execution_count": 28,
   "metadata": {},
   "outputs": [
    {
     "data": {
      "text/html": [
       "<div>\n",
       "<style scoped>\n",
       "    .dataframe tbody tr th:only-of-type {\n",
       "        vertical-align: middle;\n",
       "    }\n",
       "\n",
       "    .dataframe tbody tr th {\n",
       "        vertical-align: top;\n",
       "    }\n",
       "\n",
       "    .dataframe thead th {\n",
       "        text-align: right;\n",
       "    }\n",
       "</style>\n",
       "<table border=\"1\" class=\"dataframe\">\n",
       "  <thead>\n",
       "    <tr style=\"text-align: right;\">\n",
       "      <th></th>\n",
       "      <th>source</th>\n",
       "      <th>destination</th>\n",
       "      <th>jumlah</th>\n",
       "    </tr>\n",
       "  </thead>\n",
       "  <tbody>\n",
       "    <tr>\n",
       "      <th>0</th>\n",
       "      <td>Back Bay</td>\n",
       "      <td>Boston University</td>\n",
       "      <td>8682</td>\n",
       "    </tr>\n",
       "    <tr>\n",
       "      <th>1</th>\n",
       "      <td>Back Bay</td>\n",
       "      <td>Fenway</td>\n",
       "      <td>8718</td>\n",
       "    </tr>\n",
       "    <tr>\n",
       "      <th>2</th>\n",
       "      <td>Back Bay</td>\n",
       "      <td>Haymarket Square</td>\n",
       "      <td>8838</td>\n",
       "    </tr>\n",
       "    <tr>\n",
       "      <th>3</th>\n",
       "      <td>Back Bay</td>\n",
       "      <td>North End</td>\n",
       "      <td>9414</td>\n",
       "    </tr>\n",
       "    <tr>\n",
       "      <th>4</th>\n",
       "      <td>Back Bay</td>\n",
       "      <td>Northeastern University</td>\n",
       "      <td>8825</td>\n",
       "    </tr>\n",
       "    <tr>\n",
       "      <th>...</th>\n",
       "      <td>...</td>\n",
       "      <td>...</td>\n",
       "      <td>...</td>\n",
       "    </tr>\n",
       "    <tr>\n",
       "      <th>67</th>\n",
       "      <td>West End</td>\n",
       "      <td>Fenway</td>\n",
       "      <td>9360</td>\n",
       "    </tr>\n",
       "    <tr>\n",
       "      <th>68</th>\n",
       "      <td>West End</td>\n",
       "      <td>Haymarket Square</td>\n",
       "      <td>8424</td>\n",
       "    </tr>\n",
       "    <tr>\n",
       "      <th>69</th>\n",
       "      <td>West End</td>\n",
       "      <td>North End</td>\n",
       "      <td>8478</td>\n",
       "    </tr>\n",
       "    <tr>\n",
       "      <th>70</th>\n",
       "      <td>West End</td>\n",
       "      <td>Northeastern University</td>\n",
       "      <td>8778</td>\n",
       "    </tr>\n",
       "    <tr>\n",
       "      <th>71</th>\n",
       "      <td>West End</td>\n",
       "      <td>South Station</td>\n",
       "      <td>8784</td>\n",
       "    </tr>\n",
       "  </tbody>\n",
       "</table>\n",
       "<p>72 rows × 3 columns</p>\n",
       "</div>"
      ],
      "text/plain": [
       "      source              destination  jumlah\n",
       "0   Back Bay        Boston University    8682\n",
       "1   Back Bay                   Fenway    8718\n",
       "2   Back Bay         Haymarket Square    8838\n",
       "3   Back Bay                North End    9414\n",
       "4   Back Bay  Northeastern University    8825\n",
       "..       ...                      ...     ...\n",
       "67  West End                   Fenway    9360\n",
       "68  West End         Haymarket Square    8424\n",
       "69  West End                North End    8478\n",
       "70  West End  Northeastern University    8778\n",
       "71  West End            South Station    8784\n",
       "\n",
       "[72 rows x 3 columns]"
      ]
     },
     "execution_count": 28,
     "metadata": {},
     "output_type": "execute_result"
    }
   ],
   "source": [
    "data3 = data.groupby(by=['source', 'destination']).size().reset_index(name='jumlah')\n",
    "data3"
   ]
  },
  {
   "cell_type": "code",
   "execution_count": 29,
   "metadata": {},
   "outputs": [
    {
     "data": {
      "application/vnd.plotly.v1+json": {
       "config": {
        "plotlyServerURL": "https://plot.ly"
       },
       "data": [
        {
         "alignmentgroup": "True",
         "hovertemplate": "destination=Boston University<br>source=%{x}<br>jumlah=%{y}<extra></extra>",
         "legendgroup": "Boston University",
         "marker": {
          "color": "#636efa",
          "pattern": {
           "shape": ""
          }
         },
         "name": "Boston University",
         "offsetgroup": "Boston University",
         "orientation": "v",
         "showlegend": true,
         "textposition": "auto",
         "type": "bar",
         "x": [
          "Back Bay",
          "Beacon Hill",
          "Financial District",
          "North Station",
          "Theatre District",
          "West End"
         ],
         "xaxis": "x",
         "y": [
          8682,
          8490,
          8940,
          8730,
          9173,
          9156
         ],
         "yaxis": "y"
        },
        {
         "alignmentgroup": "True",
         "hovertemplate": "destination=Fenway<br>source=%{x}<br>jumlah=%{y}<extra></extra>",
         "legendgroup": "Fenway",
         "marker": {
          "color": "#EF553B",
          "pattern": {
           "shape": ""
          }
         },
         "name": "Fenway",
         "offsetgroup": "Fenway",
         "orientation": "v",
         "showlegend": true,
         "textposition": "auto",
         "type": "bar",
         "x": [
          "Back Bay",
          "Beacon Hill",
          "Financial District",
          "North Station",
          "Theatre District",
          "West End"
         ],
         "xaxis": "x",
         "y": [
          8718,
          8688,
          8928,
          8970,
          8502,
          9360
         ],
         "yaxis": "y"
        },
        {
         "alignmentgroup": "True",
         "hovertemplate": "destination=Haymarket Square<br>source=%{x}<br>jumlah=%{y}<extra></extra>",
         "legendgroup": "Haymarket Square",
         "marker": {
          "color": "#00cc96",
          "pattern": {
           "shape": ""
          }
         },
         "name": "Haymarket Square",
         "offsetgroup": "Haymarket Square",
         "orientation": "v",
         "showlegend": true,
         "textposition": "auto",
         "type": "bar",
         "x": [
          "Back Bay",
          "Beacon Hill",
          "Financial District",
          "North Station",
          "Theatre District",
          "West End"
         ],
         "xaxis": "x",
         "y": [
          8838,
          8802,
          9329,
          8880,
          8898,
          8424
         ],
         "yaxis": "y"
        },
        {
         "alignmentgroup": "True",
         "hovertemplate": "destination=North End<br>source=%{x}<br>jumlah=%{y}<extra></extra>",
         "legendgroup": "North End",
         "marker": {
          "color": "#ab63fa",
          "pattern": {
           "shape": ""
          }
         },
         "name": "North End",
         "offsetgroup": "North End",
         "orientation": "v",
         "showlegend": true,
         "textposition": "auto",
         "type": "bar",
         "x": [
          "Back Bay",
          "Beacon Hill",
          "Financial District",
          "North Station",
          "Theatre District",
          "West End"
         ],
         "xaxis": "x",
         "y": [
          9414,
          9240,
          8598,
          8674,
          8760,
          8478
         ],
         "yaxis": "y"
        },
        {
         "alignmentgroup": "True",
         "hovertemplate": "destination=Northeastern University<br>source=%{x}<br>jumlah=%{y}<extra></extra>",
         "legendgroup": "Northeastern University",
         "marker": {
          "color": "#FFA15A",
          "pattern": {
           "shape": ""
          }
         },
         "name": "Northeastern University",
         "offsetgroup": "Northeastern University",
         "orientation": "v",
         "showlegend": true,
         "textposition": "auto",
         "type": "bar",
         "x": [
          "Back Bay",
          "Beacon Hill",
          "Financial District",
          "North Station",
          "Theatre District",
          "West End"
         ],
         "xaxis": "x",
         "y": [
          8825,
          8916,
          8868,
          8904,
          8874,
          8778
         ],
         "yaxis": "y"
        },
        {
         "alignmentgroup": "True",
         "hovertemplate": "destination=South Station<br>source=%{x}<br>jumlah=%{y}<extra></extra>",
         "legendgroup": "South Station",
         "marker": {
          "color": "#19d3f3",
          "pattern": {
           "shape": ""
          }
         },
         "name": "South Station",
         "offsetgroup": "South Station",
         "orientation": "v",
         "showlegend": true,
         "textposition": "auto",
         "type": "bar",
         "x": [
          "Back Bay",
          "Beacon Hill",
          "Financial District",
          "North Station",
          "Theatre District",
          "West End"
         ],
         "xaxis": "x",
         "y": [
          8724,
          8705,
          9534,
          8418,
          8994,
          8784
         ],
         "yaxis": "y"
        },
        {
         "alignmentgroup": "True",
         "hovertemplate": "destination=Back Bay<br>source=%{x}<br>jumlah=%{y}<extra></extra>",
         "legendgroup": "Back Bay",
         "marker": {
          "color": "#FF6692",
          "pattern": {
           "shape": ""
          }
         },
         "name": "Back Bay",
         "offsetgroup": "Back Bay",
         "orientation": "v",
         "showlegend": true,
         "textposition": "auto",
         "type": "bar",
         "x": [
          "Boston University",
          "Fenway",
          "Haymarket Square",
          "North End",
          "Northeastern University",
          "South Station"
         ],
         "xaxis": "x",
         "y": [
          8682,
          8724,
          8838,
          9414,
          8820,
          8712
         ],
         "yaxis": "y"
        },
        {
         "alignmentgroup": "True",
         "hovertemplate": "destination=Beacon Hill<br>source=%{x}<br>jumlah=%{y}<extra></extra>",
         "legendgroup": "Beacon Hill",
         "marker": {
          "color": "#B6E880",
          "pattern": {
           "shape": ""
          }
         },
         "name": "Beacon Hill",
         "offsetgroup": "Beacon Hill",
         "orientation": "v",
         "showlegend": true,
         "textposition": "auto",
         "type": "bar",
         "x": [
          "Boston University",
          "Fenway",
          "Haymarket Square",
          "North End",
          "Northeastern University",
          "South Station"
         ],
         "xaxis": "x",
         "y": [
          8484,
          8688,
          8802,
          9240,
          8920,
          8706
         ],
         "yaxis": "y"
        },
        {
         "alignmentgroup": "True",
         "hovertemplate": "destination=Financial District<br>source=%{x}<br>jumlah=%{y}<extra></extra>",
         "legendgroup": "Financial District",
         "marker": {
          "color": "#FF97FF",
          "pattern": {
           "shape": ""
          }
         },
         "name": "Financial District",
         "offsetgroup": "Financial District",
         "orientation": "v",
         "showlegend": true,
         "textposition": "auto",
         "type": "bar",
         "x": [
          "Boston University",
          "Fenway",
          "Haymarket Square",
          "North End",
          "Northeastern University",
          "South Station"
         ],
         "xaxis": "x",
         "y": [
          8940,
          8916,
          9330,
          8598,
          8874,
          9534
         ],
         "yaxis": "y"
        },
        {
         "alignmentgroup": "True",
         "hovertemplate": "destination=North Station<br>source=%{x}<br>jumlah=%{y}<extra></extra>",
         "legendgroup": "North Station",
         "marker": {
          "color": "#FECB52",
          "pattern": {
           "shape": ""
          }
         },
         "name": "North Station",
         "offsetgroup": "North Station",
         "orientation": "v",
         "showlegend": true,
         "textposition": "auto",
         "type": "bar",
         "x": [
          "Boston University",
          "Fenway",
          "Haymarket Square",
          "North End",
          "Northeastern University",
          "South Station"
         ],
         "xaxis": "x",
         "y": [
          8730,
          8970,
          8874,
          8675,
          8904,
          8424
         ],
         "yaxis": "y"
        },
        {
         "alignmentgroup": "True",
         "hovertemplate": "destination=Theatre District<br>source=%{x}<br>jumlah=%{y}<extra></extra>",
         "legendgroup": "Theatre District",
         "marker": {
          "color": "#636efa",
          "pattern": {
           "shape": ""
          }
         },
         "name": "Theatre District",
         "offsetgroup": "Theatre District",
         "orientation": "v",
         "showlegend": true,
         "textposition": "auto",
         "type": "bar",
         "x": [
          "Boston University",
          "Fenway",
          "Haymarket Square",
          "North End",
          "Northeastern University",
          "South Station"
         ],
         "xaxis": "x",
         "y": [
          9174,
          8508,
          8879,
          8760,
          8874,
          8994
         ],
         "yaxis": "y"
        },
        {
         "alignmentgroup": "True",
         "hovertemplate": "destination=West End<br>source=%{x}<br>jumlah=%{y}<extra></extra>",
         "legendgroup": "West End",
         "marker": {
          "color": "#EF553B",
          "pattern": {
           "shape": ""
          }
         },
         "name": "West End",
         "offsetgroup": "West End",
         "orientation": "v",
         "showlegend": true,
         "textposition": "auto",
         "type": "bar",
         "x": [
          "Boston University",
          "Fenway",
          "Haymarket Square",
          "North End",
          "Northeastern University",
          "South Station"
         ],
         "xaxis": "x",
         "y": [
          9162,
          9360,
          8424,
          8484,
          8772,
          8790
         ],
         "yaxis": "y"
        }
       ],
       "layout": {
        "barmode": "group",
        "legend": {
         "title": {
          "text": "destination"
         },
         "tracegroupgap": 0
        },
        "margin": {
         "t": 60
        },
        "template": {
         "data": {
          "bar": [
           {
            "error_x": {
             "color": "#2a3f5f"
            },
            "error_y": {
             "color": "#2a3f5f"
            },
            "marker": {
             "line": {
              "color": "#E5ECF6",
              "width": 0.5
             },
             "pattern": {
              "fillmode": "overlay",
              "size": 10,
              "solidity": 0.2
             }
            },
            "type": "bar"
           }
          ],
          "barpolar": [
           {
            "marker": {
             "line": {
              "color": "#E5ECF6",
              "width": 0.5
             },
             "pattern": {
              "fillmode": "overlay",
              "size": 10,
              "solidity": 0.2
             }
            },
            "type": "barpolar"
           }
          ],
          "carpet": [
           {
            "aaxis": {
             "endlinecolor": "#2a3f5f",
             "gridcolor": "white",
             "linecolor": "white",
             "minorgridcolor": "white",
             "startlinecolor": "#2a3f5f"
            },
            "baxis": {
             "endlinecolor": "#2a3f5f",
             "gridcolor": "white",
             "linecolor": "white",
             "minorgridcolor": "white",
             "startlinecolor": "#2a3f5f"
            },
            "type": "carpet"
           }
          ],
          "choropleth": [
           {
            "colorbar": {
             "outlinewidth": 0,
             "ticks": ""
            },
            "type": "choropleth"
           }
          ],
          "contour": [
           {
            "colorbar": {
             "outlinewidth": 0,
             "ticks": ""
            },
            "colorscale": [
             [
              0,
              "#0d0887"
             ],
             [
              0.1111111111111111,
              "#46039f"
             ],
             [
              0.2222222222222222,
              "#7201a8"
             ],
             [
              0.3333333333333333,
              "#9c179e"
             ],
             [
              0.4444444444444444,
              "#bd3786"
             ],
             [
              0.5555555555555556,
              "#d8576b"
             ],
             [
              0.6666666666666666,
              "#ed7953"
             ],
             [
              0.7777777777777778,
              "#fb9f3a"
             ],
             [
              0.8888888888888888,
              "#fdca26"
             ],
             [
              1,
              "#f0f921"
             ]
            ],
            "type": "contour"
           }
          ],
          "contourcarpet": [
           {
            "colorbar": {
             "outlinewidth": 0,
             "ticks": ""
            },
            "type": "contourcarpet"
           }
          ],
          "heatmap": [
           {
            "colorbar": {
             "outlinewidth": 0,
             "ticks": ""
            },
            "colorscale": [
             [
              0,
              "#0d0887"
             ],
             [
              0.1111111111111111,
              "#46039f"
             ],
             [
              0.2222222222222222,
              "#7201a8"
             ],
             [
              0.3333333333333333,
              "#9c179e"
             ],
             [
              0.4444444444444444,
              "#bd3786"
             ],
             [
              0.5555555555555556,
              "#d8576b"
             ],
             [
              0.6666666666666666,
              "#ed7953"
             ],
             [
              0.7777777777777778,
              "#fb9f3a"
             ],
             [
              0.8888888888888888,
              "#fdca26"
             ],
             [
              1,
              "#f0f921"
             ]
            ],
            "type": "heatmap"
           }
          ],
          "heatmapgl": [
           {
            "colorbar": {
             "outlinewidth": 0,
             "ticks": ""
            },
            "colorscale": [
             [
              0,
              "#0d0887"
             ],
             [
              0.1111111111111111,
              "#46039f"
             ],
             [
              0.2222222222222222,
              "#7201a8"
             ],
             [
              0.3333333333333333,
              "#9c179e"
             ],
             [
              0.4444444444444444,
              "#bd3786"
             ],
             [
              0.5555555555555556,
              "#d8576b"
             ],
             [
              0.6666666666666666,
              "#ed7953"
             ],
             [
              0.7777777777777778,
              "#fb9f3a"
             ],
             [
              0.8888888888888888,
              "#fdca26"
             ],
             [
              1,
              "#f0f921"
             ]
            ],
            "type": "heatmapgl"
           }
          ],
          "histogram": [
           {
            "marker": {
             "pattern": {
              "fillmode": "overlay",
              "size": 10,
              "solidity": 0.2
             }
            },
            "type": "histogram"
           }
          ],
          "histogram2d": [
           {
            "colorbar": {
             "outlinewidth": 0,
             "ticks": ""
            },
            "colorscale": [
             [
              0,
              "#0d0887"
             ],
             [
              0.1111111111111111,
              "#46039f"
             ],
             [
              0.2222222222222222,
              "#7201a8"
             ],
             [
              0.3333333333333333,
              "#9c179e"
             ],
             [
              0.4444444444444444,
              "#bd3786"
             ],
             [
              0.5555555555555556,
              "#d8576b"
             ],
             [
              0.6666666666666666,
              "#ed7953"
             ],
             [
              0.7777777777777778,
              "#fb9f3a"
             ],
             [
              0.8888888888888888,
              "#fdca26"
             ],
             [
              1,
              "#f0f921"
             ]
            ],
            "type": "histogram2d"
           }
          ],
          "histogram2dcontour": [
           {
            "colorbar": {
             "outlinewidth": 0,
             "ticks": ""
            },
            "colorscale": [
             [
              0,
              "#0d0887"
             ],
             [
              0.1111111111111111,
              "#46039f"
             ],
             [
              0.2222222222222222,
              "#7201a8"
             ],
             [
              0.3333333333333333,
              "#9c179e"
             ],
             [
              0.4444444444444444,
              "#bd3786"
             ],
             [
              0.5555555555555556,
              "#d8576b"
             ],
             [
              0.6666666666666666,
              "#ed7953"
             ],
             [
              0.7777777777777778,
              "#fb9f3a"
             ],
             [
              0.8888888888888888,
              "#fdca26"
             ],
             [
              1,
              "#f0f921"
             ]
            ],
            "type": "histogram2dcontour"
           }
          ],
          "mesh3d": [
           {
            "colorbar": {
             "outlinewidth": 0,
             "ticks": ""
            },
            "type": "mesh3d"
           }
          ],
          "parcoords": [
           {
            "line": {
             "colorbar": {
              "outlinewidth": 0,
              "ticks": ""
             }
            },
            "type": "parcoords"
           }
          ],
          "pie": [
           {
            "automargin": true,
            "type": "pie"
           }
          ],
          "scatter": [
           {
            "marker": {
             "colorbar": {
              "outlinewidth": 0,
              "ticks": ""
             }
            },
            "type": "scatter"
           }
          ],
          "scatter3d": [
           {
            "line": {
             "colorbar": {
              "outlinewidth": 0,
              "ticks": ""
             }
            },
            "marker": {
             "colorbar": {
              "outlinewidth": 0,
              "ticks": ""
             }
            },
            "type": "scatter3d"
           }
          ],
          "scattercarpet": [
           {
            "marker": {
             "colorbar": {
              "outlinewidth": 0,
              "ticks": ""
             }
            },
            "type": "scattercarpet"
           }
          ],
          "scattergeo": [
           {
            "marker": {
             "colorbar": {
              "outlinewidth": 0,
              "ticks": ""
             }
            },
            "type": "scattergeo"
           }
          ],
          "scattergl": [
           {
            "marker": {
             "colorbar": {
              "outlinewidth": 0,
              "ticks": ""
             }
            },
            "type": "scattergl"
           }
          ],
          "scattermapbox": [
           {
            "marker": {
             "colorbar": {
              "outlinewidth": 0,
              "ticks": ""
             }
            },
            "type": "scattermapbox"
           }
          ],
          "scatterpolar": [
           {
            "marker": {
             "colorbar": {
              "outlinewidth": 0,
              "ticks": ""
             }
            },
            "type": "scatterpolar"
           }
          ],
          "scatterpolargl": [
           {
            "marker": {
             "colorbar": {
              "outlinewidth": 0,
              "ticks": ""
             }
            },
            "type": "scatterpolargl"
           }
          ],
          "scatterternary": [
           {
            "marker": {
             "colorbar": {
              "outlinewidth": 0,
              "ticks": ""
             }
            },
            "type": "scatterternary"
           }
          ],
          "surface": [
           {
            "colorbar": {
             "outlinewidth": 0,
             "ticks": ""
            },
            "colorscale": [
             [
              0,
              "#0d0887"
             ],
             [
              0.1111111111111111,
              "#46039f"
             ],
             [
              0.2222222222222222,
              "#7201a8"
             ],
             [
              0.3333333333333333,
              "#9c179e"
             ],
             [
              0.4444444444444444,
              "#bd3786"
             ],
             [
              0.5555555555555556,
              "#d8576b"
             ],
             [
              0.6666666666666666,
              "#ed7953"
             ],
             [
              0.7777777777777778,
              "#fb9f3a"
             ],
             [
              0.8888888888888888,
              "#fdca26"
             ],
             [
              1,
              "#f0f921"
             ]
            ],
            "type": "surface"
           }
          ],
          "table": [
           {
            "cells": {
             "fill": {
              "color": "#EBF0F8"
             },
             "line": {
              "color": "white"
             }
            },
            "header": {
             "fill": {
              "color": "#C8D4E3"
             },
             "line": {
              "color": "white"
             }
            },
            "type": "table"
           }
          ]
         },
         "layout": {
          "annotationdefaults": {
           "arrowcolor": "#2a3f5f",
           "arrowhead": 0,
           "arrowwidth": 1
          },
          "autotypenumbers": "strict",
          "coloraxis": {
           "colorbar": {
            "outlinewidth": 0,
            "ticks": ""
           }
          },
          "colorscale": {
           "diverging": [
            [
             0,
             "#8e0152"
            ],
            [
             0.1,
             "#c51b7d"
            ],
            [
             0.2,
             "#de77ae"
            ],
            [
             0.3,
             "#f1b6da"
            ],
            [
             0.4,
             "#fde0ef"
            ],
            [
             0.5,
             "#f7f7f7"
            ],
            [
             0.6,
             "#e6f5d0"
            ],
            [
             0.7,
             "#b8e186"
            ],
            [
             0.8,
             "#7fbc41"
            ],
            [
             0.9,
             "#4d9221"
            ],
            [
             1,
             "#276419"
            ]
           ],
           "sequential": [
            [
             0,
             "#0d0887"
            ],
            [
             0.1111111111111111,
             "#46039f"
            ],
            [
             0.2222222222222222,
             "#7201a8"
            ],
            [
             0.3333333333333333,
             "#9c179e"
            ],
            [
             0.4444444444444444,
             "#bd3786"
            ],
            [
             0.5555555555555556,
             "#d8576b"
            ],
            [
             0.6666666666666666,
             "#ed7953"
            ],
            [
             0.7777777777777778,
             "#fb9f3a"
            ],
            [
             0.8888888888888888,
             "#fdca26"
            ],
            [
             1,
             "#f0f921"
            ]
           ],
           "sequentialminus": [
            [
             0,
             "#0d0887"
            ],
            [
             0.1111111111111111,
             "#46039f"
            ],
            [
             0.2222222222222222,
             "#7201a8"
            ],
            [
             0.3333333333333333,
             "#9c179e"
            ],
            [
             0.4444444444444444,
             "#bd3786"
            ],
            [
             0.5555555555555556,
             "#d8576b"
            ],
            [
             0.6666666666666666,
             "#ed7953"
            ],
            [
             0.7777777777777778,
             "#fb9f3a"
            ],
            [
             0.8888888888888888,
             "#fdca26"
            ],
            [
             1,
             "#f0f921"
            ]
           ]
          },
          "colorway": [
           "#636efa",
           "#EF553B",
           "#00cc96",
           "#ab63fa",
           "#FFA15A",
           "#19d3f3",
           "#FF6692",
           "#B6E880",
           "#FF97FF",
           "#FECB52"
          ],
          "font": {
           "color": "#2a3f5f"
          },
          "geo": {
           "bgcolor": "white",
           "lakecolor": "white",
           "landcolor": "#E5ECF6",
           "showlakes": true,
           "showland": true,
           "subunitcolor": "white"
          },
          "hoverlabel": {
           "align": "left"
          },
          "hovermode": "closest",
          "mapbox": {
           "style": "light"
          },
          "paper_bgcolor": "white",
          "plot_bgcolor": "#E5ECF6",
          "polar": {
           "angularaxis": {
            "gridcolor": "white",
            "linecolor": "white",
            "ticks": ""
           },
           "bgcolor": "#E5ECF6",
           "radialaxis": {
            "gridcolor": "white",
            "linecolor": "white",
            "ticks": ""
           }
          },
          "scene": {
           "xaxis": {
            "backgroundcolor": "#E5ECF6",
            "gridcolor": "white",
            "gridwidth": 2,
            "linecolor": "white",
            "showbackground": true,
            "ticks": "",
            "zerolinecolor": "white"
           },
           "yaxis": {
            "backgroundcolor": "#E5ECF6",
            "gridcolor": "white",
            "gridwidth": 2,
            "linecolor": "white",
            "showbackground": true,
            "ticks": "",
            "zerolinecolor": "white"
           },
           "zaxis": {
            "backgroundcolor": "#E5ECF6",
            "gridcolor": "white",
            "gridwidth": 2,
            "linecolor": "white",
            "showbackground": true,
            "ticks": "",
            "zerolinecolor": "white"
           }
          },
          "shapedefaults": {
           "line": {
            "color": "#2a3f5f"
           }
          },
          "ternary": {
           "aaxis": {
            "gridcolor": "white",
            "linecolor": "white",
            "ticks": ""
           },
           "baxis": {
            "gridcolor": "white",
            "linecolor": "white",
            "ticks": ""
           },
           "bgcolor": "#E5ECF6",
           "caxis": {
            "gridcolor": "white",
            "linecolor": "white",
            "ticks": ""
           }
          },
          "title": {
           "x": 0.05
          },
          "xaxis": {
           "automargin": true,
           "gridcolor": "white",
           "linecolor": "white",
           "ticks": "",
           "title": {
            "standoff": 15
           },
           "zerolinecolor": "white",
           "zerolinewidth": 2
          },
          "yaxis": {
           "automargin": true,
           "gridcolor": "white",
           "linecolor": "white",
           "ticks": "",
           "title": {
            "standoff": 15
           },
           "zerolinecolor": "white",
           "zerolinewidth": 2
          }
         }
        },
        "xaxis": {
         "anchor": "y",
         "domain": [
          0,
          1
         ],
         "title": {
          "text": "source"
         }
        },
        "yaxis": {
         "anchor": "x",
         "domain": [
          0,
          1
         ],
         "title": {
          "text": "jumlah"
         }
        }
       }
      }
     },
     "metadata": {},
     "output_type": "display_data"
    }
   ],
   "source": [
    "px.bar(data_frame=data3, x='source', y='jumlah', color='destination', barmode='group')"
   ]
  },
  {
   "cell_type": "markdown",
   "metadata": {},
   "source": [
    "Berdasarkan hasil visualisasi diatas, dapat dilihat jika hampir semua skema perjalanan memiliki jumlah yang sama"
   ]
  },
  {
   "cell_type": "code",
   "execution_count": 63,
   "metadata": {},
   "outputs": [
    {
     "data": {
      "image/png": "[encoded data removed]",
      "text/plain": [
       "<Figure size 1080x576 with 1 Axes>"
      ]
     },
     "metadata": {
      "needs_background": "light"
     },
     "output_type": "display_data"
    }
   ],
   "source": [
    "fig , ax = plt.subplots(figsize = (15,8))\n",
    "ax.plot(data[data['cab_type'] == 'Lyft'].groupby('distance').price.mean().index, data[data['cab_type'] == 'Lyft'].groupby('distance')['price'].mean(), label = 'Lyft')\n",
    "ax.plot(data[data['cab_type'] == 'Uber'].groupby('distance').price.mean().index, data[data['cab_type'] =='Uber'].groupby('distance')['price'].mean(), label = 'Uber')\n",
    "ax.set_title('Rata-rata harga berdasarkan jarak', fontsize= 15)\n",
    "ax.set(xlabel = 'jarak', ylabel = 'harga' )\n",
    "ax.legend()\n",
    "plt.show()"
   ]
  },
  {
   "cell_type": "markdown",
   "metadata": {},
   "source": [
    "Berdasarkan hasil visualisasi diatas, dapat dilihat bahwa semakin tinggi jarak tempuh maka semakin besar harga maka kolom distance cocok untuk dijadikan model linear regression"
   ]
  },
  {
   "cell_type": "markdown",
   "metadata": {},
   "source": [
    "# Data Preprocessing"
   ]
  },
  {
   "cell_type": "code",
   "execution_count": 31,
   "metadata": {},
   "outputs": [
    {
     "data": {
      "text/html": [
       "<div>\n",
       "<style scoped>\n",
       "    .dataframe tbody tr th:only-of-type {\n",
       "        vertical-align: middle;\n",
       "    }\n",
       "\n",
       "    .dataframe tbody tr th {\n",
       "        vertical-align: top;\n",
       "    }\n",
       "\n",
       "    .dataframe thead th {\n",
       "        text-align: right;\n",
       "    }\n",
       "</style>\n",
       "<table border=\"1\" class=\"dataframe\">\n",
       "  <thead>\n",
       "    <tr style=\"text-align: right;\">\n",
       "      <th></th>\n",
       "      <th>index</th>\n",
       "      <th>hour</th>\n",
       "      <th>day</th>\n",
       "      <th>month</th>\n",
       "      <th>source</th>\n",
       "      <th>destination</th>\n",
       "      <th>cab_type</th>\n",
       "      <th>name</th>\n",
       "      <th>price</th>\n",
       "      <th>distance</th>\n",
       "      <th>surge_multiplier</th>\n",
       "    </tr>\n",
       "  </thead>\n",
       "  <tbody>\n",
       "    <tr>\n",
       "      <th>0</th>\n",
       "      <td>0</td>\n",
       "      <td>9</td>\n",
       "      <td>16</td>\n",
       "      <td>12</td>\n",
       "      <td>Haymarket Square</td>\n",
       "      <td>North Station</td>\n",
       "      <td>Lyft</td>\n",
       "      <td>Shared</td>\n",
       "      <td>5.0</td>\n",
       "      <td>0.44</td>\n",
       "      <td>1.0</td>\n",
       "    </tr>\n",
       "    <tr>\n",
       "      <th>1</th>\n",
       "      <td>1</td>\n",
       "      <td>2</td>\n",
       "      <td>27</td>\n",
       "      <td>11</td>\n",
       "      <td>Haymarket Square</td>\n",
       "      <td>North Station</td>\n",
       "      <td>Lyft</td>\n",
       "      <td>Lux</td>\n",
       "      <td>11.0</td>\n",
       "      <td>0.44</td>\n",
       "      <td>1.0</td>\n",
       "    </tr>\n",
       "    <tr>\n",
       "      <th>2</th>\n",
       "      <td>2</td>\n",
       "      <td>1</td>\n",
       "      <td>28</td>\n",
       "      <td>11</td>\n",
       "      <td>Haymarket Square</td>\n",
       "      <td>North Station</td>\n",
       "      <td>Lyft</td>\n",
       "      <td>Lyft</td>\n",
       "      <td>7.0</td>\n",
       "      <td>0.44</td>\n",
       "      <td>1.0</td>\n",
       "    </tr>\n",
       "    <tr>\n",
       "      <th>3</th>\n",
       "      <td>3</td>\n",
       "      <td>4</td>\n",
       "      <td>30</td>\n",
       "      <td>11</td>\n",
       "      <td>Haymarket Square</td>\n",
       "      <td>North Station</td>\n",
       "      <td>Lyft</td>\n",
       "      <td>Lux Black XL</td>\n",
       "      <td>26.0</td>\n",
       "      <td>0.44</td>\n",
       "      <td>1.0</td>\n",
       "    </tr>\n",
       "    <tr>\n",
       "      <th>4</th>\n",
       "      <td>4</td>\n",
       "      <td>3</td>\n",
       "      <td>29</td>\n",
       "      <td>11</td>\n",
       "      <td>Haymarket Square</td>\n",
       "      <td>North Station</td>\n",
       "      <td>Lyft</td>\n",
       "      <td>Lyft XL</td>\n",
       "      <td>9.0</td>\n",
       "      <td>0.44</td>\n",
       "      <td>1.0</td>\n",
       "    </tr>\n",
       "    <tr>\n",
       "      <th>...</th>\n",
       "      <td>...</td>\n",
       "      <td>...</td>\n",
       "      <td>...</td>\n",
       "      <td>...</td>\n",
       "      <td>...</td>\n",
       "      <td>...</td>\n",
       "      <td>...</td>\n",
       "      <td>...</td>\n",
       "      <td>...</td>\n",
       "      <td>...</td>\n",
       "      <td>...</td>\n",
       "    </tr>\n",
       "    <tr>\n",
       "      <th>637971</th>\n",
       "      <td>693065</td>\n",
       "      <td>23</td>\n",
       "      <td>1</td>\n",
       "      <td>12</td>\n",
       "      <td>West End</td>\n",
       "      <td>North End</td>\n",
       "      <td>Uber</td>\n",
       "      <td>WAV</td>\n",
       "      <td>9.5</td>\n",
       "      <td>1.00</td>\n",
       "      <td>1.0</td>\n",
       "    </tr>\n",
       "    <tr>\n",
       "      <th>637972</th>\n",
       "      <td>693066</td>\n",
       "      <td>23</td>\n",
       "      <td>1</td>\n",
       "      <td>12</td>\n",
       "      <td>West End</td>\n",
       "      <td>North End</td>\n",
       "      <td>Uber</td>\n",
       "      <td>UberXL</td>\n",
       "      <td>13.0</td>\n",
       "      <td>1.00</td>\n",
       "      <td>1.0</td>\n",
       "    </tr>\n",
       "    <tr>\n",
       "      <th>637973</th>\n",
       "      <td>693067</td>\n",
       "      <td>23</td>\n",
       "      <td>1</td>\n",
       "      <td>12</td>\n",
       "      <td>West End</td>\n",
       "      <td>North End</td>\n",
       "      <td>Uber</td>\n",
       "      <td>UberX</td>\n",
       "      <td>9.5</td>\n",
       "      <td>1.00</td>\n",
       "      <td>1.0</td>\n",
       "    </tr>\n",
       "    <tr>\n",
       "      <th>637974</th>\n",
       "      <td>693069</td>\n",
       "      <td>23</td>\n",
       "      <td>1</td>\n",
       "      <td>12</td>\n",
       "      <td>West End</td>\n",
       "      <td>North End</td>\n",
       "      <td>Uber</td>\n",
       "      <td>Black SUV</td>\n",
       "      <td>27.0</td>\n",
       "      <td>1.00</td>\n",
       "      <td>1.0</td>\n",
       "    </tr>\n",
       "    <tr>\n",
       "      <th>637975</th>\n",
       "      <td>693070</td>\n",
       "      <td>23</td>\n",
       "      <td>1</td>\n",
       "      <td>12</td>\n",
       "      <td>West End</td>\n",
       "      <td>North End</td>\n",
       "      <td>Uber</td>\n",
       "      <td>UberPool</td>\n",
       "      <td>10.0</td>\n",
       "      <td>1.00</td>\n",
       "      <td>1.0</td>\n",
       "    </tr>\n",
       "  </tbody>\n",
       "</table>\n",
       "<p>637976 rows × 11 columns</p>\n",
       "</div>"
      ],
      "text/plain": [
       "         index  hour  day  month            source    destination cab_type  \\\n",
       "0            0     9   16     12  Haymarket Square  North Station     Lyft   \n",
       "1            1     2   27     11  Haymarket Square  North Station     Lyft   \n",
       "2            2     1   28     11  Haymarket Square  North Station     Lyft   \n",
       "3            3     4   30     11  Haymarket Square  North Station     Lyft   \n",
       "4            4     3   29     11  Haymarket Square  North Station     Lyft   \n",
       "...        ...   ...  ...    ...               ...            ...      ...   \n",
       "637971  693065    23    1     12          West End      North End     Uber   \n",
       "637972  693066    23    1     12          West End      North End     Uber   \n",
       "637973  693067    23    1     12          West End      North End     Uber   \n",
       "637974  693069    23    1     12          West End      North End     Uber   \n",
       "637975  693070    23    1     12          West End      North End     Uber   \n",
       "\n",
       "                name  price  distance  surge_multiplier  \n",
       "0             Shared    5.0      0.44               1.0  \n",
       "1                Lux   11.0      0.44               1.0  \n",
       "2               Lyft    7.0      0.44               1.0  \n",
       "3       Lux Black XL   26.0      0.44               1.0  \n",
       "4            Lyft XL    9.0      0.44               1.0  \n",
       "...              ...    ...       ...               ...  \n",
       "637971           WAV    9.5      1.00               1.0  \n",
       "637972        UberXL   13.0      1.00               1.0  \n",
       "637973         UberX    9.5      1.00               1.0  \n",
       "637974     Black SUV   27.0      1.00               1.0  \n",
       "637975      UberPool   10.0      1.00               1.0  \n",
       "\n",
       "[637976 rows x 11 columns]"
      ]
     },
     "execution_count": 31,
     "metadata": {},
     "output_type": "execute_result"
    }
   ],
   "source": [
    "data_copy = data.copy()\n",
    "data_copy.reset_index(inplace=True)\n",
    "data_copy"
   ]
  },
  {
   "cell_type": "code",
   "execution_count": 32,
   "metadata": {},
   "outputs": [
    {
     "name": "stderr",
     "output_type": "stream",
     "text": [
      "C:\\Users\\HP\\AppData\\Local\\Programs\\Python\\Python39\\lib\\site-packages\\sklearn\\utils\\deprecation.py:87: FutureWarning:\n",
      "\n",
      "Function get_feature_names is deprecated; get_feature_names is deprecated in 1.0 and will be removed in 1.2. Please use get_feature_names_out instead.\n",
      "\n"
     ]
    },
    {
     "data": {
      "text/html": [
       "<div>\n",
       "<style scoped>\n",
       "    .dataframe tbody tr th:only-of-type {\n",
       "        vertical-align: middle;\n",
       "    }\n",
       "\n",
       "    .dataframe tbody tr th {\n",
       "        vertical-align: top;\n",
       "    }\n",
       "\n",
       "    .dataframe thead th {\n",
       "        text-align: right;\n",
       "    }\n",
       "</style>\n",
       "<table border=\"1\" class=\"dataframe\">\n",
       "  <thead>\n",
       "    <tr style=\"text-align: right;\">\n",
       "      <th></th>\n",
       "      <th>name_Black</th>\n",
       "      <th>name_Black SUV</th>\n",
       "      <th>name_Lux</th>\n",
       "      <th>name_Lux Black</th>\n",
       "      <th>name_Lux Black XL</th>\n",
       "      <th>name_Lyft</th>\n",
       "      <th>name_Lyft XL</th>\n",
       "      <th>name_Shared</th>\n",
       "      <th>name_UberPool</th>\n",
       "      <th>name_UberX</th>\n",
       "      <th>name_UberXL</th>\n",
       "      <th>name_WAV</th>\n",
       "    </tr>\n",
       "  </thead>\n",
       "  <tbody>\n",
       "    <tr>\n",
       "      <th>0</th>\n",
       "      <td>0.0</td>\n",
       "      <td>0.0</td>\n",
       "      <td>0.0</td>\n",
       "      <td>0.0</td>\n",
       "      <td>0.0</td>\n",
       "      <td>0.0</td>\n",
       "      <td>0.0</td>\n",
       "      <td>1.0</td>\n",
       "      <td>0.0</td>\n",
       "      <td>0.0</td>\n",
       "      <td>0.0</td>\n",
       "      <td>0.0</td>\n",
       "    </tr>\n",
       "    <tr>\n",
       "      <th>1</th>\n",
       "      <td>0.0</td>\n",
       "      <td>0.0</td>\n",
       "      <td>1.0</td>\n",
       "      <td>0.0</td>\n",
       "      <td>0.0</td>\n",
       "      <td>0.0</td>\n",
       "      <td>0.0</td>\n",
       "      <td>0.0</td>\n",
       "      <td>0.0</td>\n",
       "      <td>0.0</td>\n",
       "      <td>0.0</td>\n",
       "      <td>0.0</td>\n",
       "    </tr>\n",
       "    <tr>\n",
       "      <th>2</th>\n",
       "      <td>0.0</td>\n",
       "      <td>0.0</td>\n",
       "      <td>0.0</td>\n",
       "      <td>0.0</td>\n",
       "      <td>0.0</td>\n",
       "      <td>1.0</td>\n",
       "      <td>0.0</td>\n",
       "      <td>0.0</td>\n",
       "      <td>0.0</td>\n",
       "      <td>0.0</td>\n",
       "      <td>0.0</td>\n",
       "      <td>0.0</td>\n",
       "    </tr>\n",
       "    <tr>\n",
       "      <th>3</th>\n",
       "      <td>0.0</td>\n",
       "      <td>0.0</td>\n",
       "      <td>0.0</td>\n",
       "      <td>0.0</td>\n",
       "      <td>1.0</td>\n",
       "      <td>0.0</td>\n",
       "      <td>0.0</td>\n",
       "      <td>0.0</td>\n",
       "      <td>0.0</td>\n",
       "      <td>0.0</td>\n",
       "      <td>0.0</td>\n",
       "      <td>0.0</td>\n",
       "    </tr>\n",
       "    <tr>\n",
       "      <th>4</th>\n",
       "      <td>0.0</td>\n",
       "      <td>0.0</td>\n",
       "      <td>0.0</td>\n",
       "      <td>0.0</td>\n",
       "      <td>0.0</td>\n",
       "      <td>0.0</td>\n",
       "      <td>1.0</td>\n",
       "      <td>0.0</td>\n",
       "      <td>0.0</td>\n",
       "      <td>0.0</td>\n",
       "      <td>0.0</td>\n",
       "      <td>0.0</td>\n",
       "    </tr>\n",
       "    <tr>\n",
       "      <th>...</th>\n",
       "      <td>...</td>\n",
       "      <td>...</td>\n",
       "      <td>...</td>\n",
       "      <td>...</td>\n",
       "      <td>...</td>\n",
       "      <td>...</td>\n",
       "      <td>...</td>\n",
       "      <td>...</td>\n",
       "      <td>...</td>\n",
       "      <td>...</td>\n",
       "      <td>...</td>\n",
       "      <td>...</td>\n",
       "    </tr>\n",
       "    <tr>\n",
       "      <th>637971</th>\n",
       "      <td>0.0</td>\n",
       "      <td>0.0</td>\n",
       "      <td>0.0</td>\n",
       "      <td>0.0</td>\n",
       "      <td>0.0</td>\n",
       "      <td>0.0</td>\n",
       "      <td>0.0</td>\n",
       "      <td>0.0</td>\n",
       "      <td>0.0</td>\n",
       "      <td>0.0</td>\n",
       "      <td>0.0</td>\n",
       "      <td>1.0</td>\n",
       "    </tr>\n",
       "    <tr>\n",
       "      <th>637972</th>\n",
       "      <td>0.0</td>\n",
       "      <td>0.0</td>\n",
       "      <td>0.0</td>\n",
       "      <td>0.0</td>\n",
       "      <td>0.0</td>\n",
       "      <td>0.0</td>\n",
       "      <td>0.0</td>\n",
       "      <td>0.0</td>\n",
       "      <td>0.0</td>\n",
       "      <td>0.0</td>\n",
       "      <td>1.0</td>\n",
       "      <td>0.0</td>\n",
       "    </tr>\n",
       "    <tr>\n",
       "      <th>637973</th>\n",
       "      <td>0.0</td>\n",
       "      <td>0.0</td>\n",
       "      <td>0.0</td>\n",
       "      <td>0.0</td>\n",
       "      <td>0.0</td>\n",
       "      <td>0.0</td>\n",
       "      <td>0.0</td>\n",
       "      <td>0.0</td>\n",
       "      <td>0.0</td>\n",
       "      <td>1.0</td>\n",
       "      <td>0.0</td>\n",
       "      <td>0.0</td>\n",
       "    </tr>\n",
       "    <tr>\n",
       "      <th>637974</th>\n",
       "      <td>0.0</td>\n",
       "      <td>1.0</td>\n",
       "      <td>0.0</td>\n",
       "      <td>0.0</td>\n",
       "      <td>0.0</td>\n",
       "      <td>0.0</td>\n",
       "      <td>0.0</td>\n",
       "      <td>0.0</td>\n",
       "      <td>0.0</td>\n",
       "      <td>0.0</td>\n",
       "      <td>0.0</td>\n",
       "      <td>0.0</td>\n",
       "    </tr>\n",
       "    <tr>\n",
       "      <th>637975</th>\n",
       "      <td>0.0</td>\n",
       "      <td>0.0</td>\n",
       "      <td>0.0</td>\n",
       "      <td>0.0</td>\n",
       "      <td>0.0</td>\n",
       "      <td>0.0</td>\n",
       "      <td>0.0</td>\n",
       "      <td>0.0</td>\n",
       "      <td>1.0</td>\n",
       "      <td>0.0</td>\n",
       "      <td>0.0</td>\n",
       "      <td>0.0</td>\n",
       "    </tr>\n",
       "  </tbody>\n",
       "</table>\n",
       "<p>637976 rows × 12 columns</p>\n",
       "</div>"
      ],
      "text/plain": [
       "        name_Black  name_Black SUV  name_Lux  name_Lux Black  \\\n",
       "0              0.0             0.0       0.0             0.0   \n",
       "1              0.0             0.0       1.0             0.0   \n",
       "2              0.0             0.0       0.0             0.0   \n",
       "3              0.0             0.0       0.0             0.0   \n",
       "4              0.0             0.0       0.0             0.0   \n",
       "...            ...             ...       ...             ...   \n",
       "637971         0.0             0.0       0.0             0.0   \n",
       "637972         0.0             0.0       0.0             0.0   \n",
       "637973         0.0             0.0       0.0             0.0   \n",
       "637974         0.0             1.0       0.0             0.0   \n",
       "637975         0.0             0.0       0.0             0.0   \n",
       "\n",
       "        name_Lux Black XL  name_Lyft  name_Lyft XL  name_Shared  \\\n",
       "0                     0.0        0.0           0.0          1.0   \n",
       "1                     0.0        0.0           0.0          0.0   \n",
       "2                     0.0        1.0           0.0          0.0   \n",
       "3                     1.0        0.0           0.0          0.0   \n",
       "4                     0.0        0.0           1.0          0.0   \n",
       "...                   ...        ...           ...          ...   \n",
       "637971                0.0        0.0           0.0          0.0   \n",
       "637972                0.0        0.0           0.0          0.0   \n",
       "637973                0.0        0.0           0.0          0.0   \n",
       "637974                0.0        0.0           0.0          0.0   \n",
       "637975                0.0        0.0           0.0          0.0   \n",
       "\n",
       "        name_UberPool  name_UberX  name_UberXL  name_WAV  \n",
       "0                 0.0         0.0          0.0       0.0  \n",
       "1                 0.0         0.0          0.0       0.0  \n",
       "2                 0.0         0.0          0.0       0.0  \n",
       "3                 0.0         0.0          0.0       0.0  \n",
       "4                 0.0         0.0          0.0       0.0  \n",
       "...               ...         ...          ...       ...  \n",
       "637971            0.0         0.0          0.0       1.0  \n",
       "637972            0.0         0.0          1.0       0.0  \n",
       "637973            0.0         1.0          0.0       0.0  \n",
       "637974            0.0         0.0          0.0       0.0  \n",
       "637975            1.0         0.0          0.0       0.0  \n",
       "\n",
       "[637976 rows x 12 columns]"
      ]
     },
     "execution_count": 32,
     "metadata": {},
     "output_type": "execute_result"
    }
   ],
   "source": [
    "from sklearn import preprocessing\n",
    "encoder = preprocessing.OneHotEncoder()\n",
    "data_copy1= pd.DataFrame(encoder.fit_transform(data_copy[['name']]).toarray())\n",
    "data_copy1.columns = encoder.get_feature_names(['name'])\n",
    "data_copy1"
   ]
  },
  {
   "cell_type": "markdown",
   "metadata": {},
   "source": [
    "Kami menggunakan One Hot Encoder karena jenis categorical data yang kami punya bukan berbentuk ordinal. One Hot Encoder membantu kami untuk memberikan nilai dari setiap value pada features name yang unique"
   ]
  },
  {
   "cell_type": "code",
   "execution_count": 33,
   "metadata": {},
   "outputs": [
    {
     "data": {
      "text/html": [
       "<div>\n",
       "<style scoped>\n",
       "    .dataframe tbody tr th:only-of-type {\n",
       "        vertical-align: middle;\n",
       "    }\n",
       "\n",
       "    .dataframe tbody tr th {\n",
       "        vertical-align: top;\n",
       "    }\n",
       "\n",
       "    .dataframe thead th {\n",
       "        text-align: right;\n",
       "    }\n",
       "</style>\n",
       "<table border=\"1\" class=\"dataframe\">\n",
       "  <thead>\n",
       "    <tr style=\"text-align: right;\">\n",
       "      <th></th>\n",
       "      <th>index</th>\n",
       "      <th>hour</th>\n",
       "      <th>day</th>\n",
       "      <th>month</th>\n",
       "      <th>source</th>\n",
       "      <th>destination</th>\n",
       "      <th>cab_type</th>\n",
       "      <th>name</th>\n",
       "      <th>price</th>\n",
       "      <th>distance</th>\n",
       "      <th>...</th>\n",
       "      <th>name_Lux</th>\n",
       "      <th>name_Lux Black</th>\n",
       "      <th>name_Lux Black XL</th>\n",
       "      <th>name_Lyft</th>\n",
       "      <th>name_Lyft XL</th>\n",
       "      <th>name_Shared</th>\n",
       "      <th>name_UberPool</th>\n",
       "      <th>name_UberX</th>\n",
       "      <th>name_UberXL</th>\n",
       "      <th>name_WAV</th>\n",
       "    </tr>\n",
       "  </thead>\n",
       "  <tbody>\n",
       "    <tr>\n",
       "      <th>0</th>\n",
       "      <td>0</td>\n",
       "      <td>9</td>\n",
       "      <td>16</td>\n",
       "      <td>12</td>\n",
       "      <td>Haymarket Square</td>\n",
       "      <td>North Station</td>\n",
       "      <td>Lyft</td>\n",
       "      <td>Shared</td>\n",
       "      <td>5.0</td>\n",
       "      <td>0.44</td>\n",
       "      <td>...</td>\n",
       "      <td>0.0</td>\n",
       "      <td>0.0</td>\n",
       "      <td>0.0</td>\n",
       "      <td>0.0</td>\n",
       "      <td>0.0</td>\n",
       "      <td>1.0</td>\n",
       "      <td>0.0</td>\n",
       "      <td>0.0</td>\n",
       "      <td>0.0</td>\n",
       "      <td>0.0</td>\n",
       "    </tr>\n",
       "    <tr>\n",
       "      <th>1</th>\n",
       "      <td>1</td>\n",
       "      <td>2</td>\n",
       "      <td>27</td>\n",
       "      <td>11</td>\n",
       "      <td>Haymarket Square</td>\n",
       "      <td>North Station</td>\n",
       "      <td>Lyft</td>\n",
       "      <td>Lux</td>\n",
       "      <td>11.0</td>\n",
       "      <td>0.44</td>\n",
       "      <td>...</td>\n",
       "      <td>1.0</td>\n",
       "      <td>0.0</td>\n",
       "      <td>0.0</td>\n",
       "      <td>0.0</td>\n",
       "      <td>0.0</td>\n",
       "      <td>0.0</td>\n",
       "      <td>0.0</td>\n",
       "      <td>0.0</td>\n",
       "      <td>0.0</td>\n",
       "      <td>0.0</td>\n",
       "    </tr>\n",
       "    <tr>\n",
       "      <th>2</th>\n",
       "      <td>2</td>\n",
       "      <td>1</td>\n",
       "      <td>28</td>\n",
       "      <td>11</td>\n",
       "      <td>Haymarket Square</td>\n",
       "      <td>North Station</td>\n",
       "      <td>Lyft</td>\n",
       "      <td>Lyft</td>\n",
       "      <td>7.0</td>\n",
       "      <td>0.44</td>\n",
       "      <td>...</td>\n",
       "      <td>0.0</td>\n",
       "      <td>0.0</td>\n",
       "      <td>0.0</td>\n",
       "      <td>1.0</td>\n",
       "      <td>0.0</td>\n",
       "      <td>0.0</td>\n",
       "      <td>0.0</td>\n",
       "      <td>0.0</td>\n",
       "      <td>0.0</td>\n",
       "      <td>0.0</td>\n",
       "    </tr>\n",
       "    <tr>\n",
       "      <th>3</th>\n",
       "      <td>3</td>\n",
       "      <td>4</td>\n",
       "      <td>30</td>\n",
       "      <td>11</td>\n",
       "      <td>Haymarket Square</td>\n",
       "      <td>North Station</td>\n",
       "      <td>Lyft</td>\n",
       "      <td>Lux Black XL</td>\n",
       "      <td>26.0</td>\n",
       "      <td>0.44</td>\n",
       "      <td>...</td>\n",
       "      <td>0.0</td>\n",
       "      <td>0.0</td>\n",
       "      <td>1.0</td>\n",
       "      <td>0.0</td>\n",
       "      <td>0.0</td>\n",
       "      <td>0.0</td>\n",
       "      <td>0.0</td>\n",
       "      <td>0.0</td>\n",
       "      <td>0.0</td>\n",
       "      <td>0.0</td>\n",
       "    </tr>\n",
       "    <tr>\n",
       "      <th>4</th>\n",
       "      <td>4</td>\n",
       "      <td>3</td>\n",
       "      <td>29</td>\n",
       "      <td>11</td>\n",
       "      <td>Haymarket Square</td>\n",
       "      <td>North Station</td>\n",
       "      <td>Lyft</td>\n",
       "      <td>Lyft XL</td>\n",
       "      <td>9.0</td>\n",
       "      <td>0.44</td>\n",
       "      <td>...</td>\n",
       "      <td>0.0</td>\n",
       "      <td>0.0</td>\n",
       "      <td>0.0</td>\n",
       "      <td>0.0</td>\n",
       "      <td>1.0</td>\n",
       "      <td>0.0</td>\n",
       "      <td>0.0</td>\n",
       "      <td>0.0</td>\n",
       "      <td>0.0</td>\n",
       "      <td>0.0</td>\n",
       "    </tr>\n",
       "    <tr>\n",
       "      <th>...</th>\n",
       "      <td>...</td>\n",
       "      <td>...</td>\n",
       "      <td>...</td>\n",
       "      <td>...</td>\n",
       "      <td>...</td>\n",
       "      <td>...</td>\n",
       "      <td>...</td>\n",
       "      <td>...</td>\n",
       "      <td>...</td>\n",
       "      <td>...</td>\n",
       "      <td>...</td>\n",
       "      <td>...</td>\n",
       "      <td>...</td>\n",
       "      <td>...</td>\n",
       "      <td>...</td>\n",
       "      <td>...</td>\n",
       "      <td>...</td>\n",
       "      <td>...</td>\n",
       "      <td>...</td>\n",
       "      <td>...</td>\n",
       "      <td>...</td>\n",
       "    </tr>\n",
       "    <tr>\n",
       "      <th>637971</th>\n",
       "      <td>693065</td>\n",
       "      <td>23</td>\n",
       "      <td>1</td>\n",
       "      <td>12</td>\n",
       "      <td>West End</td>\n",
       "      <td>North End</td>\n",
       "      <td>Uber</td>\n",
       "      <td>WAV</td>\n",
       "      <td>9.5</td>\n",
       "      <td>1.00</td>\n",
       "      <td>...</td>\n",
       "      <td>0.0</td>\n",
       "      <td>0.0</td>\n",
       "      <td>0.0</td>\n",
       "      <td>0.0</td>\n",
       "      <td>0.0</td>\n",
       "      <td>0.0</td>\n",
       "      <td>0.0</td>\n",
       "      <td>0.0</td>\n",
       "      <td>0.0</td>\n",
       "      <td>1.0</td>\n",
       "    </tr>\n",
       "    <tr>\n",
       "      <th>637972</th>\n",
       "      <td>693066</td>\n",
       "      <td>23</td>\n",
       "      <td>1</td>\n",
       "      <td>12</td>\n",
       "      <td>West End</td>\n",
       "      <td>North End</td>\n",
       "      <td>Uber</td>\n",
       "      <td>UberXL</td>\n",
       "      <td>13.0</td>\n",
       "      <td>1.00</td>\n",
       "      <td>...</td>\n",
       "      <td>0.0</td>\n",
       "      <td>0.0</td>\n",
       "      <td>0.0</td>\n",
       "      <td>0.0</td>\n",
       "      <td>0.0</td>\n",
       "      <td>0.0</td>\n",
       "      <td>0.0</td>\n",
       "      <td>0.0</td>\n",
       "      <td>1.0</td>\n",
       "      <td>0.0</td>\n",
       "    </tr>\n",
       "    <tr>\n",
       "      <th>637973</th>\n",
       "      <td>693067</td>\n",
       "      <td>23</td>\n",
       "      <td>1</td>\n",
       "      <td>12</td>\n",
       "      <td>West End</td>\n",
       "      <td>North End</td>\n",
       "      <td>Uber</td>\n",
       "      <td>UberX</td>\n",
       "      <td>9.5</td>\n",
       "      <td>1.00</td>\n",
       "      <td>...</td>\n",
       "      <td>0.0</td>\n",
       "      <td>0.0</td>\n",
       "      <td>0.0</td>\n",
       "      <td>0.0</td>\n",
       "      <td>0.0</td>\n",
       "      <td>0.0</td>\n",
       "      <td>0.0</td>\n",
       "      <td>1.0</td>\n",
       "      <td>0.0</td>\n",
       "      <td>0.0</td>\n",
       "    </tr>\n",
       "    <tr>\n",
       "      <th>637974</th>\n",
       "      <td>693069</td>\n",
       "      <td>23</td>\n",
       "      <td>1</td>\n",
       "      <td>12</td>\n",
       "      <td>West End</td>\n",
       "      <td>North End</td>\n",
       "      <td>Uber</td>\n",
       "      <td>Black SUV</td>\n",
       "      <td>27.0</td>\n",
       "      <td>1.00</td>\n",
       "      <td>...</td>\n",
       "      <td>0.0</td>\n",
       "      <td>0.0</td>\n",
       "      <td>0.0</td>\n",
       "      <td>0.0</td>\n",
       "      <td>0.0</td>\n",
       "      <td>0.0</td>\n",
       "      <td>0.0</td>\n",
       "      <td>0.0</td>\n",
       "      <td>0.0</td>\n",
       "      <td>0.0</td>\n",
       "    </tr>\n",
       "    <tr>\n",
       "      <th>637975</th>\n",
       "      <td>693070</td>\n",
       "      <td>23</td>\n",
       "      <td>1</td>\n",
       "      <td>12</td>\n",
       "      <td>West End</td>\n",
       "      <td>North End</td>\n",
       "      <td>Uber</td>\n",
       "      <td>UberPool</td>\n",
       "      <td>10.0</td>\n",
       "      <td>1.00</td>\n",
       "      <td>...</td>\n",
       "      <td>0.0</td>\n",
       "      <td>0.0</td>\n",
       "      <td>0.0</td>\n",
       "      <td>0.0</td>\n",
       "      <td>0.0</td>\n",
       "      <td>0.0</td>\n",
       "      <td>1.0</td>\n",
       "      <td>0.0</td>\n",
       "      <td>0.0</td>\n",
       "      <td>0.0</td>\n",
       "    </tr>\n",
       "  </tbody>\n",
       "</table>\n",
       "<p>637976 rows × 23 columns</p>\n",
       "</div>"
      ],
      "text/plain": [
       "         index  hour  day  month            source    destination cab_type  \\\n",
       "0            0     9   16     12  Haymarket Square  North Station     Lyft   \n",
       "1            1     2   27     11  Haymarket Square  North Station     Lyft   \n",
       "2            2     1   28     11  Haymarket Square  North Station     Lyft   \n",
       "3            3     4   30     11  Haymarket Square  North Station     Lyft   \n",
       "4            4     3   29     11  Haymarket Square  North Station     Lyft   \n",
       "...        ...   ...  ...    ...               ...            ...      ...   \n",
       "637971  693065    23    1     12          West End      North End     Uber   \n",
       "637972  693066    23    1     12          West End      North End     Uber   \n",
       "637973  693067    23    1     12          West End      North End     Uber   \n",
       "637974  693069    23    1     12          West End      North End     Uber   \n",
       "637975  693070    23    1     12          West End      North End     Uber   \n",
       "\n",
       "                name  price  distance  ...  name_Lux  name_Lux Black  \\\n",
       "0             Shared    5.0      0.44  ...       0.0             0.0   \n",
       "1                Lux   11.0      0.44  ...       1.0             0.0   \n",
       "2               Lyft    7.0      0.44  ...       0.0             0.0   \n",
       "3       Lux Black XL   26.0      0.44  ...       0.0             0.0   \n",
       "4            Lyft XL    9.0      0.44  ...       0.0             0.0   \n",
       "...              ...    ...       ...  ...       ...             ...   \n",
       "637971           WAV    9.5      1.00  ...       0.0             0.0   \n",
       "637972        UberXL   13.0      1.00  ...       0.0             0.0   \n",
       "637973         UberX    9.5      1.00  ...       0.0             0.0   \n",
       "637974     Black SUV   27.0      1.00  ...       0.0             0.0   \n",
       "637975      UberPool   10.0      1.00  ...       0.0             0.0   \n",
       "\n",
       "        name_Lux Black XL  name_Lyft  name_Lyft XL  name_Shared  \\\n",
       "0                     0.0        0.0           0.0          1.0   \n",
       "1                     0.0        0.0           0.0          0.0   \n",
       "2                     0.0        1.0           0.0          0.0   \n",
       "3                     1.0        0.0           0.0          0.0   \n",
       "4                     0.0        0.0           1.0          0.0   \n",
       "...                   ...        ...           ...          ...   \n",
       "637971                0.0        0.0           0.0          0.0   \n",
       "637972                0.0        0.0           0.0          0.0   \n",
       "637973                0.0        0.0           0.0          0.0   \n",
       "637974                0.0        0.0           0.0          0.0   \n",
       "637975                0.0        0.0           0.0          0.0   \n",
       "\n",
       "        name_UberPool  name_UberX  name_UberXL  name_WAV  \n",
       "0                 0.0         0.0          0.0       0.0  \n",
       "1                 0.0         0.0          0.0       0.0  \n",
       "2                 0.0         0.0          0.0       0.0  \n",
       "3                 0.0         0.0          0.0       0.0  \n",
       "4                 0.0         0.0          0.0       0.0  \n",
       "...               ...         ...          ...       ...  \n",
       "637971            0.0         0.0          0.0       1.0  \n",
       "637972            0.0         0.0          1.0       0.0  \n",
       "637973            0.0         1.0          0.0       0.0  \n",
       "637974            0.0         0.0          0.0       0.0  \n",
       "637975            1.0         0.0          0.0       0.0  \n",
       "\n",
       "[637976 rows x 23 columns]"
      ]
     },
     "execution_count": 33,
     "metadata": {},
     "output_type": "execute_result"
    }
   ],
   "source": [
    "data_copy2 = pd.concat([data_copy, data_copy1],axis=1)\n",
    "data_copy2"
   ]
  },
  {
   "cell_type": "code",
   "execution_count": 34,
   "metadata": {},
   "outputs": [
    {
     "data": {
      "text/plain": [
       "Index(['index', 'hour', 'day', 'month', 'source', 'destination', 'cab_type',\n",
       "       'name', 'price', 'distance', 'surge_multiplier', 'name_Black',\n",
       "       'name_Black SUV', 'name_Lux', 'name_Lux Black', 'name_Lux Black XL',\n",
       "       'name_Lyft', 'name_Lyft XL', 'name_Shared', 'name_UberPool',\n",
       "       'name_UberX', 'name_UberXL', 'name_WAV'],\n",
       "      dtype='object')"
      ]
     },
     "execution_count": 34,
     "metadata": {},
     "output_type": "execute_result"
    }
   ],
   "source": [
    "data_copy2.columns"
   ]
  },
  {
   "cell_type": "markdown",
   "metadata": {},
   "source": [
    "## Membersihkan data dari outliers"
   ]
  },
  {
   "cell_type": "code",
   "execution_count": 35,
   "metadata": {
    "scrolled": true
   },
   "outputs": [
    {
     "name": "stderr",
     "output_type": "stream",
     "text": [
      "C:\\Users\\HP\\AppData\\Local\\Programs\\Python\\Python39\\lib\\site-packages\\seaborn\\_decorators.py:36: FutureWarning:\n",
      "\n",
      "Pass the following variable as a keyword arg: x. From version 0.12, the only valid positional argument will be `data`, and passing other arguments without an explicit keyword will result in an error or misinterpretation.\n",
      "\n"
     ]
    },
    {
     "data": {
      "text/plain": [
       "<AxesSubplot:xlabel='price'>"
      ]
     },
     "execution_count": 35,
     "metadata": {},
     "output_type": "execute_result"
    },
    {
     "data": {
      "image/png": "[encoded data removed]",
      "text/plain": [
       "<Figure size 432x288 with 1 Axes>"
      ]
     },
     "metadata": {
      "needs_background": "light"
     },
     "output_type": "display_data"
    }
   ],
   "source": [
    "sns.boxplot(data_copy2['price'])"
   ]
  },
  {
   "cell_type": "code",
   "execution_count": 36,
   "metadata": {},
   "outputs": [
    {
     "name": "stdout",
     "output_type": "stream",
     "text": [
      "[   645    646    706 ... 637813 637878 637917]\n",
      "4965\n"
     ]
    }
   ],
   "source": [
    "out = np.where(df['price']>45)\n",
    "print(out[0])\n",
    "print(np.count_nonzero(np.where(df['price']>45)))"
   ]
  },
  {
   "cell_type": "code",
   "execution_count": 37,
   "metadata": {},
   "outputs": [],
   "source": [
    "X = data_copy2.drop(['price', 'index', 'hour', 'day', 'month', 'source', 'destination', 'cab_type', 'name'], axis=1).values\n",
    "y = data_copy2['price'].values"
   ]
  },
  {
   "cell_type": "code",
   "execution_count": 38,
   "metadata": {},
   "outputs": [],
   "source": [
    "#scaler = preprocessing.MinMaxScaler().fit(x)\n",
    "#X = scaler.transform(X)"
   ]
  },
  {
   "cell_type": "code",
   "execution_count": 39,
   "metadata": {},
   "outputs": [
    {
     "data": {
      "text/plain": [
       "array([[0.44, 1.  , 0.  , ..., 0.  , 0.  , 0.  ],\n",
       "       [0.44, 1.  , 0.  , ..., 0.  , 0.  , 0.  ],\n",
       "       [0.44, 1.  , 0.  , ..., 0.  , 0.  , 0.  ],\n",
       "       ...,\n",
       "       [1.  , 1.  , 0.  , ..., 1.  , 0.  , 0.  ],\n",
       "       [1.  , 1.  , 0.  , ..., 0.  , 0.  , 0.  ],\n",
       "       [1.  , 1.  , 0.  , ..., 0.  , 0.  , 0.  ]])"
      ]
     },
     "execution_count": 39,
     "metadata": {},
     "output_type": "execute_result"
    }
   ],
   "source": [
    "X"
   ]
  },
  {
   "cell_type": "code",
   "execution_count": 40,
   "metadata": {},
   "outputs": [
    {
     "data": {
      "text/plain": [
       "array([ 5. , 11. ,  7. , ...,  9.5, 27. , 10. ])"
      ]
     },
     "execution_count": 40,
     "metadata": {},
     "output_type": "execute_result"
    }
   ],
   "source": [
    "y"
   ]
  },
  {
   "cell_type": "code",
   "execution_count": 41,
   "metadata": {},
   "outputs": [],
   "source": [
    "from sklearn.model_selection import train_test_split\n",
    "\n",
    "X_train, X_test, y_train, y_test = train_test_split(X, y, test_size=0.4, random_state=42)"
   ]
  },
  {
   "cell_type": "markdown",
   "metadata": {},
   "source": [
    "# Pendefinisian Model dan Pelatihan Model"
   ]
  },
  {
   "cell_type": "code",
   "execution_count": 42,
   "metadata": {},
   "outputs": [],
   "source": [
    "from sklearn.linear_model import LinearRegression\n",
    "\n",
    "\n",
    "lin_reg = LinearRegression()\n",
    "#LinearRegression(copy_X=True, fit_intercept=True, n_jobs=None, normalize=False)\n",
    "lin_reg.fit(X_train, y_train)\n",
    "y_pred = lin_reg.predict(X_test)"
   ]
  },
  {
   "cell_type": "markdown",
   "metadata": {},
   "source": [
    "# Evaluasi Model"
   ]
  },
  {
   "cell_type": "code",
   "execution_count": 43,
   "metadata": {
    "scrolled": true
   },
   "outputs": [
    {
     "name": "stdout",
     "output_type": "stream",
     "text": [
      "r2 score is  0.9278177124349709\n",
      "mean_sqrd_error is 6.28314977964947\n",
      "root_mean_squared error of is 2.506621187904042\n"
     ]
    }
   ],
   "source": [
    "from sklearn.metrics import r2_score\n",
    "from sklearn.metrics import mean_squared_error\n",
    "score=r2_score(y_test,y_pred)\n",
    "print('r2 score is ',score)\n",
    "print('mean_sqrd_error is',mean_squared_error(y_test,y_pred))\n",
    "print('root_mean_squared error of is',np.sqrt(mean_squared_error(y_test,y_pred)))\n",
    "\n"
   ]
  },
  {
   "cell_type": "markdown",
   "metadata": {},
   "source": [
    "r2 score dari model kami memiliki nilai yang baik yaitu sekitar 0.92, hal ini mempengaruhi hasil prediksi dari model. "
   ]
  },
  {
   "cell_type": "code",
   "execution_count": 44,
   "metadata": {},
   "outputs": [
    {
     "name": "stdout",
     "output_type": "stream",
     "text": [
      "Intercept of the model: 674177485.8792348\n",
      "Coefficient of the line: [ 2.79112712e+00  1.83101031e+01 -6.74177490e+08 -6.74177480e+08\n",
      " -6.74177493e+08 -6.74177488e+08 -6.74177479e+08 -6.74177501e+08\n",
      " -6.74177496e+08 -6.74177504e+08 -6.74177502e+08 -6.74177501e+08\n",
      " -6.74177495e+08 -6.74177501e+08]\n"
     ]
    }
   ],
   "source": [
    "print('Intercept of the model:',lin_reg.intercept_)\n",
    "print('Coefficient of the line:',lin_reg.coef_)"
   ]
  },
  {
   "cell_type": "code",
   "execution_count": 45,
   "metadata": {},
   "outputs": [
    {
     "name": "stderr",
     "output_type": "stream",
     "text": [
      "C:\\Users\\HP\\AppData\\Local\\Programs\\Python\\Python39\\lib\\site-packages\\seaborn\\_decorators.py:36: FutureWarning:\n",
      "\n",
      "Pass the following variables as keyword args: x, y. From version 0.12, the only valid positional argument will be `data`, and passing other arguments without an explicit keyword will result in an error or misinterpretation.\n",
      "\n"
     ]
    },
    {
     "data": {
      "text/plain": [
       "Text(0.5, 1.0, 'Check for Linearity:\\n Actual Vs Predicted value')"
      ]
     },
     "execution_count": 45,
     "metadata": {},
     "output_type": "execute_result"
    },
    {
     "data": {
      "image/png": "[encoded data removed]",
      "text/plain": [
       "<Figure size 1080x576 with 1 Axes>"
      ]
     },
     "metadata": {
      "needs_background": "light"
     },
     "output_type": "display_data"
    }
   ],
   "source": [
    "plt.figure(figsize=(15,8))\n",
    "sns.scatterplot(y_test, y_pred, color='b')\n",
    "ax.set_title('Check for Linearity:\\n Actual Vs Predicted value')"
   ]
  },
  {
   "cell_type": "code",
   "execution_count": 46,
   "metadata": {},
   "outputs": [
    {
     "name": "stderr",
     "output_type": "stream",
     "text": [
      "C:\\Users\\HP\\AppData\\Local\\Programs\\Python\\Python39\\lib\\site-packages\\seaborn\\distributions.py:2619: FutureWarning:\n",
      "\n",
      "`distplot` is a deprecated function and will be removed in a future version. Please adapt your code to use either `displot` (a figure-level function with similar flexibility) or `histplot` (an axes-level function for histograms).\n",
      "\n"
     ]
    },
    {
     "data": {
      "text/plain": [
       "<AxesSubplot:ylabel='Density'>"
      ]
     },
     "execution_count": 46,
     "metadata": {},
     "output_type": "execute_result"
    },
    {
     "data": {
      "image/png": "[encoded data removed]",
      "text/plain": [
       "<Figure size 432x288 with 1 Axes>"
      ]
     },
     "metadata": {
      "needs_background": "light"
     },
     "output_type": "display_data"
    }
   ],
   "source": [
    "sns.distplot((y_test-y_pred),bins=100)"
   ]
  },
  {
   "cell_type": "code",
   "execution_count": 47,
   "metadata": {},
   "outputs": [
    {
     "data": {
      "text/plain": [
       "array([19.69740915])"
      ]
     },
     "execution_count": 47,
     "metadata": {},
     "output_type": "execute_result"
    }
   ],
   "source": [
    "lin_reg.predict([[1.9, 1, 1,0,0,0,0,0,0,0,0,0,0,0]])"
   ]
  },
  {
   "cell_type": "code",
   "execution_count": 48,
   "metadata": {},
   "outputs": [],
   "source": [
    "#lin_reg.predict([[0.63636364, 1.9, 0]])"
   ]
  },
  {
   "cell_type": "code",
   "execution_count": 49,
   "metadata": {},
   "outputs": [
    {
     "data": {
      "text/html": [
       "<div>\n",
       "<style scoped>\n",
       "    .dataframe tbody tr th:only-of-type {\n",
       "        vertical-align: middle;\n",
       "    }\n",
       "\n",
       "    .dataframe tbody tr th {\n",
       "        vertical-align: top;\n",
       "    }\n",
       "\n",
       "    .dataframe thead th {\n",
       "        text-align: right;\n",
       "    }\n",
       "</style>\n",
       "<table border=\"1\" class=\"dataframe\">\n",
       "  <thead>\n",
       "    <tr style=\"text-align: right;\">\n",
       "      <th></th>\n",
       "      <th>0</th>\n",
       "      <th>1</th>\n",
       "      <th>2</th>\n",
       "      <th>3</th>\n",
       "      <th>4</th>\n",
       "      <th>5</th>\n",
       "      <th>6</th>\n",
       "      <th>7</th>\n",
       "      <th>8</th>\n",
       "      <th>9</th>\n",
       "      <th>10</th>\n",
       "      <th>11</th>\n",
       "      <th>12</th>\n",
       "      <th>13</th>\n",
       "    </tr>\n",
       "  </thead>\n",
       "  <tbody>\n",
       "    <tr>\n",
       "      <th>0</th>\n",
       "      <td>0.44</td>\n",
       "      <td>1.0</td>\n",
       "      <td>0.0</td>\n",
       "      <td>0.0</td>\n",
       "      <td>0.0</td>\n",
       "      <td>0.0</td>\n",
       "      <td>0.0</td>\n",
       "      <td>0.0</td>\n",
       "      <td>0.0</td>\n",
       "      <td>1.0</td>\n",
       "      <td>0.0</td>\n",
       "      <td>0.0</td>\n",
       "      <td>0.0</td>\n",
       "      <td>0.0</td>\n",
       "    </tr>\n",
       "    <tr>\n",
       "      <th>1</th>\n",
       "      <td>0.44</td>\n",
       "      <td>1.0</td>\n",
       "      <td>0.0</td>\n",
       "      <td>0.0</td>\n",
       "      <td>1.0</td>\n",
       "      <td>0.0</td>\n",
       "      <td>0.0</td>\n",
       "      <td>0.0</td>\n",
       "      <td>0.0</td>\n",
       "      <td>0.0</td>\n",
       "      <td>0.0</td>\n",
       "      <td>0.0</td>\n",
       "      <td>0.0</td>\n",
       "      <td>0.0</td>\n",
       "    </tr>\n",
       "    <tr>\n",
       "      <th>2</th>\n",
       "      <td>0.44</td>\n",
       "      <td>1.0</td>\n",
       "      <td>0.0</td>\n",
       "      <td>0.0</td>\n",
       "      <td>0.0</td>\n",
       "      <td>0.0</td>\n",
       "      <td>0.0</td>\n",
       "      <td>1.0</td>\n",
       "      <td>0.0</td>\n",
       "      <td>0.0</td>\n",
       "      <td>0.0</td>\n",
       "      <td>0.0</td>\n",
       "      <td>0.0</td>\n",
       "      <td>0.0</td>\n",
       "    </tr>\n",
       "    <tr>\n",
       "      <th>3</th>\n",
       "      <td>0.44</td>\n",
       "      <td>1.0</td>\n",
       "      <td>0.0</td>\n",
       "      <td>0.0</td>\n",
       "      <td>0.0</td>\n",
       "      <td>0.0</td>\n",
       "      <td>1.0</td>\n",
       "      <td>0.0</td>\n",
       "      <td>0.0</td>\n",
       "      <td>0.0</td>\n",
       "      <td>0.0</td>\n",
       "      <td>0.0</td>\n",
       "      <td>0.0</td>\n",
       "      <td>0.0</td>\n",
       "    </tr>\n",
       "    <tr>\n",
       "      <th>4</th>\n",
       "      <td>0.44</td>\n",
       "      <td>1.0</td>\n",
       "      <td>0.0</td>\n",
       "      <td>0.0</td>\n",
       "      <td>0.0</td>\n",
       "      <td>0.0</td>\n",
       "      <td>0.0</td>\n",
       "      <td>0.0</td>\n",
       "      <td>1.0</td>\n",
       "      <td>0.0</td>\n",
       "      <td>0.0</td>\n",
       "      <td>0.0</td>\n",
       "      <td>0.0</td>\n",
       "      <td>0.0</td>\n",
       "    </tr>\n",
       "  </tbody>\n",
       "</table>\n",
       "</div>"
      ],
      "text/plain": [
       "     0    1    2    3    4    5    6    7    8    9    10   11   12   13\n",
       "0  0.44  1.0  0.0  0.0  0.0  0.0  0.0  0.0  0.0  1.0  0.0  0.0  0.0  0.0\n",
       "1  0.44  1.0  0.0  0.0  1.0  0.0  0.0  0.0  0.0  0.0  0.0  0.0  0.0  0.0\n",
       "2  0.44  1.0  0.0  0.0  0.0  0.0  0.0  1.0  0.0  0.0  0.0  0.0  0.0  0.0\n",
       "3  0.44  1.0  0.0  0.0  0.0  0.0  1.0  0.0  0.0  0.0  0.0  0.0  0.0  0.0\n",
       "4  0.44  1.0  0.0  0.0  0.0  0.0  0.0  0.0  1.0  0.0  0.0  0.0  0.0  0.0"
      ]
     },
     "execution_count": 49,
     "metadata": {},
     "output_type": "execute_result"
    }
   ],
   "source": [
    "X = pd.DataFrame(X)\n",
    "X.head()"
   ]
  },
  {
   "cell_type": "code",
   "execution_count": 50,
   "metadata": {},
   "outputs": [
    {
     "data": {
      "text/plain": [
       "array([1.  , 1.25, 2.5 , 2.  , 1.75, 1.5 , 3.  ])"
      ]
     },
     "execution_count": 50,
     "metadata": {},
     "output_type": "execute_result"
    }
   ],
   "source": [
    "X[1].unique()"
   ]
  },
  {
   "cell_type": "code",
   "execution_count": 51,
   "metadata": {},
   "outputs": [
    {
     "data": {
      "text/html": [
       "<div>\n",
       "<style scoped>\n",
       "    .dataframe tbody tr th:only-of-type {\n",
       "        vertical-align: middle;\n",
       "    }\n",
       "\n",
       "    .dataframe tbody tr th {\n",
       "        vertical-align: top;\n",
       "    }\n",
       "\n",
       "    .dataframe thead th {\n",
       "        text-align: right;\n",
       "    }\n",
       "</style>\n",
       "<table border=\"1\" class=\"dataframe\">\n",
       "  <thead>\n",
       "    <tr style=\"text-align: right;\">\n",
       "      <th></th>\n",
       "      <th>index</th>\n",
       "      <th>hour</th>\n",
       "      <th>day</th>\n",
       "      <th>month</th>\n",
       "      <th>source</th>\n",
       "      <th>destination</th>\n",
       "      <th>cab_type</th>\n",
       "      <th>name</th>\n",
       "      <th>price</th>\n",
       "      <th>distance</th>\n",
       "      <th>...</th>\n",
       "      <th>name_Lux</th>\n",
       "      <th>name_Lux Black</th>\n",
       "      <th>name_Lux Black XL</th>\n",
       "      <th>name_Lyft</th>\n",
       "      <th>name_Lyft XL</th>\n",
       "      <th>name_Shared</th>\n",
       "      <th>name_UberPool</th>\n",
       "      <th>name_UberX</th>\n",
       "      <th>name_UberXL</th>\n",
       "      <th>name_WAV</th>\n",
       "    </tr>\n",
       "  </thead>\n",
       "  <tbody>\n",
       "    <tr>\n",
       "      <th>0</th>\n",
       "      <td>0</td>\n",
       "      <td>9</td>\n",
       "      <td>16</td>\n",
       "      <td>12</td>\n",
       "      <td>Haymarket Square</td>\n",
       "      <td>North Station</td>\n",
       "      <td>Lyft</td>\n",
       "      <td>Shared</td>\n",
       "      <td>5.0</td>\n",
       "      <td>0.44</td>\n",
       "      <td>...</td>\n",
       "      <td>0.0</td>\n",
       "      <td>0.0</td>\n",
       "      <td>0.0</td>\n",
       "      <td>0.0</td>\n",
       "      <td>0.0</td>\n",
       "      <td>1.0</td>\n",
       "      <td>0.0</td>\n",
       "      <td>0.0</td>\n",
       "      <td>0.0</td>\n",
       "      <td>0.0</td>\n",
       "    </tr>\n",
       "    <tr>\n",
       "      <th>1</th>\n",
       "      <td>1</td>\n",
       "      <td>2</td>\n",
       "      <td>27</td>\n",
       "      <td>11</td>\n",
       "      <td>Haymarket Square</td>\n",
       "      <td>North Station</td>\n",
       "      <td>Lyft</td>\n",
       "      <td>Lux</td>\n",
       "      <td>11.0</td>\n",
       "      <td>0.44</td>\n",
       "      <td>...</td>\n",
       "      <td>1.0</td>\n",
       "      <td>0.0</td>\n",
       "      <td>0.0</td>\n",
       "      <td>0.0</td>\n",
       "      <td>0.0</td>\n",
       "      <td>0.0</td>\n",
       "      <td>0.0</td>\n",
       "      <td>0.0</td>\n",
       "      <td>0.0</td>\n",
       "      <td>0.0</td>\n",
       "    </tr>\n",
       "    <tr>\n",
       "      <th>2</th>\n",
       "      <td>2</td>\n",
       "      <td>1</td>\n",
       "      <td>28</td>\n",
       "      <td>11</td>\n",
       "      <td>Haymarket Square</td>\n",
       "      <td>North Station</td>\n",
       "      <td>Lyft</td>\n",
       "      <td>Lyft</td>\n",
       "      <td>7.0</td>\n",
       "      <td>0.44</td>\n",
       "      <td>...</td>\n",
       "      <td>0.0</td>\n",
       "      <td>0.0</td>\n",
       "      <td>0.0</td>\n",
       "      <td>1.0</td>\n",
       "      <td>0.0</td>\n",
       "      <td>0.0</td>\n",
       "      <td>0.0</td>\n",
       "      <td>0.0</td>\n",
       "      <td>0.0</td>\n",
       "      <td>0.0</td>\n",
       "    </tr>\n",
       "    <tr>\n",
       "      <th>3</th>\n",
       "      <td>3</td>\n",
       "      <td>4</td>\n",
       "      <td>30</td>\n",
       "      <td>11</td>\n",
       "      <td>Haymarket Square</td>\n",
       "      <td>North Station</td>\n",
       "      <td>Lyft</td>\n",
       "      <td>Lux Black XL</td>\n",
       "      <td>26.0</td>\n",
       "      <td>0.44</td>\n",
       "      <td>...</td>\n",
       "      <td>0.0</td>\n",
       "      <td>0.0</td>\n",
       "      <td>1.0</td>\n",
       "      <td>0.0</td>\n",
       "      <td>0.0</td>\n",
       "      <td>0.0</td>\n",
       "      <td>0.0</td>\n",
       "      <td>0.0</td>\n",
       "      <td>0.0</td>\n",
       "      <td>0.0</td>\n",
       "    </tr>\n",
       "    <tr>\n",
       "      <th>4</th>\n",
       "      <td>4</td>\n",
       "      <td>3</td>\n",
       "      <td>29</td>\n",
       "      <td>11</td>\n",
       "      <td>Haymarket Square</td>\n",
       "      <td>North Station</td>\n",
       "      <td>Lyft</td>\n",
       "      <td>Lyft XL</td>\n",
       "      <td>9.0</td>\n",
       "      <td>0.44</td>\n",
       "      <td>...</td>\n",
       "      <td>0.0</td>\n",
       "      <td>0.0</td>\n",
       "      <td>0.0</td>\n",
       "      <td>0.0</td>\n",
       "      <td>1.0</td>\n",
       "      <td>0.0</td>\n",
       "      <td>0.0</td>\n",
       "      <td>0.0</td>\n",
       "      <td>0.0</td>\n",
       "      <td>0.0</td>\n",
       "    </tr>\n",
       "  </tbody>\n",
       "</table>\n",
       "<p>5 rows × 23 columns</p>\n",
       "</div>"
      ],
      "text/plain": [
       "   index  hour  day  month            source    destination cab_type  \\\n",
       "0      0     9   16     12  Haymarket Square  North Station     Lyft   \n",
       "1      1     2   27     11  Haymarket Square  North Station     Lyft   \n",
       "2      2     1   28     11  Haymarket Square  North Station     Lyft   \n",
       "3      3     4   30     11  Haymarket Square  North Station     Lyft   \n",
       "4      4     3   29     11  Haymarket Square  North Station     Lyft   \n",
       "\n",
       "           name  price  distance  ...  name_Lux  name_Lux Black  \\\n",
       "0        Shared    5.0      0.44  ...       0.0             0.0   \n",
       "1           Lux   11.0      0.44  ...       1.0             0.0   \n",
       "2          Lyft    7.0      0.44  ...       0.0             0.0   \n",
       "3  Lux Black XL   26.0      0.44  ...       0.0             0.0   \n",
       "4       Lyft XL    9.0      0.44  ...       0.0             0.0   \n",
       "\n",
       "   name_Lux Black XL  name_Lyft  name_Lyft XL  name_Shared  name_UberPool  \\\n",
       "0                0.0        0.0           0.0          1.0            0.0   \n",
       "1                0.0        0.0           0.0          0.0            0.0   \n",
       "2                0.0        1.0           0.0          0.0            0.0   \n",
       "3                1.0        0.0           0.0          0.0            0.0   \n",
       "4                0.0        0.0           1.0          0.0            0.0   \n",
       "\n",
       "   name_UberX  name_UberXL  name_WAV  \n",
       "0         0.0          0.0       0.0  \n",
       "1         0.0          0.0       0.0  \n",
       "2         0.0          0.0       0.0  \n",
       "3         0.0          0.0       0.0  \n",
       "4         0.0          0.0       0.0  \n",
       "\n",
       "[5 rows x 23 columns]"
      ]
     },
     "execution_count": 51,
     "metadata": {},
     "output_type": "execute_result"
    }
   ],
   "source": [
    "data_copy2.head()"
   ]
  },
  {
   "cell_type": "markdown",
   "metadata": {},
   "source": [
    "## Persiapan deployment model"
   ]
  },
  {
   "cell_type": "code",
   "execution_count": 52,
   "metadata": {},
   "outputs": [],
   "source": [
    "#import pickle\n",
    "#pickle.dump(lin_reg, open('model_linear.pkl','wb'))"
   ]
  },
  {
   "cell_type": "code",
   "execution_count": 53,
   "metadata": {},
   "outputs": [],
   "source": [
    "import numpy as np\n",
    "import itertools\n",
    "a = 1.9, 1, [1,0,0,0,0,0,0,0,0,0,0,0]\n",
    "def castToList(x): #casts x to a list\n",
    "    if isinstance(x, list):\n",
    "        return x\n",
    "    elif isinstance(x, str):\n",
    "        return [x]\n",
    "    try:\n",
    "        return list(x)\n",
    "    except TypeError:\n",
    "        return [x]\n",
    "features = [castToList(x) for x in a]\n",
    "new_features = list(itertools.chain.from_iterable(features))\n",
    "final_features = [np.array(new_features)]\n",
    "#prediction = lin_reg.predict(final_features)"
   ]
  },
  {
   "cell_type": "code",
   "execution_count": 54,
   "metadata": {},
   "outputs": [
    {
     "data": {
      "text/plain": [
       "[1, 0, 0, 0, 0, 0, 0, 0, 0, 0, 0, 0]"
      ]
     },
     "execution_count": 54,
     "metadata": {},
     "output_type": "execute_result"
    }
   ],
   "source": [
    "features[2]"
   ]
  },
  {
   "cell_type": "code",
   "execution_count": 55,
   "metadata": {},
   "outputs": [
    {
     "data": {
      "text/plain": [
       "[[1.9], [1], [1, 0, 0, 0, 0, 0, 0, 0, 0, 0, 0, 0]]"
      ]
     },
     "execution_count": 55,
     "metadata": {},
     "output_type": "execute_result"
    }
   ],
   "source": [
    "features"
   ]
  },
  {
   "cell_type": "code",
   "execution_count": 56,
   "metadata": {},
   "outputs": [
    {
     "data": {
      "text/plain": [
       "14"
      ]
     },
     "execution_count": 56,
     "metadata": {},
     "output_type": "execute_result"
    }
   ],
   "source": [
    "len(new_features)"
   ]
  },
  {
   "cell_type": "code",
   "execution_count": 57,
   "metadata": {},
   "outputs": [
    {
     "data": {
      "text/plain": [
       "[array([1.9, 1. , 1. , 0. , 0. , 0. , 0. , 0. , 0. , 0. , 0. , 0. , 0. ,\n",
       "        0. ])]"
      ]
     },
     "execution_count": 57,
     "metadata": {},
     "output_type": "execute_result"
    }
   ],
   "source": [
    "final_features"
   ]
  },
  {
   "cell_type": "code",
   "execution_count": 58,
   "metadata": {},
   "outputs": [],
   "source": [
    "a = \"1.9\", \"1\", \"010000000000\""
   ]
  },
  {
   "cell_type": "code",
   "execution_count": 59,
   "metadata": {},
   "outputs": [],
   "source": [
    "features = [x for x in a]\n",
    "new_features1 = [float(x) for x in features[0:2]]\n",
    "new_features2 = [int(i) if i.isdigit() else i for i in map(str, str(features[2]))]"
   ]
  },
  {
   "cell_type": "code",
   "execution_count": 60,
   "metadata": {},
   "outputs": [
    {
     "data": {
      "text/plain": [
       "['1.9', '1', '010000000000']"
      ]
     },
     "execution_count": 60,
     "metadata": {},
     "output_type": "execute_result"
    }
   ],
   "source": [
    "features"
   ]
  },
  {
   "cell_type": "code",
   "execution_count": 61,
   "metadata": {},
   "outputs": [
    {
     "data": {
      "text/plain": [
       "[1.9, 1.0]"
      ]
     },
     "execution_count": 61,
     "metadata": {},
     "output_type": "execute_result"
    }
   ],
   "source": [
    "new_features1"
   ]
  },
  {
   "cell_type": "code",
   "execution_count": 62,
   "metadata": {},
   "outputs": [
    {
     "data": {
      "text/plain": [
       "array([1.9, 1. , 0. , 1. , 0. , 0. , 0. , 0. , 0. , 0. , 0. , 0. , 0. ,\n",
       "       0. ])"
      ]
     },
     "execution_count": 62,
     "metadata": {},
     "output_type": "execute_result"
    }
   ],
   "source": [
    "import numpy as np\n",
    "final_features = np.append(new_features1, new_features2)\n",
    "final_features"
   ]
  },
  {
   "cell_type": "markdown",
   "metadata": {},
   "source": [
    "# Conclusion"
   ]
  },
  {
   "cell_type": "markdown",
   "metadata": {},
   "source": [
    "### Beberapa kesimpulan yang dapat diambil dari hasil analisa adalah sebagai berikut:\n",
    "1. Jarak menjadi faktor yang memiliki korelasi paling tinggi dengan harga.\n",
    "2. surge_multiplier menjadi faktor kedua yang korelasinya tinggi dengan harga.\n",
    "3. Tanggal 25~30 terdapat lonjakan pengguna aplikasi taxi online.\n",
    "4. Jumlah jenis kendaraan yang digunakan dari setiap perusahaan hampir sama.\n",
    "5. Jumlah skema perjalanan dari dan menuju hampir semuanya sama.\n",
    "6. Uber memiliki pengguna yang lebih banyak daripada Lyft dengan perbedaan sebesari 3.6%"
   ]
  }
 ],
 "metadata": {
  "interpreter": {
   "hash": "c569cd2e17f62341e0f08a54f9a867c3c0d3a6f67454072d7de41a8b5dff8343"
  },
  "kernelspec": {
   "display_name": "Python 3",
   "language": "python",
   "name": "python3"
  },
  "language_info": {
   "codemirror_mode": {
    "name": "ipython",
    "version": 3
   },
   "file_extension": ".py",
   "mimetype": "text/x-python",
   "name": "python",
   "nbconvert_exporter": "python",
   "pygments_lexer": "ipython3",
   "version": "3.9.7"
  }
 },
 "nbformat": 4,
 "nbformat_minor": 2
}
