{
 "cells": [
  {
   "cell_type": "markdown",
   "source": [
    "# latihan 1"
   ],
   "metadata": {}
  },
  {
   "cell_type": "code",
   "execution_count": 30,
   "source": [
    "panjang = 5\n",
    "lebar = 10\n",
    "keliling_segiempat = 2*panjang + 2*lebar\n",
    "luas_segiempat = panjang*lebar\n",
    "print('panjang segi empat = ',panjang)\n",
    "print('lebar segi empat = ',lebar)\n",
    "print('keliling segi empat = ',keliling_segiempat)\n",
    "print('luas segi empat = ',luas_segiempat)"
   ],
   "outputs": [
    {
     "output_type": "stream",
     "name": "stdout",
     "text": [
      "panjang segi empat =  5\n",
      "lebar segi empat =  10\n",
      "keliling segi empat =  30\n",
      "luas segi empat =  50\n"
     ]
    }
   ],
   "metadata": {}
  },
  {
   "cell_type": "markdown",
   "source": [
    "# latihan 2"
   ],
   "metadata": {}
  },
  {
   "cell_type": "code",
   "execution_count": 7,
   "source": [
    "panjang = input('masukan variabel panjang :')\n",
    "lebar = input('masukan variabel lebar :')\n",
    "keliling_segiempat = 2*int(panjang) + 2*int(lebar)\n",
    "luas_segiempat = int(panjang)*int(lebar)\n",
    "print('keliling segi empat = ',keliling_segiempat)\n",
    "print('luas segi empat = ',luas_segiempat)"
   ],
   "outputs": [
    {
     "output_type": "stream",
     "name": "stdout",
     "text": [
      "masukan variabel panjang :5\n",
      "masukan variabel lebar :10\n",
      "keliling segi empat =  30\n",
      "luas segi empat =  50\n"
     ]
    }
   ],
   "metadata": {}
  },
  {
   "cell_type": "markdown",
   "source": [
    "# latihan 3"
   ],
   "metadata": {}
  },
  {
   "cell_type": "code",
   "execution_count": 33,
   "source": [
    "alas = input('masukan variabel alas :')\n",
    "tinggi = input('masukan variabel tinggi :')\n",
    "luas_segitiga = (int(alas)*int(tinggi))/2\n",
    "print('luas segitiga = ',luas_segitiga)"
   ],
   "outputs": [
    {
     "output_type": "stream",
     "name": "stdout",
     "text": [
      "masukan variabel alas :4\n",
      "masukan variabel tinggi :2\n",
      "luas segitiga =  4.0\n"
     ]
    }
   ],
   "metadata": {}
  },
  {
   "cell_type": "markdown",
   "source": [
    "# latihan 4"
   ],
   "metadata": {}
  },
  {
   "cell_type": "code",
   "execution_count": 23,
   "source": [
    "x = input('pilih program menghitung luas bangun datar :')\n",
    "if x in ['persegi panjang', 'segitiga', 'persegi', 'lingkaran']:\n",
    "    if x == 'persegi panjang':\n",
    "        panjang = input('masukan variabel panjang :')\n",
    "        lebar = input('masukan variabel lebar :')\n",
    "        keliling_segiempat = 2*int(panjang) + 2*int(lebar)\n",
    "        luas_segiempat = int(panjang)*int(lebar)\n",
    "        print('keliling segi empat = ',keliling_segiempat)\n",
    "        print('luas segi empat = ',luas_segiempat)\n",
    "    elif x == 'segitiga':\n",
    "        alas = input('masukan variabel alas :')\n",
    "        tinggi = input('masukan variabel tinggi :')\n",
    "        luas_segitiga = (int(alas)*int(tinggi))/2\n",
    "        print('luas segitiga = ',luas_segitiga)\n",
    "    elif x == 'persegi':\n",
    "        sisi = input('masukan variabel sisi :')\n",
    "        keliling_persegi = 4*int(sisi)\n",
    "        luas_persegi = int(sisi)*int(sisi)\n",
    "        print('keliling segi empat = ',keliling_segiempat)\n",
    "        print('luas segi empat = ',luas_segiempat)\n",
    "    elif x == 'lingkaran':\n",
    "        jari_jari = input('masukan variabel jari-jari :')\n",
    "        keliling_lingkaran = 2*3.14*int(jari_jari)\n",
    "        luas_lingkaran = 3.14*int(jari_jari)*int(jari_jari)\n",
    "        print('keliling segi empat = ',keliling_lingkaran)\n",
    "        print('luas segi empat = ',luas_lingkaran)\n",
    "else :\n",
    "    print('pilihan salah')"
   ],
   "outputs": [
    {
     "output_type": "stream",
     "name": "stdout",
     "text": [
      "pilih program menghitung luas bangun datar :lingkaran\n",
      "masukan variabel jari-jari :10\n",
      "keliling segi empat =  62.800000000000004\n",
      "luas segi empat =  314.0\n"
     ]
    }
   ],
   "metadata": {}
  },
  {
   "cell_type": "markdown",
   "source": [
    "# latihan 5"
   ],
   "metadata": {}
  },
  {
   "cell_type": "code",
   "execution_count": 36,
   "source": [
    "ulang = 'ya'\r\n",
    "while ulang == 'ya':\r\n",
    "    x = input('pilih program menghitung luas bangun datar :')\r\n",
    "    if x in ['persegi panjang', 'segitiga', 'persegi', 'lingkaran']:\r\n",
    "        if x == 'persegi panjang':\r\n",
    "            panjang = input('masukan variabel panjang :')\r\n",
    "            lebar = input('masukan variabel lebar :')\r\n",
    "            keliling_segiempat = 2*int(panjang) + 2*int(lebar)\r\n",
    "            luas_segiempat = int(panjang)*int(lebar)\r\n",
    "            print('keliling segi empat = ',keliling_segiempat)\r\n",
    "            print('luas segi empat = ',luas_segiempat)\r\n",
    "        elif x == 'segitiga':\r\n",
    "            alas = input('masukan variabel alas :')\r\n",
    "            tinggi = input('masukan variabel tinggi :')\r\n",
    "            luas_segitiga = (int(alas)*int(tinggi))/2\r\n",
    "            print('luas segitiga = ',luas_segitiga)\r\n",
    "        elif x == 'persegi':\r\n",
    "            sisi = input('masukan variabel sisi :')\r\n",
    "            keliling_persegi = 4*int(sisi)\r\n",
    "            luas_persegi = int(sisi)*int(sisi)\r\n",
    "            print('keliling segi empat = ',keliling_segiempat)\r\n",
    "            print('luas segi empat = ',luas_segiempat)\r\n",
    "        elif x == 'lingkaran':\r\n",
    "            jari_jari = input('masukan variabel jari-jari :')\r\n",
    "            keliling_lingkaran = 2*3.14*float(jari_jari)\r\n",
    "            luas_lingkaran = 3.14*float(jari_jari)*float(jari_jari)\r\n",
    "            print('keliling segi empat = ',keliling_lingkaran)\r\n",
    "            print('luas segi empat = ',luas_lingkaran)\r\n",
    "        ulang = input('apakah anda mengulang? ya/tidak:')\r\n",
    "    else :\r\n",
    "        print('pilihan salah')\r\n",
    "else :\r\n",
    "    print('program selesai')"
   ],
   "outputs": [
    {
     "output_type": "stream",
     "name": "stdout",
     "text": [
      "pilih program menghitung luas bangun datar :persegi\n",
      "masukan variabel sisi :4\n",
      "keliling segi empat =  30\n",
      "luas segi empat =  50\n",
      "apakah anda mengulang? ya/tidak:ya\n",
      "pilih program menghitung luas bangun datar :lingkaran\n",
      "masukan variabel jari-jari :10\n",
      "keliling segi empat =  62.800000000000004\n",
      "luas segi empat =  314.0\n",
      "apakah anda mengulang? ya/tidak:tidak\n",
      "program selesai\n"
     ]
    }
   ],
   "metadata": {}
  },
  {
   "cell_type": "markdown",
   "source": [
    "# latihan 6"
   ],
   "metadata": {}
  },
  {
   "cell_type": "code",
   "execution_count": 40,
   "source": [
    "def segitiga(alas, tinggi):\r\n",
    "    luas_segitiga = (int(alas)*int(tinggi))/2\r\n",
    "    print('luas segitiga = ',luas_segitiga)\r\n",
    "    \r\n",
    "def persegi_panjang(panjang, lebar):\r\n",
    "    keliling_segiempat = 2*int(panjang) + 2*int(lebar)\r\n",
    "    luas_segiempat = int(panjang)*int(lebar)\r\n",
    "    print('keliling segi empat = ',keliling_segiempat)\r\n",
    "    print('luas segi empat = ',luas_segiempat)\r\n",
    "\r\n",
    "def persegi(sisi):\r\n",
    "    keliling_persegi = 4*int(sisi)\r\n",
    "    luas_persegi = int(sisi)*int(sisi)\r\n",
    "    print('keliling segi empat = ',keliling_segiempat)\r\n",
    "    print('luas segi empat = ',luas_segiempat)\r\n",
    "\r\n",
    "def lingkaran(jari_jari):\r\n",
    "    keliling_lingkaran = 2*3.14*float(jari_jari)\r\n",
    "    luas_lingkaran = 3.14*float(jari_jari)*float(jari_jari)\r\n",
    "    print('keliling segi empat = ',keliling_lingkaran)\r\n",
    "    print('luas segi empat = ',luas_lingkaran)\r\n",
    "    \r\n",
    "ulang= 'ya'\r\n",
    "while ulang == 'ya':\r\n",
    "    x = input('pilih program menghitung luas bangun datar:')\r\n",
    "    if x in ['segitiga', 'persegi panjang', 'persegi', 'lingkaran']:\r\n",
    "        if x == 'segitiga':\r\n",
    "            alas = input('masukan variabel alas :')\r\n",
    "            tinggi = input('masukan variabel tinggi :')\r\n",
    "            segitiga(alas, tinggi)\r\n",
    "        elif x == 'persegi panjang':\r\n",
    "            panjang = input('masukan variabel panjang :')\r\n",
    "            lebar = input('masukan variabel lebar :')\r\n",
    "            persegi_panjang(panjang, lebar)\r\n",
    "        elif x == 'persegi':\r\n",
    "            sisi = input('masukan variabel sisi :')\r\n",
    "            persegi(sisi)\r\n",
    "        elif x == 'lingkaran':\r\n",
    "            jari_jari = input('masukan variabel jari-jari :')\r\n",
    "            lingkaran(jari_jari)\r\n",
    "        ulang = input('apakah anda mengulang? ya/tidak:')\r\n",
    "    else :\r\n",
    "        print('pilihan salah')\r\n",
    "\r\n",
    "else :\r\n",
    "    print('program selesai')"
   ],
   "outputs": [
    {
     "output_type": "stream",
     "name": "stdout",
     "text": [
      "pilih program menghitung luas bangun datar:persegi\n",
      "masukan variabel sisi :5\n",
      "keliling segi empat =  30\n",
      "luas segi empat =  50\n",
      "apakah anda mengulang? ya/tidak:ya\n",
      "pilih program menghitung luas bangun datar:lingkaran\n",
      "masukan variabel jari-jari :10\n",
      "keliling segi empat =  62.800000000000004\n",
      "luas segi empat =  314.0\n",
      "apakah anda mengulang? ya/tidak:tidak\n",
      "program selesai\n"
     ]
    }
   ],
   "metadata": {}
  },
  {
   "cell_type": "markdown",
   "source": [
    "# latihan 7"
   ],
   "metadata": {}
  },
  {
   "cell_type": "code",
   "execution_count": 2,
   "source": [
    "import bentuk2D\r\n",
    "\r\n",
    "print(\"Perhitungan 2 Dimensi\")\r\n",
    "print(\"1. Segiempat\")\r\n",
    "print(\"2. Segitiga\")\r\n",
    "print(\"3. Persegi\")\r\n",
    "print(\"4. Lingkaran\")\r\n",
    "\r\n",
    "ulang = \"Y\"\r\n",
    "while ulang == \"Y\" or ulang == \"y\" :\r\n",
    "    pilihan = input(\"Masukkan Pilihan Anda : \")\r\n",
    "\r\n",
    "    if pilihan == '1' :\r\n",
    "        bentuk2D.segiempat()\r\n",
    "\r\n",
    "    elif pilihan == '2' :\r\n",
    "        bentuk2D.segitiga()\r\n",
    "\r\n",
    "    elif pilihan == '3' :\r\n",
    "        bentuk2D.persegi()\r\n",
    "\r\n",
    "    elif pilihan == '4' :\r\n",
    "        bentuk2D.lingkaran()\r\n",
    "        \r\n",
    "    else :\r\n",
    "        print(\"Tidak ada di Pilihan\")\r\n",
    "\r\n",
    "    ulang = input(\"Apakah Anda ingin mengulang?(y/t) \")\r\n",
    "\r\n",
    "else :\r\n",
    "    print(\"Program Selesai\")\r\n",
    "    exit"
   ],
   "outputs": [
    {
     "output_type": "stream",
     "name": "stdout",
     "text": [
      "Perhitungan 2 Dimensi\n",
      "1. Segiempat\n",
      "2. Segitiga\n",
      "3. Persegi\n",
      "4. Lingkaran\n",
      "Panjang Segiempat :  2\n",
      "Lebar Segiempat :  3\n",
      "Luas Segiempat :  6\n",
      "Program Selesai\n"
     ]
    }
   ],
   "metadata": {}
  },
  {
   "cell_type": "markdown",
   "source": [
    "# latihan 8"
   ],
   "metadata": {}
  },
  {
   "cell_type": "code",
   "execution_count": 4,
   "source": [
    "import bentuk3D\r\n",
    "\r\n",
    "print(\"Perhitungan 3 Dimensi\")\r\n",
    "print(\"1. Balok\")\r\n",
    "print(\"2. Kubus\")\r\n",
    "print(\"3. Tabung\")\r\n",
    "\r\n",
    "ulang = \"y\"\r\n",
    "while ulang == \"Y\" or ulang == \"y\" :\r\n",
    "    pilihan = input(\"Masukkan Pilihan Anda : \")\r\n",
    "\r\n",
    "    if pilihan == '1' :\r\n",
    "        bentuk3D.balok()\r\n",
    "\r\n",
    "    elif pilihan == '2' :\r\n",
    "        bentuk3D.kubus()\r\n",
    "\r\n",
    "    elif pilihan == '3' :\r\n",
    "        bentuk3D.tabung()\r\n",
    "        \r\n",
    "    else :\r\n",
    "        print(\"Tidak ada di Pilihan\")\r\n",
    "\r\n",
    "    ulang = input(\"Apakah Anda ingin mengulang?(y/t) \")\r\n",
    "\r\n",
    "else :\r\n",
    "    print(\"Program Selesai\")\r\n",
    "    exit"
   ],
   "outputs": [
    {
     "output_type": "stream",
     "name": "stdout",
     "text": [
      "Perhitungan 3 Dimensi\n",
      "1. Balok\n",
      "2. Kubus\n",
      "3. Tabung\n",
      "Panjang balok :  2\n",
      "Lebar balok :  3\n",
      "Tinggi balok :  4\n",
      "Volume balok :  24\n",
      "Program Selesai\n"
     ]
    }
   ],
   "metadata": {}
  },
  {
   "cell_type": "code",
   "execution_count": null,
   "source": [],
   "outputs": [],
   "metadata": {}
  }
 ],
 "metadata": {
  "kernelspec": {
   "name": "python3",
   "display_name": "Python 3.9.0 64-bit"
  },
  "language_info": {
   "codemirror_mode": {
    "name": "ipython",
    "version": 3
   },
   "file_extension": ".py",
   "mimetype": "text/x-python",
   "name": "python",
   "nbconvert_exporter": "python",
   "pygments_lexer": "ipython3",
   "version": "3.9.0"
  },
  "interpreter": {
   "hash": "d21333ff62c43b8d3f22f2fffa3b7389f580599dfc1ab4fc74fc1532be50abca"
  }
 },
 "nbformat": 4,
 "nbformat_minor": 4
}