{
 "cells": [
  {
   "cell_type": "markdown",
   "source": [
    "# latihan 1"
   ],
   "metadata": {}
  },
  {
   "cell_type": "code",
   "execution_count": 1,
   "source": [
    "import numpy as np\r\n",
    "\r\n",
    "arr = np.array([1,2,7,6,5,4,3,8])\r\n",
    "print(arr)\r\n",
    "\r\n",
    "print(np.append(arr,[1,2]))\r\n",
    "\r\n",
    "print(np.delete(arr,1))\r\n",
    "\r\n",
    "print(np.sort(arr))"
   ],
   "outputs": [
    {
     "output_type": "stream",
     "name": "stdout",
     "text": [
      "[1 2 7 6 5 4 3 8]\n",
      "[1 2 7 6 5 4 3 8 1 2]\n",
      "[1 7 6 5 4 3 8]\n",
      "[1 2 3 4 5 6 7 8]\n"
     ]
    }
   ],
   "metadata": {}
  },
  {
   "cell_type": "markdown",
   "source": [
    "# latihan 2"
   ],
   "metadata": {}
  },
  {
   "cell_type": "code",
   "execution_count": 3,
   "source": [
    "import numpy as np\r\n",
    "\r\n",
    "ex = np.array([[[1,2,3,4],\r\n",
    "                [5,6,7,8]],\r\n",
    "\r\n",
    "                [[9,10,11,12],\r\n",
    "                [13,14,15,16]],\r\n",
    "\r\n",
    "                [[17,18,19,20],\r\n",
    "                [21,22,23,24]]])\r\n",
    "print(ex)\r\n",
    "\r\n",
    "print(ex.ndim)\r\n",
    "print(ex.size)\r\n",
    "print(ex.shape)\r\n",
    "\r\n"
   ],
   "outputs": [
    {
     "output_type": "stream",
     "name": "stdout",
     "text": [
      "[[[ 1  2  3  4]\n",
      "  [ 5  6  7  8]]\n",
      "\n",
      " [[ 9 10 11 12]\n",
      "  [13 14 15 16]]\n",
      "\n",
      " [[17 18 19 20]\n",
      "  [21 22 23 24]]]\n",
      "3\n",
      "24\n",
      "(3, 2, 4)\n"
     ]
    }
   ],
   "metadata": {}
  },
  {
   "cell_type": "markdown",
   "source": [
    "# latihan 3"
   ],
   "metadata": {}
  },
  {
   "cell_type": "code",
   "execution_count": 4,
   "source": [
    "import numpy as np\r\n",
    "ex = np.array([1,2,3,4,5,6,7,8,9,10,11,12,13,14,15,16,17,18,19,20,21,22,23,24])\r\n",
    "\r\n",
    "print(ex)\r\n",
    "\r\n",
    "print(ex.reshape(3,2,4))"
   ],
   "outputs": [
    {
     "output_type": "stream",
     "name": "stdout",
     "text": [
      "[ 1  2  3  4  5  6  7  8  9 10 11 12 13 14 15 16 17 18 19 20 21 22 23 24]\n",
      "[[[ 1  2  3  4]\n",
      "  [ 5  6  7  8]]\n",
      "\n",
      " [[ 9 10 11 12]\n",
      "  [13 14 15 16]]\n",
      "\n",
      " [[17 18 19 20]\n",
      "  [21 22 23 24]]]\n"
     ]
    }
   ],
   "metadata": {}
  },
  {
   "cell_type": "markdown",
   "source": [
    "# latihan 4"
   ],
   "metadata": {}
  },
  {
   "cell_type": "code",
   "execution_count": 5,
   "source": [
    "import numpy as np\r\n",
    "ex = np.array([1,2,3,4,5,6,7,8,9,10])\r\n",
    "\r\n",
    "ex2 = np.expand_dims(ex, axis=1)\r\n",
    "print(ex2.shape)\r\n",
    "\r\n",
    "ex3 = np.expand_dims(ex, axis=0)\r\n",
    "print(ex3.shape)\r\n",
    "\r\n",
    "ex4 = ex[np.newaxis]\r\n",
    "print(ex4.shape)\r\n",
    "\r\n",
    "ex5 = ex[:, np.newaxis]\r\n",
    "print(ex5.shape)\r\n",
    "\r\n"
   ],
   "outputs": [
    {
     "output_type": "stream",
     "name": "stdout",
     "text": [
      "(10, 1)\n",
      "(1, 10)\n",
      "(1, 10)\n",
      "(10, 1)\n"
     ]
    }
   ],
   "metadata": {}
  },
  {
   "cell_type": "markdown",
   "source": [
    "# latihan 5"
   ],
   "metadata": {}
  },
  {
   "cell_type": "code",
   "execution_count": 6,
   "source": [
    "import numpy as np\r\n",
    "a1 = np.array([[11,12,13,14], [15,16,17,18], [19,20,21,22], [23,24,25,26], [27,28,29,30]])\r\n",
    "\r\n",
    "print(a1)\r\n",
    "print(a1[a1>=13])\r\n",
    "a2 = (a1>=10)\r\n",
    "print(a1[a2])\r\n",
    "print(a1[a1%2==1])\r\n",
    "print(a1[a1%2==0])\r\n",
    "\r\n",
    "a3 = np.array([1,2,3,4,5,6,7,8,9,10])\r\n",
    "aa = a3[5:7]\r\n",
    "print(aa)"
   ],
   "outputs": [
    {
     "output_type": "stream",
     "name": "stdout",
     "text": [
      "[[11 12 13 14]\n",
      " [15 16 17 18]\n",
      " [19 20 21 22]\n",
      " [23 24 25 26]\n",
      " [27 28 29 30]]\n",
      "[13 14 15 16 17 18 19 20 21 22 23 24 25 26 27 28 29 30]\n",
      "[11 12 13 14 15 16 17 18 19 20 21 22 23 24 25 26 27 28 29 30]\n",
      "[11 13 15 17 19 21 23 25 27 29]\n",
      "[12 14 16 18 20 22 24 26 28 30]\n",
      "[6 7]\n"
     ]
    }
   ],
   "metadata": {}
  },
  {
   "cell_type": "markdown",
   "source": [
    "# latihan 6"
   ],
   "metadata": {}
  },
  {
   "cell_type": "code",
   "execution_count": 7,
   "source": [
    "import numpy as np\r\n",
    "a1 = np.array([[1,1],[2,2]])\r\n",
    "a2 = np.array([[3,3],[4,4]])\r\n",
    "print(a1)\r\n",
    "print(a2)\r\n",
    "\r\n",
    "print(np.vstack((a1,a2)))\r\n",
    "print(np.hstack((a1,a2)))\r\n",
    "\r\n",
    "x1 = np.array([1,2,3,4,5,6,7,8,9,10,11,12,13,14,15,16,17,18,19,20,21,22,23,24])\r\n",
    "x2 = np.hsplit(x1,4)\r\n",
    "x3 = x1.view()\r\n",
    "x4 = x1.copy()\r\n",
    "print(x1)\r\n",
    "print(x2)\r\n",
    "print(x3)\r\n",
    "print(x4)"
   ],
   "outputs": [
    {
     "output_type": "stream",
     "name": "stdout",
     "text": [
      "[[1 1]\n",
      " [2 2]]\n",
      "[[3 3]\n",
      " [4 4]]\n",
      "[[1 1]\n",
      " [2 2]\n",
      " [3 3]\n",
      " [4 4]]\n",
      "[[1 1 3 3]\n",
      " [2 2 4 4]]\n",
      "[ 1  2  3  4  5  6  7  8  9 10 11 12 13 14 15 16 17 18 19 20 21 22 23 24]\n",
      "[array([1, 2, 3, 4, 5, 6]), array([ 7,  8,  9, 10, 11, 12]), array([13, 14, 15, 16, 17, 18]), array([19, 20, 21, 22, 23, 24])]\n",
      "[ 1  2  3  4  5  6  7  8  9 10 11 12 13 14 15 16 17 18 19 20 21 22 23 24]\n",
      "[ 1  2  3  4  5  6  7  8  9 10 11 12 13 14 15 16 17 18 19 20 21 22 23 24]\n"
     ]
    }
   ],
   "metadata": {}
  },
  {
   "cell_type": "code",
   "execution_count": null,
   "source": [],
   "outputs": [],
   "metadata": {}
  }
 ],
 "metadata": {
  "orig_nbformat": 4,
  "language_info": {
   "name": "python",
   "version": "3.9.0",
   "mimetype": "text/x-python",
   "codemirror_mode": {
    "name": "ipython",
    "version": 3
   },
   "pygments_lexer": "ipython3",
   "nbconvert_exporter": "python",
   "file_extension": ".py"
  },
  "kernelspec": {
   "name": "python3",
   "display_name": "Python 3.9.0 64-bit"
  },
  "interpreter": {
   "hash": "d21333ff62c43b8d3f22f2fffa3b7389f580599dfc1ab4fc74fc1532be50abca"
  }
 },
 "nbformat": 4,
 "nbformat_minor": 2
}